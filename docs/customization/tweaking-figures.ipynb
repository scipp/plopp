{
 "cells": [
  {
   "cell_type": "markdown",
   "id": "f8d4e37a-954f-4d11-bee7-54ec24ea4150",
   "metadata": {},
   "source": [
    "# Tweaking figures\n",
    "\n",
    "Most of the customization typically needed when exploring and visualizing your data is covered by the keyword arguments illustated in the\n",
    "[line-plot](../user-guide/line-plot.html) and [image-plot](../user-guide/image-plot.html) notebooks.\n",
    "However, getting figures ready for publication often requires more fine-grained tuning.\n",
    "\n",
    "Instead of providing keyword arguments for tweaking every aspect of the figures,\n",
    "we provide accessors to the underlying Matplotlib `Figure` and `Axes` objects,\n",
    "that can then directly be used to make the required modifications."
   ]
  },
  {
   "cell_type": "code",
   "execution_count": null,
   "id": "425a00ba-9bb4-4834-9e64-3a323aa5b5d8",
   "metadata": {},
   "outputs": [],
   "source": [
    "%matplotlib inline\n",
    "import scipp as sc\n",
    "import plopp as pp\n",
    "import numpy as np\n",
    "import matplotlib.pyplot as plt\n",
    "\n",
    "da = pp.data.data_array(ndim=1)"
   ]
  },
  {
   "cell_type": "markdown",
   "id": "832ae288-3562-485a-8417-df8071076a90",
   "metadata": {},
   "source": [
    "## Changing axes labels\n",
    "\n",
    "By default, Plopp will add labels on the horizontal and vertical axes to the best of its knowledge."
   ]
  },
  {
   "cell_type": "code",
   "execution_count": null,
   "id": "2946fe4c-7519-46cd-b455-bbc96cb6163e",
   "metadata": {},
   "outputs": [],
   "source": [
    "p = pp.plot(da)\n",
    "p"
   ]
  },
  {
   "cell_type": "markdown",
   "id": "b6cd43b7-34d8-45ba-a4a2-b14c9c9ebad8",
   "metadata": {},
   "source": [
    "To change the label of the vertical axis, we act directly on the Matplotlib axes via the `.ax` property of the figure:"
   ]
  },
  {
   "cell_type": "code",
   "execution_count": null,
   "id": "32ca2841-4a05-4b15-bc1f-dfa3f66b3f54",
   "metadata": {},
   "outputs": [],
   "source": [
    "p.ax.set_ylabel('Phase of sound wave')\n",
    "p"
   ]
  },
  {
   "cell_type": "markdown",
   "id": "091f34e3-49e2-492e-b70f-f34161e1cb24",
   "metadata": {},
   "source": [
    "The location of the ticks, as well as their labels, can also be changed in the same way"
   ]
  },
  {
   "cell_type": "code",
   "execution_count": null,
   "id": "acb497d2-3338-431d-af5b-d69de86b9bf6",
   "metadata": {},
   "outputs": [],
   "source": [
    "p.ax.set_yticks([-1.0, -0.5, 0, 0.5, 1.0])\n",
    "p.ax.set_yticklabels([r'$-\\pi$', r'$-\\pi / 2$', '0', r'$\\pi / 2$', r'$\\pi$'])\n",
    "p"
   ]
  },
  {
   "cell_type": "markdown",
   "id": "a9a8ca49-7df0-4647-96af-8e709c328834",
   "metadata": {},
   "source": [
    "## Adding a figure title\n",
    "\n",
    "To add a title to the figure, use the `title` argument:"
   ]
  },
  {
   "cell_type": "code",
   "execution_count": null,
   "id": "e7f8016d-1b89-4786-914c-6d45e76c91a1",
   "metadata": {},
   "outputs": [],
   "source": [
    "pp.plot(da, title='This is my figure title')"
   ]
  },
  {
   "cell_type": "markdown",
   "id": "feb71340-7acb-45d6-b83e-68bb2322b48b",
   "metadata": {},
   "source": [
    "## Axes placement\n",
    "\n",
    "To control the exact placement of the axes,\n",
    "it is best to first create the axes manually with Matplotlib and then attaching the Plopp figure to them via the `ax` argument."
   ]
  },
  {
   "cell_type": "code",
   "execution_count": null,
   "id": "a14f634b-7512-4f2b-a555-921482e24acc",
   "metadata": {},
   "outputs": [],
   "source": [
    "a = pp.data.data_array(ndim=1) * 5.0\n",
    "b = a + sc.array(dims=a.dims,\n",
    "                 values=np.random.random(a.shape[0]) - 0.5,\n",
    "                 unit=a.unit)\n",
    "\n",
    "fig = plt.figure(figsize=(5, 4))\n",
    "ax0 = fig.add_axes([0.0, 0.2, 1.0, 0.8])\n",
    "ax1 = fig.add_axes([0.0, 0.0, 1.0, 0.2])\n",
    "\n",
    "pp.plot({'a': a, 'b': b}, ax=ax0)\n",
    "pp.plot(a - b, ax=ax1)\n",
    "\n",
    "ax0.xaxis.tick_top()\n",
    "ax0.xaxis.set_label_position('top')\n",
    "ax1.set_ylabel('Residuals')"
   ]
  },
  {
   "cell_type": "markdown",
   "id": "efbbbcd7-b18d-4a79-b72c-2170451cc9a8",
   "metadata": {},
   "source": [
    "It is also possible to control the placement of the colorbar for image plots using the `cax` argument:"
   ]
  },
  {
   "cell_type": "code",
   "execution_count": null,
   "id": "80ebdd5a-be59-41a1-a8fd-628bc5ab8f00",
   "metadata": {},
   "outputs": [],
   "source": [
    "da = pp.data.data_array(ndim=3)\n",
    "\n",
    "fig, ax = plt.subplots(2, 1, figsize=(5, 8))\n",
    "cax = fig.add_axes([1.0, 0.3, 0.03, 0.5])\n",
    "\n",
    "pz = pp.plot(da['z', 0], ax=ax[0], cax=cax)\n",
    "py = pp.plot(da['y', -1], ax=ax[1], cbar=False)"
   ]
  }
 ],
 "metadata": {
  "kernelspec": {
   "display_name": "Python 3 (ipykernel)",
   "language": "python",
   "name": "python3"
  },
  "language_info": {
   "codemirror_mode": {
    "name": "ipython",
    "version": 3
   },
   "file_extension": ".py",
   "mimetype": "text/x-python",
   "name": "python",
   "nbconvert_exporter": "python",
   "pygments_lexer": "ipython3",
   "version": "3.9.13"
  }
 },
 "nbformat": 4,
 "nbformat_minor": 5
}
