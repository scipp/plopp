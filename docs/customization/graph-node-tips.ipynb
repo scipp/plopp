{
 "cells": [
  {
   "cell_type": "markdown",
   "id": "0",
   "metadata": {},
   "source": [
    "# Graph and node tips\n",
    "\n",
    "This notebook is about helpful tips or tricks you can use when working with nodes of a custom interface graph you have built.\n",
    "\n",
    "It assumes that you have already explored the notebook on [creating custom interfaces](custom-interfaces.ipynb),\n",
    "which is a pre-requisite to understanding the content here."
   ]
  },
  {
   "cell_type": "code",
   "execution_count": null,
   "id": "1",
   "metadata": {},
   "outputs": [],
   "source": [
    "%matplotlib widget\n",
    "import plopp as pp\n",
    "import scipp as sc\n",
    "import numpy as np"
   ]
  },
  {
   "cell_type": "markdown",
   "id": "2",
   "metadata": {},
   "source": [
    "## Node operators\n",
    "\n",
    "<div class=\"versionadded\" style=\"font-weight: bold;\">\n",
    "\n",
    "<img src=\"../../_static/circle-exclamation.svg\" width=\"16\" height=\"16\" />\n",
    "&nbsp;\n",
    "New in version 23.04.0.\n",
    "\n",
    "</div>\n",
    "\n",
    "We have seen in [the previous notebook](custom-interfaces.ipynb) how functions/callables wrapped in a `Node` are used to represent operations between different data sources.\n",
    "\n",
    "It can sometimes be useful to know that nodes also have operators,\n",
    "and simple operations can be implemented in a short-hand way, instead of defining functions such as `add` or `multiply`.\n",
    "\n",
    "Consider for example"
   ]
  },
  {
   "cell_type": "code",
   "execution_count": null,
   "id": "3",
   "metadata": {},
   "outputs": [],
   "source": [
    "a = pp.Node(np.array([1, 2, 3, 4, 5]))\n",
    "b = pp.Node(np.array([6, 7, 8, 9, 10]))"
   ]
  },
  {
   "cell_type": "markdown",
   "id": "4",
   "metadata": {},
   "source": [
    "The 'classical' way of adding the data from `a` and `b` would be to wrap an `add` function in a `Node` as follows:"
   ]
  },
  {
   "cell_type": "code",
   "execution_count": null,
   "id": "5",
   "metadata": {},
   "outputs": [],
   "source": [
    "def add(x, y):\n",
    "    return x + y\n",
    "\n",
    "\n",
    "c = pp.Node(add, a, b)\n",
    "c()"
   ]
  },
  {
   "cell_type": "markdown",
   "id": "6",
   "metadata": {},
   "source": [
    "However, this short-hand is also possible:"
   ]
  },
  {
   "cell_type": "code",
   "execution_count": null,
   "id": "7",
   "metadata": {},
   "outputs": [],
   "source": [
    "c = a + b\n",
    "c()"
   ]
  },
  {
   "cell_type": "markdown",
   "id": "8",
   "metadata": {},
   "source": [
    "Operators also work with normal Python objects, which simply get wrapped in a `Node`:"
   ]
  },
  {
   "cell_type": "code",
   "execution_count": null,
   "id": "9",
   "metadata": {},
   "outputs": [],
   "source": [
    "c = a * 33.0\n",
    "c()"
   ]
  },
  {
   "cell_type": "markdown",
   "id": "10",
   "metadata": {},
   "source": [
    "### A short example"
   ]
  },
  {
   "cell_type": "code",
   "execution_count": null,
   "id": "11",
   "metadata": {},
   "outputs": [],
   "source": [
    "noise = 0.5 * (np.random.random(100) - 0.5)\n",
    "signal = np.sin(0.1 * np.arange(100.0)) + noise\n",
    "\n",
    "# Noisy data\n",
    "a = pp.Node(\n",
    "    sc.DataArray(\n",
    "        data=sc.array(dims=['time'], values=signal),\n",
    "        coords={'time': sc.arange('time', 100.0, unit='s')},\n",
    "    )\n",
    ")\n",
    "fig = pp.linefigure(a)\n",
    "fig"
   ]
  },
  {
   "cell_type": "code",
   "execution_count": null,
   "id": "12",
   "metadata": {},
   "outputs": [],
   "source": [
    "b = pp.Node(\n",
    "    sc.DataArray(\n",
    "        data=sc.array(dims=['time'], values=noise),\n",
    "        coords={'time': sc.arange('time', 100.0, unit='s')},\n",
    "    )\n",
    ")\n",
    "\n",
    "# Remove noise from signal\n",
    "diff = a - b\n",
    "pp.linefigure(diff)"
   ]
  },
  {
   "cell_type": "markdown",
   "id": "13",
   "metadata": {},
   "source": [
    "## Using plotting functions in a graph\n",
    "\n",
    "<div class=\"versionadded\" style=\"font-weight: bold;\">\n",
    "\n",
    "<img src=\"../../_static/circle-exclamation.svg\" width=\"16\" height=\"16\" />\n",
    "&nbsp;\n",
    "New in version 23.10.0.\n",
    "\n",
    "</div>\n",
    "\n",
    "All the examples for working with nodes and graphs presented so far have been using the lower-level `linefigure`, `imagefigure` and `scatter3dfigure` as views for the data.\n",
    "\n",
    "These functions accept graph nodes as input, and provide visualizations for 1D, 2D or scatter 3D data.\n",
    "\n",
    "However, say that at the end point of a graph, in the node that is providing the final result, the data still has three dimensions.\n",
    "One common way of visualizing such data is as a 2D image with a slider to navigate the third dimension.\n",
    "\n",
    "Instead of having to manually set up a slider and a node for the slicing,\n",
    "it is possible to use Plopp's higher-level plotting functions directly as part of a graph.\n",
    "In our present example, this would be the [slicer plot](../plot-types/slicer-plot.ipynb)."
   ]
  },
  {
   "cell_type": "code",
   "execution_count": null,
   "id": "14",
   "metadata": {},
   "outputs": [],
   "source": [
    "# Make a 3D array with random values\n",
    "da = pp.data.random((100, 150, 200))\n",
    "da"
   ]
  },
  {
   "cell_type": "code",
   "execution_count": null,
   "id": "15",
   "metadata": {},
   "outputs": [],
   "source": [
    "import ipywidgets as ipw\n",
    "from scipp.scipy.ndimage import gaussian_filter\n",
    "\n",
    "# Raw data root node\n",
    "data_node = pp.Node(da)\n",
    "\n",
    "# Slider to control width of smoothing kernel\n",
    "slider = ipw.IntSlider(min=1, max=20, description=\"Smoothing\")\n",
    "slider_node = pp.widget_node(slider)\n",
    "\n",
    "# Node that performs the gaussian smoothing\n",
    "smooth_node = pp.Node(gaussian_filter, data_node, sigma=slider_node)\n",
    "\n",
    "pp.show_graph(smooth_node)"
   ]
  },
  {
   "cell_type": "code",
   "execution_count": null,
   "id": "16",
   "metadata": {},
   "outputs": [],
   "source": [
    "# Attach the `slicer` plot to the bottom node\n",
    "fig = pp.slicer(smooth_node)\n",
    "ipw.VBox([slider, fig])"
   ]
  },
  {
   "cell_type": "markdown",
   "id": "17",
   "metadata": {},
   "source": [
    "We now have a slider at the top that controls the width of the smoothing kernel,\n",
    "and a second slider at the bottom that can navigate the `z` dimension.\n",
    "\n",
    "The final node graph is"
   ]
  },
  {
   "cell_type": "code",
   "execution_count": null,
   "id": "18",
   "metadata": {},
   "outputs": [],
   "source": [
    "pp.show_graph(data_node)"
   ]
  }
 ],
 "metadata": {
  "kernelspec": {
   "display_name": "Python 3 (ipykernel)",
   "language": "python",
   "name": "python3"
  },
  "language_info": {
   "codemirror_mode": {
    "name": "ipython",
    "version": 3
   },
   "file_extension": ".py",
   "mimetype": "text/x-python",
   "name": "python",
   "nbconvert_exporter": "python",
   "pygments_lexer": "ipython3"
  }
 },
 "nbformat": 4,
 "nbformat_minor": 5
}
