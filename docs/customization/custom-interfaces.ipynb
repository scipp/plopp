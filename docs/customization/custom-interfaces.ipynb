{
 "cells": [
  {
   "cell_type": "markdown",
   "id": "0",
   "metadata": {},
   "source": [
    "# Building custom interfaces\n",
    "\n",
    "This notebook will demonstrate how to create custom interactive interfaces to visualize a data set with `plopp`."
   ]
  },
  {
   "cell_type": "code",
   "execution_count": null,
   "id": "1",
   "metadata": {},
   "outputs": [],
   "source": [
    "%matplotlib widget\n",
    "import plopp as pp\n",
    "import scipp as sc\n",
    "import numpy as np"
   ]
  },
  {
   "cell_type": "markdown",
   "id": "2",
   "metadata": {},
   "source": [
    "The data is a two-dimensional data array, where the values are generated using a sine function.\n",
    "We also add a small amount of random noise to the values."
   ]
  },
  {
   "cell_type": "code",
   "execution_count": null,
   "id": "3",
   "metadata": {},
   "outputs": [],
   "source": [
    "nx = 200\n",
    "ny = 150\n",
    "\n",
    "x = np.arange(float(nx))\n",
    "y = np.arange(float(ny))\n",
    "noise = np.random.random((ny, nx))\n",
    "z = 3.0 * np.sin(np.sqrt(x**2 + y.reshape(ny, 1) ** 2) / 10.0) + noise + 300.0\n",
    "\n",
    "da = sc.DataArray(\n",
    "    data=sc.array(dims=['y', 'x'], values=z, unit='K'),\n",
    "    coords={\n",
    "        'x': sc.array(dims=['x'], values=x, unit='m'),\n",
    "        'y': sc.array(dims=['y'], values=y, unit='m'),\n",
    "    },\n",
    ")\n",
    "\n",
    "da"
   ]
  },
  {
   "cell_type": "markdown",
   "id": "4",
   "metadata": {},
   "source": [
    "## A set of connected nodes\n",
    "\n",
    "In `plopp`, think of each element in your interface as a set of interconnected nodes in a graph.\n",
    "Each node can have parent nodes, children nodes, and also views attached to them (e.g. figures).\n",
    "\n",
    "At the most basic level, a graph will contain a node (white rectangle) that provides the input data,\n",
    "and a view (grey ellipse) which will be a figure to display the data visually.\n",
    "Note that the figure takes as input the `data_node`."
   ]
  },
  {
   "cell_type": "code",
   "execution_count": null,
   "id": "5",
   "metadata": {},
   "outputs": [],
   "source": [
    "data_node = pp.Node(da)\n",
    "\n",
    "fig = pp.imagefigure(data_node)\n",
    "\n",
    "pp.show_graph(data_node)  # display the graph"
   ]
  },
  {
   "cell_type": "markdown",
   "id": "6",
   "metadata": {},
   "source": [
    "When the data in the input node changes, the view is notified about the change.\n",
    "It requests new data from its parent node and updates the visuals on the figure.\n",
    "\n",
    "The figure can directly be displayed in the notebook:"
   ]
  },
  {
   "cell_type": "code",
   "execution_count": null,
   "id": "7",
   "metadata": {},
   "outputs": [],
   "source": [
    "fig"
   ]
  },
  {
   "cell_type": "markdown",
   "id": "8",
   "metadata": {},
   "source": [
    "### Nodes are callables\n",
    "\n",
    "Nodes in the graph have to be constructed from callables.\n",
    "When a view requests data from a parent node, the callable is called.\n",
    "Typically, the callable will be a function that takes in a data array as an input,\n",
    "and returns a data array as an output.\n",
    "\n",
    "Keeping your inputs and outputs as data arrays is useful because figure views will only accept data arrays as input.\n",
    "That said, nodes that produce other outputs are very common, for example when using interactive widgets.\n",
    "\n",
    "In the small example above, the node at the top of the graph has no parents,\n",
    "and its callable is simply a `lambda` function with no arguments that just returns the input data.\n",
    "\n",
    "Calling any node will return the output from its internal callable\n",
    "(this is very similar to [Dask's](https://docs.dask.org/en/stable/delayed.html) `delayed.compute()` method).\n",
    "In our example above, calling `data_node` will simply return the initial data array"
   ]
  },
  {
   "cell_type": "code",
   "execution_count": null,
   "id": "9",
   "metadata": {},
   "outputs": [],
   "source": [
    "data_node()"
   ]
  },
  {
   "cell_type": "markdown",
   "id": "10",
   "metadata": {},
   "source": [
    "But for more complex graphs, the call will walk the tree, requesting all the pieces of data it needs to compute the final result.\n",
    "\n",
    "## Expanding the graph\n",
    "\n",
    "Next, say we wish to add a gaussian smoothing step in our graph, before showing the data on the figure.\n",
    "We start with the same `data_node`, but add a second node that performs the smoothing operation before attaching the figure.\n",
    "Because the `gaussian_filter` function requires a kernel width `sigma` as input, we set it to 5 via a keyword argument\n",
    "(note here that it is not necessary to wrap it into a `Node`, this will automatically be handled internally)."
   ]
  },
  {
   "cell_type": "code",
   "execution_count": null,
   "id": "11",
   "metadata": {},
   "outputs": [],
   "source": [
    "from scipp.scipy.ndimage import gaussian_filter\n",
    "\n",
    "data_node = pp.Node(da)\n",
    "\n",
    "smooth_node = pp.Node(gaussian_filter, data_node, sigma=5)\n",
    "\n",
    "fig = pp.imagefigure(smooth_node)"
   ]
  },
  {
   "cell_type": "markdown",
   "id": "12",
   "metadata": {},
   "source": [
    "The resulting graph has two input nodes (one for the data array and one for the kernel width), a smoothing node, and a figure:"
   ]
  },
  {
   "cell_type": "code",
   "execution_count": null,
   "id": "13",
   "metadata": {},
   "outputs": [],
   "source": [
    "pp.show_graph(data_node)"
   ]
  },
  {
   "cell_type": "markdown",
   "id": "14",
   "metadata": {},
   "source": [
    "And the resulting figure displays the smoothed data:"
   ]
  },
  {
   "cell_type": "code",
   "execution_count": null,
   "id": "15",
   "metadata": {},
   "outputs": [],
   "source": [
    "fig"
   ]
  },
  {
   "cell_type": "markdown",
   "id": "16",
   "metadata": {},
   "source": [
    "## Adding interactive widgets\n",
    "\n",
    "In the example above, the kernel size `sigma` for the gaussian smoothing was frozen to `5`.\n",
    "But we would actually want to control this via a slider widget.\n",
    "\n",
    "In this case, the smoothing node now needs two inputs: the raw data, and the `sigma`.\n",
    "It gets the raw data from the `data_node`, and the `sigma` from a `widget_node`,\n",
    "which is coupled to a slider from the `ipywidgets` library."
   ]
  },
  {
   "cell_type": "code",
   "execution_count": null,
   "id": "17",
   "metadata": {},
   "outputs": [],
   "source": [
    "import ipywidgets as ipw\n",
    "\n",
    "data_node = pp.Node(da)\n",
    "\n",
    "slider = ipw.IntSlider(min=1, max=20)\n",
    "slider_node = pp.widget_node(slider)\n",
    "\n",
    "smooth_node = pp.Node(gaussian_filter, data_node, sigma=slider_node)\n",
    "\n",
    "fig = pp.imagefigure(smooth_node)"
   ]
  },
  {
   "cell_type": "markdown",
   "id": "18",
   "metadata": {},
   "source": [
    "As expected, the smoothing node now has a widget as one of its parent nodes instead of the fixed-value input node:"
   ]
  },
  {
   "cell_type": "code",
   "execution_count": null,
   "id": "19",
   "metadata": {},
   "outputs": [],
   "source": [
    "pp.show_graph(fig)"
   ]
  },
  {
   "cell_type": "markdown",
   "id": "20",
   "metadata": {},
   "source": [
    "And we can display the figure and the slider inside the same container:"
   ]
  },
  {
   "cell_type": "code",
   "execution_count": null,
   "id": "21",
   "metadata": {},
   "outputs": [],
   "source": [
    "ipw.VBox([slider, fig])"
   ]
  },
  {
   "cell_type": "markdown",
   "id": "22",
   "metadata": {},
   "source": [
    "When a change occurs in one of the nodes, all the nodes below it in the graph are notified about the change (the children nodes receive a notification, and they, in turn, notify their own children).\n",
    "It is then up to each view to decide whether they are interested in the notification or not (usually, most views are interested in all notifications from parents).\n",
    "If they are, they request data from their parent nodes, which in turn request data from their parents, and so on, until the request has reached the top of the graph.\n",
    "\n",
    "As a result, when the slider is dragged, the smoothing node gets notified and tells the figure that a change has occurred.\n",
    "The figure tells `smooth_node` that it wants updated data.\n",
    "`smooth_node` asks nodes `data_node` and `slider_node` for their data.\n",
    "`data_node` returns the raw data, while `slider_node` returns the integer value for the kernel size.\n",
    "`smooth_node` then simply sends the inputs to the `gaussian_filter` function, and forwards the result to the figure."
   ]
  },
  {
   "cell_type": "markdown",
   "id": "23",
   "metadata": {},
   "source": [
    "<div class=\"alert alert-warning\">\n",
    "\n",
    "*Warning*\n",
    "\n",
    "The figure will not update when dragging the slider in the documentation pages.\n",
    "This will only work inside a Jupyter notebook.\n",
    "    \n",
    "</div>"
   ]
  },
  {
   "cell_type": "markdown",
   "id": "24",
   "metadata": {},
   "source": [
    "## Multiple views\n",
    "\n",
    "To go one step further,\n",
    "we now wish to add a one-dimensional figure that will display the sum of the two-dimensional data along the vertical dimension.\n",
    "On this figure, we would like to display both the original (unsmoothed) data, as well as the smoothed data."
   ]
  },
  {
   "cell_type": "code",
   "execution_count": null,
   "id": "25",
   "metadata": {},
   "outputs": [],
   "source": [
    "data_node = pp.Node(da)\n",
    "\n",
    "slider = ipw.IntSlider(min=1, max=20, value=10)\n",
    "slider_node = pp.widget_node(slider)\n",
    "\n",
    "smooth_node = pp.Node(gaussian_filter, data_node, sigma=slider_node)\n",
    "\n",
    "fig2d = pp.imagefigure(smooth_node)\n",
    "\n",
    "# Sum the raw data along the vertical dimension\n",
    "sum_raw = pp.Node(sc.sum, data_node, dim='y')\n",
    "# Sum the smoothed data along the vertical dimension\n",
    "sum_smoothed = pp.Node(sc.sum, smooth_node, dim='y')\n",
    "# Give two nodes to a figure to display both on the same axes\n",
    "fig1d = pp.linefigure(sum_raw, sum_smoothed)"
   ]
  },
  {
   "cell_type": "markdown",
   "id": "26",
   "metadata": {},
   "source": [
    "We check the graph again to make sure that the one-dimensional figure has two inputs,\n",
    "and that both are performing a sum along the `y` dimension."
   ]
  },
  {
   "cell_type": "code",
   "execution_count": null,
   "id": "27",
   "metadata": {},
   "outputs": [],
   "source": [
    "pp.show_graph(slider_node)"
   ]
  },
  {
   "cell_type": "code",
   "execution_count": null,
   "id": "28",
   "metadata": {},
   "outputs": [],
   "source": [
    "ipw.VBox([slider, fig2d, fig1d])"
   ]
  },
  {
   "cell_type": "markdown",
   "id": "29",
   "metadata": {},
   "source": [
    "Because the slider only affects the smoothing part of the graph,\n",
    "only the orange markers will update when we drag the slider.\n",
    "\n",
    "## Multiple controls and the `node` decorator\n",
    "\n",
    "In this section, masks will be added to the raw data,\n",
    "and a widget made of checkboxes will be used to toggle the masks on and off.\n",
    "\n",
    "We make a slightly different interface, where we remove the gaussian smoothing,\n",
    "and instead use the slider to slice rows in the input data."
   ]
  },
  {
   "cell_type": "code",
   "execution_count": null,
   "id": "30",
   "metadata": {},
   "outputs": [],
   "source": [
    "da.masks['close_to_300'] = abs(da.data - sc.scalar(300.0, unit='K')) < sc.scalar(\n",
    "    1.0, unit='K'\n",
    ")\n",
    "da.masks['large_x'] = da.coords['x'] > sc.scalar(150.0, unit='m')\n",
    "da"
   ]
  },
  {
   "cell_type": "markdown",
   "id": "31",
   "metadata": {},
   "source": [
    "The data node remains the same:"
   ]
  },
  {
   "cell_type": "code",
   "execution_count": null,
   "id": "32",
   "metadata": {},
   "outputs": [],
   "source": [
    "data_node = pp.Node(da)"
   ]
  },
  {
   "cell_type": "markdown",
   "id": "33",
   "metadata": {},
   "source": [
    "Next, we create a `Checkboxes` widget which takes in a set of keys/strings as input.\n",
    "It will create a checkbox per entry."
   ]
  },
  {
   "cell_type": "code",
   "execution_count": null,
   "id": "34",
   "metadata": {},
   "outputs": [],
   "source": [
    "from plopp.widgets import Checkboxes, Box\n",
    "\n",
    "masks_widget = Checkboxes(da.masks.keys())\n",
    "masks_widget"
   ]
  },
  {
   "cell_type": "markdown",
   "id": "35",
   "metadata": {},
   "source": [
    "The `.value` of the widget simply contains the values for the individual checkboxes:"
   ]
  },
  {
   "cell_type": "code",
   "execution_count": null,
   "id": "36",
   "metadata": {},
   "outputs": [],
   "source": [
    "masks_widget.value"
   ]
  },
  {
   "cell_type": "markdown",
   "id": "37",
   "metadata": {},
   "source": [
    "We make a node from the checkboxes widget using `widget_node` once again.\n",
    "\n",
    "We can supply custom functions to the `Node` constructor,\n",
    "but it is often useful to decorate our functions with the `plopp.node` decorator,\n",
    "and then call the functions directly.\n",
    "\n",
    "We therefore define a function that will hide masks depending on the checkboxes values,\n",
    "and decorate it with `@pp.node` so that it can accept `data_node` and `masks_node` as inputs."
   ]
  },
  {
   "cell_type": "code",
   "execution_count": null,
   "id": "38",
   "metadata": {},
   "outputs": [],
   "source": [
    "masks_node = pp.widget_node(masks_widget)\n",
    "\n",
    "\n",
    "@pp.node\n",
    "def hide_masks(data_array, masks):\n",
    "    out = data_array.copy(deep=False)\n",
    "    for name, value in masks.items():\n",
    "        if name in out.masks and (not value):\n",
    "            del out.masks[name]\n",
    "    return out\n",
    "\n",
    "\n",
    "hide_node = hide_masks(data_array=data_node, masks=masks_node)"
   ]
  },
  {
   "cell_type": "markdown",
   "id": "39",
   "metadata": {},
   "source": [
    "We then connect the slider to a slicing function,\n",
    "and add that below the `hide_node` in the graph:"
   ]
  },
  {
   "cell_type": "code",
   "execution_count": null,
   "id": "40",
   "metadata": {},
   "outputs": [],
   "source": [
    "@pp.node\n",
    "def slice_y(data_array, index):\n",
    "    return data_array['y', index]\n",
    "\n",
    "\n",
    "slider = ipw.IntSlider(min=0, max=da.sizes['y'] - 1)\n",
    "slider_node = pp.widget_node(slider)\n",
    "\n",
    "slice_node = slice_y(hide_node, index=slider_node)\n",
    "\n",
    "pp.show_graph(masks_node)"
   ]
  },
  {
   "cell_type": "markdown",
   "id": "41",
   "metadata": {},
   "source": [
    "Finally, we add an image figure to the `hide_node`,\n",
    "and a line figure after the slicing has been performed."
   ]
  },
  {
   "cell_type": "code",
   "execution_count": null,
   "id": "42",
   "metadata": {},
   "outputs": [],
   "source": [
    "fig2d = pp.imagefigure(hide_node)\n",
    "fig1d = pp.linefigure(slice_node)\n",
    "\n",
    "pp.show_graph(masks_node)"
   ]
  },
  {
   "cell_type": "code",
   "execution_count": null,
   "id": "43",
   "metadata": {},
   "outputs": [],
   "source": [
    "Box([[slider, masks_widget], fig2d, fig1d])"
   ]
  },
  {
   "cell_type": "markdown",
   "id": "44",
   "metadata": {},
   "source": [
    "Note that the masks update on both the 1D and 2D figures,\n",
    "because the checkboxes widget lies at the very top of the graph."
   ]
  }
 ],
 "metadata": {
  "kernelspec": {
   "display_name": "Python 3 (ipykernel)",
   "language": "python",
   "name": "python3"
  },
  "language_info": {
   "codemirror_mode": {
    "name": "ipython",
    "version": 3
   },
   "file_extension": ".py",
   "mimetype": "text/x-python",
   "name": "python",
   "nbconvert_exporter": "python",
   "pygments_lexer": "ipython3"
  }
 },
 "nbformat": 4,
 "nbformat_minor": 5
}
