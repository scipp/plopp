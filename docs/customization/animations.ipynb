{
 "cells": [
  {
   "cell_type": "markdown",
   "id": "377e792f-9f68-4b89-b1a9-4631b3a0d469",
   "metadata": {},
   "source": [
    "# Animations\n",
    "\n",
    "To create animations with Plopp, we make use of the [node mechanism](custom-interfaces.ipynb)\n",
    "and leverage [Matplotlib's support for animations](https://matplotlib.org/stable/users/explain/animations/animations.html).\n",
    "\n",
    "## 1D animations"
   ]
  },
  {
   "cell_type": "code",
   "execution_count": null,
   "id": "4c3174b0-80eb-43c4-a82f-fa2628e1894e",
   "metadata": {},
   "outputs": [],
   "source": [
    "import plopp as pp\n",
    "from plopp.data.examples import three_bands\n",
    "import matplotlib.animation as animation"
   ]
  },
  {
   "cell_type": "markdown",
   "id": "180c6024-8f0b-4079-a861-c89feca79db3",
   "metadata": {},
   "source": [
    "We load the data and display it in a figure:"
   ]
  },
  {
   "cell_type": "code",
   "execution_count": null,
   "id": "b4ee54ce-4c61-48bc-9c22-63edb0999b79",
   "metadata": {},
   "outputs": [],
   "source": [
    "da = three_bands()\n",
    "da.plot(norm='log')"
   ]
  },
  {
   "cell_type": "markdown",
   "id": "7d9bea7f-bf2e-40ad-a24a-dac680caf958",
   "metadata": {},
   "source": [
    "We now create an animation where we are scanning the vertical `y` direction of the data,\n",
    "making a plot of each slice in each step of the animation.\n",
    "\n",
    "On every call to the `update` function passed to Matplotlib's `FuncAnimation`,\n",
    "we update the index node and notify the children nodes of the change.\n",
    "This updates the figure at every step.\n",
    "\n",
    "Finally, we save the animation to a `.gif` file.\n",
    "See [here](https://matplotlib.org/stable/users/explain/animations/animations.html#saving-animations)\n",
    "for the possible formats animations can be saved in."
   ]
  },
  {
   "cell_type": "code",
   "execution_count": null,
   "id": "507165a5-9e09-4bba-9991-09e8298c145f",
   "metadata": {},
   "outputs": [],
   "source": [
    "data_node = pp.Node(da)\n",
    "index_node = pp.Node(0)\n",
    "# Here, 'y' is the dimension you want to slice\n",
    "slice_node = pp.Node(lambda da, ind: da['y', ind], da=data_node, ind=index_node)\n",
    "\n",
    "f = pp.linefigure(slice_node)\n",
    "\n",
    "def update(frame):\n",
    "    index_node.func = lambda: frame\n",
    "    index_node.notify_children('')\n",
    "\n",
    "ani = animation.FuncAnimation(fig=f.fig, func=update, frames=200, interval=100)\n",
    "ani.save(filename=\"animation_1d.gif\", writer=\"pillow\")"
   ]
  },
  {
   "cell_type": "markdown",
   "id": "95933a46-473a-45f1-8ebe-e6a9546479c4",
   "metadata": {},
   "source": [
    "We can now load the GIF image and display it:"
   ]
  },
  {
   "cell_type": "code",
   "execution_count": null,
   "id": "4f5f41b8-bfec-4192-b767-61bfc1cf0fb4",
   "metadata": {},
   "outputs": [],
   "source": [
    "import ipywidgets as ipw\n",
    "\n",
    "ipw.Image(value=open(\"animation_1d.gif\", \"rb\").read(), format='gif')"
   ]
  },
  {
   "cell_type": "markdown",
   "id": "f2874c8b-872e-4190-a433-40e32947878d",
   "metadata": {},
   "source": [
    "## 2D animations\n",
    "\n",
    "We can create a similar animation on 2d images,\n",
    "where instead of slicing the vertical dimension,\n",
    "we collect more and more signal as time progresses.\n",
    "\n",
    "Every time the `update` function is called,\n",
    "new data is created and added to the current data."
   ]
  },
  {
   "cell_type": "code",
   "execution_count": null,
   "id": "c7e04c7d-aaf2-42d3-87de-96ef40133c0e",
   "metadata": {},
   "outputs": [],
   "source": [
    "da = three_bands(npeaks=20, per_peak=300, spread=30.0)\n",
    "data_node = pp.Node(da)\n",
    "\n",
    "f = pp.imagefigure(data_node, cbar=True, norm=\"log\")\n",
    "\n",
    "def update(frame):\n",
    "    # Make new data and add it to the current data.\n",
    "    # The current data is obtained by calling the `data_node()`\n",
    "    new = three_bands(npeaks=20, per_peak=300, spread=30.0) + data_node()\n",
    "    data_node.func = lambda: new\n",
    "    data_node.notify_children('')\n",
    "\n",
    "ani = animation.FuncAnimation(fig=f.fig, func=update, frames=200, interval=100)\n",
    "ani.save(filename=\"animation_2d.gif\", writer=\"pillow\")"
   ]
  },
  {
   "cell_type": "markdown",
   "id": "45492007-e0cb-4134-ae3d-9e5b5e8840d8",
   "metadata": {},
   "source": [
    "We now display the resulting animation:"
   ]
  },
  {
   "cell_type": "code",
   "execution_count": null,
   "id": "b4ec7f6e-4f06-48bb-9ef6-2e1c84e641d6",
   "metadata": {},
   "outputs": [],
   "source": [
    "ipw.Image(value=open(\"animation_2d.gif\", \"rb\").read(), format='gif')"
   ]
  },
  {
   "cell_type": "markdown",
   "id": "13d1e3a3-e7cc-484a-8b3c-9e2146212377",
   "metadata": {},
   "source": [
    "## 3D animations\n",
    "\n",
    "Animations on 3D plots are currently not supported.\n",
    "\n",
    "The best way to achieve this would be to record a screencast while interacting with a 3D scene."
   ]
  }
 ],
 "metadata": {
  "kernelspec": {
   "display_name": "Python 3 (ipykernel)",
   "language": "python",
   "name": "python3"
  },
  "language_info": {
   "codemirror_mode": {
    "name": "ipython",
    "version": 3
   },
   "file_extension": ".py",
   "mimetype": "text/x-python",
   "name": "python",
   "nbconvert_exporter": "python",
   "pygments_lexer": "ipython3",
   "version": "3.12.7"
  }
 },
 "nbformat": 4,
 "nbformat_minor": 5
}
