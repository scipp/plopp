{
 "cells": [
  {
   "cell_type": "markdown",
   "id": "0",
   "metadata": {},
   "source": [
    "# Animations\n",
    "\n",
    "To create animations with Plopp, we make use of the [node mechanism](custom-interfaces.ipynb)\n",
    "and leverage [Matplotlib's support for animations](https://matplotlib.org/stable/users/explain/animations/animations.html).\n",
    "\n",
    "## 1D animations"
   ]
  },
  {
   "cell_type": "code",
   "execution_count": null,
   "id": "1",
   "metadata": {},
   "outputs": [],
   "source": [
    "import plopp as pp\n",
    "from plopp.data.examples import three_bands\n",
    "import matplotlib.animation as animation"
   ]
  },
  {
   "cell_type": "markdown",
   "id": "2",
   "metadata": {},
   "source": [
    "We load the data and display it in a figure:"
   ]
  },
  {
   "cell_type": "code",
   "execution_count": null,
   "id": "3",
   "metadata": {},
   "outputs": [],
   "source": [
    "da = three_bands()\n",
    "da.plot(norm=\"log\")"
   ]
  },
  {
   "cell_type": "markdown",
   "id": "4",
   "metadata": {},
   "source": [
    "We now create an animation where we are scanning the vertical `y` direction of the data,\n",
    "making a plot of each slice in each step of the animation.\n",
    "\n",
    "On every call to the `update` function passed to Matplotlib's `FuncAnimation`,\n",
    "we update the index node and notify the children nodes of the change.\n",
    "This updates the figure at every step.\n",
    "\n",
    "Finally, we save the animation to a `.gif` file.\n",
    "See [here](https://matplotlib.org/stable/users/explain/animations/animations.html#saving-animations)\n",
    "for the possible formats animations can be saved in."
   ]
  },
  {
   "cell_type": "code",
   "execution_count": null,
   "id": "5",
   "metadata": {},
   "outputs": [],
   "source": [
    "data_node = pp.Node(da)\n",
    "index_node = pp.Node(0)\n",
    "# Here, 'y' is the dimension you want to slice\n",
    "slice_node = pp.Node(lambda da, ind: da[\"y\", ind], da=data_node, ind=index_node)\n",
    "\n",
    "f = pp.linefigure(slice_node, vmax=200)\n",
    "\n",
    "\n",
    "def update(frame):\n",
    "    index_node.func = lambda: frame\n",
    "    index_node.notify_children(\"\")\n",
    "\n",
    "\n",
    "ani = animation.FuncAnimation(fig=f.fig, func=update, frames=200, interval=100)\n",
    "ani.save(filename=\"animation_1d.gif\", writer=\"pillow\")"
   ]
  },
  {
   "cell_type": "markdown",
   "id": "6",
   "metadata": {},
   "source": [
    "We can now load the GIF image and display it:"
   ]
  },
  {
   "cell_type": "code",
   "execution_count": null,
   "id": "7",
   "metadata": {},
   "outputs": [],
   "source": [
    "import ipywidgets as ipw\n",
    "\n",
    "ipw.Image(value=open(\"animation_1d.gif\", \"rb\").read(), format=\"gif\")"
   ]
  },
  {
   "cell_type": "markdown",
   "id": "8",
   "metadata": {},
   "source": [
    "## 2D animations\n",
    "\n",
    "We can create a similar animation on 2d images,\n",
    "where instead of slicing the vertical dimension,\n",
    "we collect more and more signal as time progresses.\n",
    "\n",
    "Every time the `update` function is called,\n",
    "new data is created and added to the current data."
   ]
  },
  {
   "cell_type": "code",
   "execution_count": null,
   "id": "9",
   "metadata": {},
   "outputs": [],
   "source": [
    "da = three_bands(npeaks=20, per_peak=500, spread=30.0)\n",
    "data_node = pp.Node(da)\n",
    "\n",
    "f = pp.imagefigure(data_node, cbar=True, vmin=30, vmax=400, norm=\"log\")\n",
    "\n",
    "\n",
    "def update(frame):\n",
    "    # Make new data and add it to the current data.\n",
    "    # The current data is obtained by calling the `data_node()`\n",
    "    new = three_bands(npeaks=20, per_peak=500, spread=30.0) + data_node()\n",
    "    data_node.func = lambda: new\n",
    "    data_node.notify_children(\"\")\n",
    "\n",
    "\n",
    "ani = animation.FuncAnimation(fig=f.fig, func=update, frames=80, interval=100)\n",
    "ani.save(filename=\"animation_2d.gif\", writer=\"pillow\")"
   ]
  },
  {
   "cell_type": "markdown",
   "id": "10",
   "metadata": {},
   "source": [
    "We now display the resulting animation:"
   ]
  },
  {
   "cell_type": "code",
   "execution_count": null,
   "id": "11",
   "metadata": {},
   "outputs": [],
   "source": [
    "ipw.Image(value=open(\"animation_2d.gif\", \"rb\").read(), format=\"gif\")"
   ]
  },
  {
   "cell_type": "markdown",
   "id": "12",
   "metadata": {},
   "source": [
    "## 3D animations\n",
    "\n",
    "Animations on 3D plots are currently not supported.\n",
    "\n",
    "The best way to achieve this would be to record a screencast while interacting with a 3D scene."
   ]
  },
  {
   "cell_type": "code",
   "execution_count": null,
   "id": "13",
   "metadata": {
    "nbsphinx": "hidden"
   },
   "outputs": [],
   "source": [
    "# This cell is used to generate the thumbnail for the docs.\n",
    "# It is hidden from the online documentation.\n",
    "import shutil\n",
    "\n",
    "shutil.copyfile(\"animation_2d.gif\", \"../_static/customization/animation_2d.gif\")"
   ]
  }
 ],
 "metadata": {
  "kernelspec": {
   "display_name": "Python 3 (ipykernel)",
   "language": "python",
   "name": "python3"
  },
  "language_info": {
   "codemirror_mode": {
    "name": "ipython",
    "version": 3
   },
   "file_extension": ".py",
   "mimetype": "text/x-python",
   "name": "python",
   "nbconvert_exporter": "python",
   "pygments_lexer": "ipython3"
  }
 },
 "nbformat": 4,
 "nbformat_minor": 5
}
