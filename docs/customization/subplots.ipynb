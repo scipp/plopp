{
 "cells": [
  {
   "cell_type": "markdown",
   "id": "0",
   "metadata": {},
   "source": [
    "# Subplots / Tiled plots\n",
    "\n",
    "There are three ways to create subplot layouts with Plopp:\n",
    "\n",
    "- Using the in-built `tiled` functionality\n",
    "- Using manually created Matplotlib axes\n",
    "- Placing figures inside container widgets\n",
    "\n",
    "The first two methods will work with any (static or interactive) backend,\n",
    "while the third will only work with the interactive (`%matplotlib widget`) backend.\n",
    "\n",
    "## Using `tiled`:\n",
    "\n",
    "<div class=\"versionadded\" style=\"font-weight: bold;\">\n",
    "\n",
    "<img src=\"../../_static/circle-exclamation.svg\" width=\"16\" height=\"16\" />\n",
    "&nbsp;\n",
    "New in version 23.08.0.\n",
    "\n",
    "</div>\n",
    "\n",
    "### Leveraging figure operator overloading\n",
    "\n",
    "The fastest way to make simple subplots is to use the `+` and `/` operators on the figures you create.\n",
    "\n",
    "Adding two figures will place them side-by-side,\n",
    "while dividing a figure by another will stack them vertically."
   ]
  },
  {
   "cell_type": "code",
   "execution_count": null,
   "id": "1",
   "metadata": {},
   "outputs": [],
   "source": [
    "%matplotlib inline\n",
    "import plopp as pp\n",
    "import matplotlib.pyplot as plt\n",
    "\n",
    "p1 = pp.data.data1d().plot()\n",
    "p2 = pp.data.data2d().plot()\n",
    "\n",
    "p1 + p2"
   ]
  },
  {
   "cell_type": "code",
   "execution_count": null,
   "id": "2",
   "metadata": {},
   "outputs": [],
   "source": [
    "p1 / p2"
   ]
  },
  {
   "cell_type": "code",
   "execution_count": null,
   "id": "3",
   "metadata": {},
   "outputs": [],
   "source": [
    "(p1 + p2) / (p2 + p1)"
   ]
  },
  {
   "cell_type": "markdown",
   "id": "4",
   "metadata": {},
   "source": [
    "### More complex configurations\n",
    "\n",
    "While the figure operators are using `tiled` under-the-hood,\n",
    "it is also possible to use `tiled` directly.\n",
    "\n",
    "Its use is based on Matplotlib's [GridSpec](https://matplotlib.org/stable/gallery/subplots_axes_and_figures/gridspec_multicolumn.html#sphx-glr-gallery-subplots-axes-and-figures-gridspec-multicolumn-py)."
   ]
  },
  {
   "cell_type": "code",
   "execution_count": null,
   "id": "5",
   "metadata": {},
   "outputs": [],
   "source": [
    "tiled = pp.tiled(nrows=1, ncols=3)\n",
    "tiled[0, :2] = p1\n",
    "tiled[0, 2] = p2\n",
    "tiled"
   ]
  },
  {
   "cell_type": "markdown",
   "id": "6",
   "metadata": {},
   "source": [
    "## Using Matplotlib axes"
   ]
  },
  {
   "cell_type": "code",
   "execution_count": null,
   "id": "7",
   "metadata": {},
   "outputs": [],
   "source": [
    "%matplotlib inline\n",
    "import plopp as pp\n",
    "\n",
    "da = pp.data.data3d()"
   ]
  },
  {
   "cell_type": "markdown",
   "id": "8",
   "metadata": {},
   "source": [
    "To create our subplots, we use Matplotlib's in-built `plt.subplots` function.\n",
    "We then pass each subplot axes to Plopp's `plot` function as the `ax` argument:"
   ]
  },
  {
   "cell_type": "code",
   "execution_count": null,
   "id": "9",
   "metadata": {},
   "outputs": [],
   "source": [
    "fig, ax = plt.subplots(2, 2, figsize=(8, 6))\n",
    "\n",
    "p1 = pp.plot(da['z', 0], ax=ax[0, 0])\n",
    "p2 = pp.plot(da['z', 0]['y', 0], ax=ax[0, 1])\n",
    "p3 = pp.plot(da['x', 0]['y', 0], ax=ax[1, 0])\n",
    "p4 = pp.plot(da['x', -1], cmap='magma', ax=ax[1, 1])\n",
    "\n",
    "# Matplotlib's utility to optimize spacing between subplots\n",
    "fig.tight_layout()"
   ]
  },
  {
   "cell_type": "markdown",
   "id": "10",
   "metadata": {},
   "source": [
    "## Using container widgets\n",
    "\n",
    "When the interactive backend is in use,\n",
    "each figure is a widget that can be placed inside other `ipywidgets` for controlling the layout.\n",
    "In this case, each subplot will have its own toolbar."
   ]
  },
  {
   "cell_type": "code",
   "execution_count": null,
   "id": "11",
   "metadata": {},
   "outputs": [],
   "source": [
    "%matplotlib widget\n",
    "import ipywidgets as ipw"
   ]
  },
  {
   "cell_type": "markdown",
   "id": "12",
   "metadata": {},
   "source": [
    "Given four plots"
   ]
  },
  {
   "cell_type": "code",
   "execution_count": null,
   "id": "13",
   "metadata": {},
   "outputs": [],
   "source": [
    "subplot_size = (4, 3)\n",
    "\n",
    "p1 = pp.plot(da['z', 0], figsize=subplot_size)\n",
    "p2 = pp.plot(da['z', 0]['y', 0], figsize=subplot_size)\n",
    "p3 = pp.plot(da['x', 0]['y', 0], figsize=subplot_size)\n",
    "p4 = pp.plot(da['x', -1], cmap='magma', figsize=subplot_size)"
   ]
  },
  {
   "cell_type": "markdown",
   "id": "14",
   "metadata": {},
   "source": [
    "we can create a figure with subplots using"
   ]
  },
  {
   "cell_type": "code",
   "execution_count": null,
   "id": "15",
   "metadata": {},
   "outputs": [],
   "source": [
    "ipw.VBox([ipw.HBox([p1, p2]), ipw.HBox([p3, p4])])"
   ]
  },
  {
   "cell_type": "markdown",
   "id": "16",
   "metadata": {},
   "source": [
    "Plopp actually provides a `Box` widget as a shorthand for combining `ipw.VBox` and `ipw.HBox`:"
   ]
  },
  {
   "cell_type": "code",
   "execution_count": null,
   "id": "17",
   "metadata": {},
   "outputs": [],
   "source": [
    "from plopp.widgets import Box\n",
    "\n",
    "Box([[p1, p2], [p3, p4]])"
   ]
  },
  {
   "cell_type": "markdown",
   "id": "18",
   "metadata": {},
   "source": [
    "<div class=\"alert alert-warning\">\n",
    "\n",
    "*Warning*\n",
    "\n",
    "When using `ipw.VBox` or `Box`, alignment of axes is not ensured.\n",
    "This method for creating subplots is applicable for quickly creating interactive interfaces,\n",
    "but we do not recommend it for publication purposes.\n",
    "\n",
    "</div>"
   ]
  },
  {
   "cell_type": "markdown",
   "id": "19",
   "metadata": {},
   "source": [
    "## Subplots with 3D scatter plots\n",
    "\n",
    "The three-dimensional visualizations in Plopp do not use Matplotlib, but Pythreejs.\n",
    "Consequently, it is not possible to insert a [three-dimensional scatter plot](../plot-types/scatter3d-plot.ipynb) inside a subplot made of Matplotlib axes.\n",
    "The only way to make a three-dimensional view part of subplots is to use the container widgets described above."
   ]
  },
  {
   "cell_type": "code",
   "execution_count": null,
   "id": "20",
   "metadata": {},
   "outputs": [],
   "source": [
    "da1 = pp.data.data1d()\n",
    "da2 = pp.data.scatter()\n",
    "\n",
    "p1 = pp.plot(da1)\n",
    "p2 = pp.scatter3d(da2, x='x', y='y', z='z', figsize=(550, 400))\n",
    "\n",
    "Box([p1, p2])"
   ]
  }
 ],
 "metadata": {
  "kernelspec": {
   "display_name": "Python 3 (ipykernel)",
   "language": "python",
   "name": "python3"
  },
  "language_info": {
   "codemirror_mode": {
    "name": "ipython",
    "version": 3
   },
   "file_extension": ".py",
   "mimetype": "text/x-python",
   "name": "python",
   "nbconvert_exporter": "python",
   "pygments_lexer": "ipython3"
  }
 },
 "nbformat": 4,
 "nbformat_minor": 5
}
