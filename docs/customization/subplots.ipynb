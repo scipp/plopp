{
 "cells": [
  {
   "cell_type": "markdown",
   "id": "32fb725d-602c-433b-8522-bd8be63fa4d0",
   "metadata": {},
   "source": [
    "# Subplots / Tiled plots\n",
    "\n",
    "There are two ways to create subplot layouts with Plopp:\n",
    "\n",
    "- Using manually created Matplotlib axes\n",
    "- Placing figures inside container widgets\n",
    "\n",
    "The first method will work with any (static or interactive) backend,\n",
    "while the second will only work with the interactive (`%matplotlib widget`) backend.\n",
    "\n",
    "## Using Matplotlib axes"
   ]
  },
  {
   "cell_type": "code",
   "execution_count": null,
   "id": "40c4c95a-0b3c-4603-be82-f1555bba07bc",
   "metadata": {},
   "outputs": [],
   "source": [
    "%matplotlib inline\n",
    "import plopp as pp\n",
    "import matplotlib.pyplot as plt\n",
    "\n",
    "da = pp.data.data_array(ndim=3)"
   ]
  },
  {
   "cell_type": "markdown",
   "id": "3b377e93-f7a5-4903-9bb2-a90c1844c3c7",
   "metadata": {},
   "source": [
    "To create our subplots, we use Matplotlib's in-built `plt.subplots` function.\n",
    "We then pass each subplot axes to Plopp's `plot` function as the `ax` argument:"
   ]
  },
  {
   "cell_type": "code",
   "execution_count": null,
   "id": "46d49d86-b72b-4083-98ff-6c322c1badca",
   "metadata": {},
   "outputs": [],
   "source": [
    "fig, ax = plt.subplots(2, 2, figsize=(8, 6))\n",
    "\n",
    "p1 = pp.plot(da['z', 0], ax=ax[0, 0])\n",
    "p2 = pp.plot(da['z', 0]['y', 0], ax=ax[0, 1])\n",
    "p3 = pp.plot(da['x', 0]['y', 0], ax=ax[1, 0])\n",
    "p4 = pp.plot(da['x', -1], cmap='magma', ax=ax[1, 1])\n",
    "\n",
    "# Matplotlib's utility to optimize spacing between subplots\n",
    "fig.tight_layout()"
   ]
  },
  {
   "cell_type": "markdown",
   "id": "4af0079c-bf62-4a06-b0f0-109e2acc0483",
   "metadata": {},
   "source": [
    "## Using container widgets\n",
    "\n",
    "When the interactive backend is in use,\n",
    "each figure is a widget that can be placed inside other `ipywidgets` for controlling the layout.\n",
    "In this case, each subplot will have its own toolbar."
   ]
  },
  {
   "cell_type": "code",
   "execution_count": null,
   "id": "c112ba21-7fdc-462c-911f-c768b2d70aa0",
   "metadata": {},
   "outputs": [],
   "source": [
    "%matplotlib widget\n",
    "import ipywidgets as ipw"
   ]
  },
  {
   "cell_type": "markdown",
   "id": "2f2e2364-8b22-48d9-9a3b-f571af0fba4b",
   "metadata": {},
   "source": [
    "Given four plots"
   ]
  },
  {
   "cell_type": "code",
   "execution_count": null,
   "id": "59ea27f9-96d9-495d-aae4-25a0ecaeba5a",
   "metadata": {},
   "outputs": [],
   "source": [
    "subplot_size = (4, 3)\n",
    "\n",
    "p1 = pp.plot(da['z', 0], figsize=subplot_size)\n",
    "p2 = pp.plot(da['z', 0]['y', 0], figsize=subplot_size)\n",
    "p3 = pp.plot(da['x', 0]['y', 0], figsize=subplot_size)\n",
    "p4 = pp.plot(da['x', -1], cmap='magma', figsize=subplot_size)"
   ]
  },
  {
   "cell_type": "markdown",
   "id": "4baaf923-a3ad-4b1f-ab89-f2a02a321ab5",
   "metadata": {},
   "source": [
    "we can create a figure with subplots using"
   ]
  },
  {
   "cell_type": "code",
   "execution_count": null,
   "id": "b7eee0d0-1d2d-4fc6-b591-7a358c4c2687",
   "metadata": {},
   "outputs": [],
   "source": [
    "ipw.VBox([ipw.HBox([p1, p2]), ipw.HBox([p3, p4])])"
   ]
  },
  {
   "cell_type": "markdown",
   "id": "1ffcc53b-af94-4d6b-a231-b9c01da2be56",
   "metadata": {},
   "source": [
    "Plopp actually provides a `Box` widget as a shorthand for combining `ipw.VBox` and `ipw.HBox`:"
   ]
  },
  {
   "cell_type": "code",
   "execution_count": null,
   "id": "44feb388-f33f-4c76-a11a-0038b362209d",
   "metadata": {},
   "outputs": [],
   "source": [
    "from plopp.widgets import Box\n",
    "\n",
    "Box([[p1, p2], [p3, p4]])"
   ]
  },
  {
   "cell_type": "markdown",
   "id": "1a0c33f6-a6c1-46c8-9b9e-188adefffeb3",
   "metadata": {},
   "source": [
    "<div class=\"alert alert-warning\">\n",
    "\n",
    "*Warning*\n",
    "\n",
    "When using `ipw.VBox` or `Box`, alignment of axes is not ensured.\n",
    "This method for creating subplots is applicable for quickly creating interactive interfaces,\n",
    "but we do not recommend it for publication purposes.\n",
    "\n",
    "</div>"
   ]
  }
 ],
 "metadata": {
  "kernelspec": {
   "display_name": "Python 3 (ipykernel)",
   "language": "python",
   "name": "python3"
  },
  "language_info": {
   "codemirror_mode": {
    "name": "ipython",
    "version": 3
   },
   "file_extension": ".py",
   "mimetype": "text/x-python",
   "name": "python",
   "nbconvert_exporter": "python",
   "pygments_lexer": "ipython3",
   "version": "3.9.13"
  }
 },
 "nbformat": 4,
 "nbformat_minor": 5
}
