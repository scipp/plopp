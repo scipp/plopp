{
 "cells": [
  {
   "cell_type": "markdown",
   "id": "0",
   "metadata": {},
   "source": [
    "# Super-plot\n",
    "\n",
    "The `superplot` was inspired the [LAMP](https://code.ill.fr/scientific-software/lamp)\n",
    "software's [Superplot](https://github.com/mantidproject/documents/blob/main/Requirements/Visualisation_and_Analysis/superplot.md)\n",
    "functionality.\n",
    "\n",
    "It offers the possibility of representing data with more than one dimensions as a one-dimensional slice with sliders controlling the extra dimensions.\n",
    "In addition, buttons can be used to save the currently displayed line."
   ]
  },
  {
   "cell_type": "code",
   "execution_count": null,
   "id": "1",
   "metadata": {},
   "outputs": [],
   "source": [
    "%matplotlib widget\n",
    "import plopp as pp\n",
    "\n",
    "da = pp.data.data2d()"
   ]
  },
  {
   "cell_type": "markdown",
   "id": "2",
   "metadata": {},
   "source": [
    "The `superplot` function needs to know which dimension to `keep` (all remaining dims will be sliced):"
   ]
  },
  {
   "cell_type": "code",
   "execution_count": null,
   "id": "3",
   "metadata": {},
   "outputs": [],
   "source": [
    "p = pp.superplot(da, keep='x')"
   ]
  },
  {
   "cell_type": "code",
   "execution_count": null,
   "id": "4",
   "metadata": {
    "nbsphinx": "hidden"
   },
   "outputs": [],
   "source": [
    "tool = p.right_bar[0]\n",
    "b = tool.button\n",
    "sl = p.bottom_bar[0].controls['y']['slider']\n",
    "b.click()\n",
    "sl.value = 20\n",
    "b.click()\n",
    "sl.value = 30"
   ]
  },
  {
   "cell_type": "code",
   "execution_count": null,
   "id": "5",
   "metadata": {},
   "outputs": [],
   "source": [
    "p"
   ]
  },
  {
   "cell_type": "markdown",
   "id": "6",
   "metadata": {},
   "source": [
    "**Controls:**\n",
    "\n",
    "- To save the current line, click the `Save line` button on the right hand side\n",
    "- To change the line color, use the color picker for that line\n",
    "- To remove a line, click the **[&times;]** button"
   ]
  }
 ],
 "metadata": {
  "kernelspec": {
   "display_name": "Python 3 (ipykernel)",
   "language": "python",
   "name": "python3"
  },
  "language_info": {
   "codemirror_mode": {
    "name": "ipython",
    "version": 3
   },
   "file_extension": ".py",
   "mimetype": "text/x-python",
   "name": "python",
   "nbconvert_exporter": "python",
   "pygments_lexer": "ipython3",
   "version": "3.11.9"
  }
 },
 "nbformat": 4,
 "nbformat_minor": 5
}
