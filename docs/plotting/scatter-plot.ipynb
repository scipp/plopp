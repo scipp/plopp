{
 "cells": [
  {
   "cell_type": "markdown",
   "id": "0",
   "metadata": {},
   "source": [
    "# Scatter plot"
   ]
  },
  {
   "cell_type": "code",
   "execution_count": null,
   "id": "1",
   "metadata": {},
   "outputs": [],
   "source": [
    "import plopp as pp\n",
    "import scipp as sc"
   ]
  },
  {
   "cell_type": "markdown",
   "id": "2",
   "metadata": {},
   "source": [
    "## Simple scatter plot"
   ]
  },
  {
   "cell_type": "code",
   "execution_count": null,
   "id": "3",
   "metadata": {},
   "outputs": [],
   "source": [
    "a = pp.data.scatter()\n",
    "pp.scatter(a)"
   ]
  },
  {
   "cell_type": "markdown",
   "id": "4",
   "metadata": {},
   "source": [
    "Changing the style of the points can be done via"
   ]
  },
  {
   "cell_type": "code",
   "execution_count": null,
   "id": "5",
   "metadata": {},
   "outputs": [],
   "source": [
    "pp.scatter(a, color='r', marker='P', size=120)"
   ]
  },
  {
   "cell_type": "markdown",
   "id": "6",
   "metadata": {},
   "source": [
    "## Selecting which coordinates to use\n",
    "\n",
    "By default, the `scatter` plot will search for and use the `'x'` coordinate in the input as abscissa values,\n",
    "and the `'y'` coordinate as ordinate values.\n",
    "\n",
    "This can however be customized by telling it which ones to use:"
   ]
  },
  {
   "cell_type": "code",
   "execution_count": null,
   "id": "7",
   "metadata": {},
   "outputs": [],
   "source": [
    "a.coords['4x'] = a.coords['x'] * 4\n",
    "print(a.coords.keys())\n",
    "\n",
    "pp.scatter(a, x='4x', y='z', aspect='equal')"
   ]
  },
  {
   "cell_type": "markdown",
   "id": "8",
   "metadata": {},
   "source": [
    "## Scatter plot with multiple inputs"
   ]
  },
  {
   "cell_type": "code",
   "execution_count": null,
   "id": "9",
   "metadata": {},
   "outputs": [],
   "source": [
    "a = pp.data.scatter()\n",
    "b = pp.data.scatter(seed=2) * 10.0\n",
    "b.coords['x'] += sc.scalar(50.0, unit='m')\n",
    "\n",
    "pp.scatter({'a': a, 'b': b})"
   ]
  },
  {
   "cell_type": "markdown",
   "id": "10",
   "metadata": {},
   "source": [
    "Changing the style can be controlled for each input:"
   ]
  },
  {
   "cell_type": "code",
   "execution_count": null,
   "id": "11",
   "metadata": {},
   "outputs": [],
   "source": [
    "pp.scatter({'a': a, 'b': b}, color={'a': 'k', 'b': 'g'})"
   ]
  },
  {
   "cell_type": "markdown",
   "id": "12",
   "metadata": {},
   "source": [
    "## Scatter plot with a colorbar\n",
    "\n",
    "Requesting a colorbar when calling the `scatter` function will use the values inside the data array as colors:"
   ]
  },
  {
   "cell_type": "code",
   "execution_count": null,
   "id": "13",
   "metadata": {},
   "outputs": [],
   "source": [
    "pp.scatter(a, cbar=True)"
   ]
  },
  {
   "cell_type": "markdown",
   "id": "14",
   "metadata": {},
   "source": [
    "## Scatter plot with variable sizes\n",
    "\n",
    "We can use a coordinate of the input data array to represent the marker sizes by giving the name of the coordinate as the `size` argument."
   ]
  },
  {
   "cell_type": "code",
   "execution_count": null,
   "id": "15",
   "metadata": {},
   "outputs": [],
   "source": [
    "a = pp.data.scatter()\n",
    "a.coords['s'] = sc.abs(a.coords['x']) * 5\n",
    "\n",
    "pp.scatter(a, size='s', cbar=True, legend=False)"
   ]
  },
  {
   "cell_type": "markdown",
   "id": "16",
   "metadata": {},
   "source": [
    "## Scatter plot with masks"
   ]
  },
  {
   "cell_type": "code",
   "execution_count": null,
   "id": "17",
   "metadata": {},
   "outputs": [],
   "source": [
    "a = pp.data.scatter()\n",
    "a.masks['m'] = a.coords['x'] > sc.scalar(10, unit='m')\n",
    "pp.scatter(a)"
   ]
  }
 ],
 "metadata": {
  "kernelspec": {
   "display_name": "Python 3 (ipykernel)",
   "language": "python",
   "name": "python3"
  },
  "language_info": {
   "codemirror_mode": {
    "name": "ipython",
    "version": 3
   },
   "file_extension": ".py",
   "mimetype": "text/x-python",
   "name": "python",
   "nbconvert_exporter": "python",
   "pygments_lexer": "ipython3"
  }
 },
 "nbformat": 4,
 "nbformat_minor": 5
}
