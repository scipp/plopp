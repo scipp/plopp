{
 "cells": [
  {
   "cell_type": "markdown",
   "id": "0",
   "metadata": {},
   "source": [
    "# Slicer plot\n",
    "\n",
    "The `slicer` plot is designed to provide sliders to slice higher dimensions of the data in an interactive way.\n",
    "\n",
    "This is used for example in the case of having a 3 dimensional data cube,\n",
    "and wanting to display it as a 2 dimensional image, with a slider to navigate the third dimension."
   ]
  },
  {
   "cell_type": "code",
   "execution_count": null,
   "id": "1",
   "metadata": {},
   "outputs": [],
   "source": [
    "%matplotlib widget\n",
    "import plopp as pp\n",
    "\n",
    "da = pp.data.data3d()"
   ]
  },
  {
   "cell_type": "markdown",
   "id": "2",
   "metadata": {},
   "source": [
    "The `slicer` function needs a list of dimensions that are to be kept (all remaining dims will be sliced):"
   ]
  },
  {
   "cell_type": "code",
   "execution_count": null,
   "id": "3",
   "metadata": {},
   "outputs": [],
   "source": [
    "pp.slicer(da, keep=['x', 'y'])"
   ]
  },
  {
   "cell_type": "markdown",
   "id": "4",
   "metadata": {},
   "source": [
    "Keeping only a single dimension will produce a 1 dimensional plot:"
   ]
  },
  {
   "cell_type": "code",
   "execution_count": null,
   "id": "5",
   "metadata": {},
   "outputs": [],
   "source": [
    "pp.slicer(da, keep=['x'])"
   ]
  },
  {
   "cell_type": "markdown",
   "id": "6",
   "metadata": {},
   "source": [
    "## Animate the sliders\n",
    "\n",
    "<div class=\"versionadded\" style=\"font-weight: bold;\">\n",
    "\n",
    "<img src=\"../_static/circle-exclamation.svg\" width=\"16\" height=\"16\" />\n",
    "&nbsp;\n",
    "New in version 25.07.0.\n",
    "\n",
    "</div>\n",
    "\n",
    "It is possible to display some animation controls (play button) next to the slider,\n",
    "by using the `enable_player=True` option:"
   ]
  },
  {
   "cell_type": "code",
   "execution_count": null,
   "id": "7",
   "metadata": {},
   "outputs": [],
   "source": [
    "pp.slicer(da, keep=['x', 'y'], enable_player=True)"
   ]
  },
  {
   "cell_type": "markdown",
   "id": "8",
   "metadata": {},
   "source": [
    "## Can I have a 3D plot with a slider?\n",
    "\n",
    "3D plots are not supported out of the box by the [plopp.slicer](../generated/plopp.slicer.rst) function,\n",
    "but it is still possible to create them.\n",
    "\n",
    "An example in the [gallery](../gallery/scatter3d-with-slider.ipynb) shows you how to do this."
   ]
  }
 ],
 "metadata": {
  "kernelspec": {
   "display_name": "Python 3 (ipykernel)",
   "language": "python",
   "name": "python3"
  },
  "language_info": {
   "codemirror_mode": {
    "name": "ipython",
    "version": 3
   },
   "file_extension": ".py",
   "mimetype": "text/x-python",
   "name": "python",
   "nbconvert_exporter": "python",
   "pygments_lexer": "ipython3"
  }
 },
 "nbformat": 4,
 "nbformat_minor": 5
}
