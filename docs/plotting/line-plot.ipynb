{
 "cells": [
  {
   "cell_type": "markdown",
   "id": "0",
   "metadata": {},
   "source": [
    "# Line plot"
   ]
  },
  {
   "cell_type": "code",
   "execution_count": null,
   "id": "1",
   "metadata": {},
   "outputs": [],
   "source": [
    "import scipp as sc\n",
    "import plopp as pp"
   ]
  },
  {
   "cell_type": "markdown",
   "id": "2",
   "metadata": {},
   "source": [
    "## Basic line plot\n",
    "\n",
    "The most common way to plot data with Plopp is to use the [plot](../../generated/plopp.plot.rst) function.\n",
    "This can either be done using the `plopp.plot()` free function,\n",
    "or calling the `.plot()` method on a Scipp data object (both are equivalent)."
   ]
  },
  {
   "cell_type": "code",
   "execution_count": null,
   "id": "3",
   "metadata": {},
   "outputs": [],
   "source": [
    "da = pp.data.data1d()\n",
    "da.plot()"
   ]
  },
  {
   "cell_type": "markdown",
   "id": "4",
   "metadata": {},
   "source": [
    "## Changing line style and color"
   ]
  },
  {
   "cell_type": "code",
   "execution_count": null,
   "id": "5",
   "metadata": {},
   "outputs": [],
   "source": [
    "da.plot(linestyle='solid', color='black', marker=None)"
   ]
  },
  {
   "cell_type": "code",
   "execution_count": null,
   "id": "6",
   "metadata": {},
   "outputs": [],
   "source": [
    "da.plot(linestyle='dashed', linewidth=5, marker=None)"
   ]
  },
  {
   "cell_type": "code",
   "execution_count": null,
   "id": "7",
   "metadata": {},
   "outputs": [],
   "source": [
    "da.plot(marker='^')"
   ]
  },
  {
   "cell_type": "markdown",
   "id": "8",
   "metadata": {},
   "source": [
    "## Controlling the axes\n",
    "\n",
    "### Logarithmic axes"
   ]
  },
  {
   "cell_type": "code",
   "execution_count": null,
   "id": "9",
   "metadata": {},
   "outputs": [],
   "source": [
    "da.plot(scale={'x': 'log'})"
   ]
  },
  {
   "cell_type": "code",
   "execution_count": null,
   "id": "10",
   "metadata": {},
   "outputs": [],
   "source": [
    "da.plot(norm='log')"
   ]
  },
  {
   "cell_type": "markdown",
   "id": "11",
   "metadata": {},
   "source": [
    "### Setting the axes limits\n",
    "\n",
    "To set the range of the vertical axis, use the `vmin` and `vmax` keyword arguments:"
   ]
  },
  {
   "cell_type": "code",
   "execution_count": null,
   "id": "12",
   "metadata": {},
   "outputs": [],
   "source": [
    "da.plot(vmin=sc.scalar(-0.5, unit='m/s'), vmax=sc.scalar(1.5, unit='m/s'))"
   ]
  },
  {
   "cell_type": "markdown",
   "id": "13",
   "metadata": {},
   "source": [
    "Note that if the unit in the supplied limits is not identical to the data units, an on-the-fly conversion is attempted.\n",
    "It is also possible to omit the units altogether, in which case it is assumed the unit is the same as the data unit."
   ]
  },
  {
   "cell_type": "code",
   "execution_count": null,
   "id": "14",
   "metadata": {},
   "outputs": [],
   "source": [
    "da.plot(vmin=-0.5, vmax=1.5)"
   ]
  },
  {
   "cell_type": "markdown",
   "id": "15",
   "metadata": {},
   "source": [
    "To set the range of the horizontal axis, slice the data before plotting:"
   ]
  },
  {
   "cell_type": "code",
   "execution_count": null,
   "id": "16",
   "metadata": {},
   "outputs": [],
   "source": [
    "da['x', 10:40].plot()"
   ]
  },
  {
   "cell_type": "markdown",
   "id": "17",
   "metadata": {},
   "source": [
    "## Overplotting\n",
    "\n",
    "The `plot` function will accept a dict of data arrays as an input,\n",
    "and will place all entries on the same axes\n",
    "(as long as all entries have the same units and dimension labels)."
   ]
  },
  {
   "cell_type": "code",
   "execution_count": null,
   "id": "18",
   "metadata": {},
   "outputs": [],
   "source": [
    "pp.plot({'a': da, 'b': 0.2 * da})"
   ]
  },
  {
   "cell_type": "markdown",
   "id": "19",
   "metadata": {},
   "source": [
    "This also works with a dataset:"
   ]
  },
  {
   "cell_type": "code",
   "execution_count": null,
   "id": "20",
   "metadata": {},
   "outputs": [],
   "source": [
    "ds = pp.data.dataset1d()\n",
    "ds.plot()"
   ]
  },
  {
   "cell_type": "markdown",
   "id": "21",
   "metadata": {},
   "source": [
    "### Customizing line styles for multiple entries\n",
    "\n",
    "If a single color is passed to `plot` when plotting a dict of data arrays,\n",
    "the color will apply to all entries"
   ]
  },
  {
   "cell_type": "code",
   "execution_count": null,
   "id": "22",
   "metadata": {},
   "outputs": [],
   "source": [
    "pp.plot({'a': da, 'b': 0.2 * da}, color='red')"
   ]
  },
  {
   "cell_type": "markdown",
   "id": "23",
   "metadata": {},
   "source": [
    "To control the style of the individual entries,\n",
    "the line properties should be a dict with the same keys as the input dict:"
   ]
  },
  {
   "cell_type": "code",
   "execution_count": null,
   "id": "24",
   "metadata": {},
   "outputs": [],
   "source": [
    "pp.plot(\n",
    "    {'a': da, 'b': 0.2 * da},\n",
    "    color={'a': 'red', 'b': 'black'},\n",
    "    linestyle={'a': 'solid', 'b': 'dashed'},\n",
    "    marker=None,\n",
    ")"
   ]
  },
  {
   "cell_type": "markdown",
   "id": "25",
   "metadata": {},
   "source": [
    "## Bin edges\n",
    "\n",
    "When the coordinate of the data contains bin-edges, Plopp represents it as a step function instead of markers:"
   ]
  },
  {
   "cell_type": "code",
   "execution_count": null,
   "id": "26",
   "metadata": {},
   "outputs": [],
   "source": [
    "da = pp.data.histogram1d()\n",
    "pp.plot(da)"
   ]
  },
  {
   "cell_type": "markdown",
   "id": "27",
   "metadata": {},
   "source": [
    "## Masks\n",
    "\n",
    "Masks are represented by black markers"
   ]
  },
  {
   "cell_type": "code",
   "execution_count": null,
   "id": "28",
   "metadata": {},
   "outputs": [],
   "source": [
    "da = pp.data.data1d()\n",
    "da.masks['large-x'] = da.coords['x'] > sc.scalar(30, unit='m')\n",
    "pp.plot(da)"
   ]
  },
  {
   "cell_type": "markdown",
   "id": "29",
   "metadata": {},
   "source": [
    "or a thick black line in the case of bin-edges"
   ]
  },
  {
   "cell_type": "code",
   "execution_count": null,
   "id": "30",
   "metadata": {},
   "outputs": [],
   "source": [
    "da = pp.data.histogram1d()\n",
    "da.masks['close-to-zero'] = abs(da.data) < sc.scalar(0.5, unit='m/s')\n",
    "pp.plot(da)"
   ]
  },
  {
   "cell_type": "markdown",
   "id": "31",
   "metadata": {},
   "source": [
    "## Using a non-dimension coordinate\n",
    "\n",
    "For a dimension of name `'x'`, Plopp will use the corresponding coordinate of name `'x'` to set the horizontal position of the points and the axis labels.\n",
    "To use a different coordinate, use the `coords` argument."
   ]
  },
  {
   "cell_type": "code",
   "execution_count": null,
   "id": "32",
   "metadata": {},
   "outputs": [],
   "source": [
    "da = pp.data.data1d()\n",
    "da.coords['x2'] = da.coords['x'] ** 2\n",
    "pp.plot(da, coords=['x2'])"
   ]
  },
  {
   "cell_type": "markdown",
   "id": "33",
   "metadata": {},
   "source": [
    "Note that if no coordinate of name `'x'` exists, a dummy one will be generated using `scipp.arange`.\n",
    "\n",
    "## Plotting one variable as a function of another\n",
    "\n",
    "<div class=\"versionadded\" style=\"font-weight: bold;\">\n",
    "\n",
    "<img src=\"../../_static/circle-exclamation.svg\" width=\"16\" height=\"16\" />\n",
    "&nbsp;\n",
    "New in version 23.10.0.\n",
    "\n",
    "</div>\n",
    "\n",
    "Sometimes it is useful, for quickly inspecting data, to plot one variable as a function of another,\n",
    "without having to first explicitly store them both in a `DataArray`.\n",
    "\n",
    "For this, one can use a small dedicated function called `xyplot`:"
   ]
  },
  {
   "cell_type": "code",
   "execution_count": null,
   "id": "34",
   "metadata": {},
   "outputs": [],
   "source": [
    "x = sc.arange('distance', 50.0, unit='m')\n",
    "y = x**2\n",
    "\n",
    "pp.xyplot(x, y)"
   ]
  },
  {
   "cell_type": "markdown",
   "id": "35",
   "metadata": {},
   "source": [
    "Any additional keyword arguments are forwarded to the `plot` function:"
   ]
  },
  {
   "cell_type": "code",
   "execution_count": null,
   "id": "36",
   "metadata": {},
   "outputs": [],
   "source": [
    "pp.xyplot(x, y, ls='solid', color='purple', marker=None, lw=3)"
   ]
  }
 ],
 "metadata": {
  "kernelspec": {
   "display_name": "Python 3 (ipykernel)",
   "language": "python",
   "name": "python3"
  },
  "language_info": {
   "codemirror_mode": {
    "name": "ipython",
    "version": 3
   },
   "file_extension": ".py",
   "mimetype": "text/x-python",
   "name": "python",
   "nbconvert_exporter": "python",
   "pygments_lexer": "ipython3"
  }
 },
 "nbformat": 4,
 "nbformat_minor": 5
}
