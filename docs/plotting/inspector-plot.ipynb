{
 "cells": [
  {
   "cell_type": "markdown",
   "id": "0",
   "metadata": {},
   "source": [
    "# Inspector plot\n",
    "\n",
    "The `inspector` plot takes in a three-dimensional input and applies a reduction operation (`sum` by default) along one of the dimensions specified by `dim`.\n",
    "It displays the result as a two-dimensional image.\n",
    "\n",
    "In addition, the inspector tool\n",
    "<img src='https://upload.wikimedia.org/wikipedia/commons/thumb/1/15/Font_Awesome_5_solid_crosshairs.svg/32px-Font_Awesome_5_solid_crosshairs.svg.png' width=\"20\"/>\n",
    "in the toolbar allows to add markers on the image,\n",
    "which generate one-dimensional slices (retaining only `dim`) that are displayed in a second figure.\n",
    "\n",
    "The points can be dragged/moved, as well as deleted (via a middle click).\n",
    "Below is an example on how to create the `inspector` plot."
   ]
  },
  {
   "cell_type": "code",
   "execution_count": null,
   "id": "1",
   "metadata": {},
   "outputs": [],
   "source": [
    "%matplotlib widget\n",
    "import plopp as pp"
   ]
  },
  {
   "cell_type": "code",
   "execution_count": null,
   "id": "2",
   "metadata": {},
   "outputs": [],
   "source": [
    "da = pp.data.data3d()\n",
    "p = pp.inspector(da, dim='z', orientation='vertical')"
   ]
  },
  {
   "cell_type": "code",
   "execution_count": null,
   "id": "3",
   "metadata": {
    "nbsphinx": "hidden"
   },
   "outputs": [],
   "source": [
    "import numpy as np\n",
    "\n",
    "np.random.seed(123)\n",
    "N = 3\n",
    "\n",
    "fig = p.children[0]\n",
    "tool = fig.toolbar['inspect']\n",
    "tool.value = True\n",
    "\n",
    "for _ in range(N):\n",
    "    x, y = 40 * np.random.random(2)\n",
    "    tool._tool.click(x, y)"
   ]
  },
  {
   "cell_type": "code",
   "execution_count": null,
   "id": "4",
   "metadata": {},
   "outputs": [],
   "source": [
    "p"
   ]
  },
  {
   "cell_type": "markdown",
   "id": "5",
   "metadata": {},
   "source": [
    "**Controls**\n",
    "\n",
    "- Click to make new point\n",
    "- Drag existing point to move it\n",
    "- Middle-click to delete point\n",
    "\n",
    "### Changing the reduction operation\n",
    "\n",
    "As mentioned above, the default operation applied along the third dimension is a `sum`.\n",
    "This can be changed via the `operation` argument (possible other choices are `mean`, `min`, and `max`):"
   ]
  },
  {
   "cell_type": "code",
   "execution_count": null,
   "id": "6",
   "metadata": {},
   "outputs": [],
   "source": [
    "da = pp.data.data3d()\n",
    "p = pp.inspector(da, orientation='vertical', operation='max')"
   ]
  },
  {
   "cell_type": "code",
   "execution_count": null,
   "id": "7",
   "metadata": {
    "nbsphinx": "hidden"
   },
   "outputs": [],
   "source": [
    "tool = p.children[0].toolbar['inspect']\n",
    "tool.value = True\n",
    "for _ in range(N):\n",
    "    x, y = 40 * np.random.random(2)\n",
    "    tool._tool.click(x, y)"
   ]
  },
  {
   "cell_type": "code",
   "execution_count": null,
   "id": "8",
   "metadata": {},
   "outputs": [],
   "source": [
    "p"
   ]
  }
 ],
 "metadata": {
  "kernelspec": {
   "display_name": "Python 3 (ipykernel)",
   "language": "python",
   "name": "python3"
  },
  "language_info": {
   "codemirror_mode": {
    "name": "ipython",
    "version": 3
   },
   "file_extension": ".py",
   "mimetype": "text/x-python",
   "name": "python",
   "nbconvert_exporter": "python",
   "pygments_lexer": "ipython3",
   "version": "3.11.9"
  }
 },
 "nbformat": 4,
 "nbformat_minor": 5
}
