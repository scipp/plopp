{
 "cells": [
  {
   "cell_type": "markdown",
   "id": "5b67038d-d12d-4986-adf5-28e8edda44c8",
   "metadata": {},
   "source": [
    "# 3D mesh plot\n",
    "\n",
    "This notebook illustrates how to render 3D meshes,\n",
    "by supplying a list of vertex positions and vertex indices to construct the mesh faces."
   ]
  },
  {
   "cell_type": "code",
   "execution_count": null,
   "id": "6773bcca-f89b-44e9-a552-811978678ff9",
   "metadata": {},
   "outputs": [],
   "source": [
    "import plopp as pp\n",
    "from plopp.data import examples"
   ]
  },
  {
   "cell_type": "markdown",
   "id": "8c50322a-9831-4fa5-8691-13ce15fcc7c0",
   "metadata": {},
   "source": [
    "We load a file containing the data to construct the [Utah teapot](https://en.wikipedia.org/wiki/Utah_teapot)."
   ]
  },
  {
   "cell_type": "code",
   "execution_count": null,
   "id": "a0105bb2-1346-40aa-8d4d-ace6f0140310",
   "metadata": {},
   "outputs": [],
   "source": [
    "dg = sc.io.load_hdf5(examples.teapot())\n",
    "dg"
   ]
  },
  {
   "cell_type": "markdown",
   "id": "7345b959-a2fe-4896-a90a-540874b07bca",
   "metadata": {},
   "source": [
    "We can now send the data to the `mesh3d` function for rendering:"
   ]
  },
  {
   "cell_type": "code",
   "execution_count": null,
   "id": "3baf32ee-b705-4117-b8a4-e77c0f2e28db",
   "metadata": {},
   "outputs": [],
   "source": [
    "pp.mesh3d(vertices=dg['vertices'], faces=dg['faces'], vertexcolors=dg['vertices'].fields.z)"
   ]
  }
 ],
 "metadata": {
  "kernelspec": {
   "display_name": "Python 3 (ipykernel)",
   "language": "python",
   "name": "python3"
  },
  "language_info": {
   "codemirror_mode": {
    "name": "ipython",
    "version": 3
   },
   "file_extension": ".py",
   "mimetype": "text/x-python",
   "name": "python",
   "nbconvert_exporter": "python",
   "pygments_lexer": "ipython3"
  }
 },
 "nbformat": 4,
 "nbformat_minor": 5
}
