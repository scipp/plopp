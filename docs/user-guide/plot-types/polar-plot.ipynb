{
 "cells": [
  {
   "cell_type": "markdown",
   "id": "9a0273aa-b4a4-4843-bf19-ad65b6548b50",
   "metadata": {},
   "source": [
    "# Polar plot\n",
    "\n",
    "## A simple polar plot"
   ]
  },
  {
   "cell_type": "code",
   "execution_count": null,
   "id": "c331ba58-a130-45d3-beb9-0516af312523",
   "metadata": {},
   "outputs": [],
   "source": [
    "import numpy as np\n",
    "import scipp as sc\n",
    "import plopp as pp\n",
    "\n",
    "N = 150\n",
    "r = sc.linspace('theta', 0, 10, N, unit='m')\n",
    "theta = sc.linspace('theta', 0, 12, N, unit='rad')\n",
    "\n",
    "da = sc.DataArray(data=r, coords={'theta': theta})\n",
    "\n",
    "pp.polar(da, figsize=(5, 5))"
   ]
  },
  {
   "cell_type": "markdown",
   "id": "3178873e-a71a-4b66-8eb7-da88113d1f95",
   "metadata": {},
   "source": [
    "## Plotting a sector\n",
    "\n",
    "By default, if data angular coordinate does not wrap around $2\\pi$, the angular limits will fot "
   ]
  },
  {
   "cell_type": "code",
   "execution_count": null,
   "id": "14fd7254-3a35-4a43-8261-33dd148eec31",
   "metadata": {},
   "outputs": [],
   "source": [
    "N = 50\n",
    "r = np.random.normal(loc=50, scale=5, size=N)\n",
    "theta = np.radians(np.linspace(180, 200, N))\n",
    "\n",
    "da = sc.DataArray(\n",
    "    data=sc.array(dims=['theta'], values=r, unit='m'),\n",
    "    coords={'theta': sc.array(dims=['theta'], values=theta, unit='rad')},\n",
    ")\n",
    "\n",
    "fig = pp.polar(da)\n",
    "fig"
   ]
  },
  {
   "cell_type": "markdown",
   "id": "b9a77a6d-ecbd-4c37-8379-b799ff839838",
   "metadata": {},
   "source": [
    "A slightly better rendering can be obtained by telling matplotlib to account for the position of the origin:"
   ]
  },
  {
   "cell_type": "code",
   "execution_count": null,
   "id": "e6bc1450-396f-4e1b-85bd-96d92c7b76b7",
   "metadata": {},
   "outputs": [],
   "source": [
    "fig = pp.polar(da)\n",
    "fig.ax.set_rorigin(0)\n",
    "fig"
   ]
  },
  {
   "cell_type": "markdown",
   "id": "eb73dfd5-84e0-42e8-ba49-fd83c10688d7",
   "metadata": {},
   "source": [
    "## Polar image plots\n",
    "\n",
    "It is also possible to plot 2d data on polar axes:"
   ]
  },
  {
   "cell_type": "code",
   "execution_count": null,
   "id": "61008a8f-7717-4a9c-ad0c-0d9136db6535",
   "metadata": {},
   "outputs": [],
   "source": [
    "da = pp.data.data2d(binedges=True, unit='K')\n",
    "da.coords['x'] = sc.linspace('x', 0, 2 * np.pi, da.sizes['x'] + 1, unit='rad')\n",
    "\n",
    "pp.polar(da)"
   ]
  }
 ],
 "metadata": {
  "kernelspec": {
   "display_name": "Python 3 (ipykernel)",
   "language": "python",
   "name": "python3"
  },
  "language_info": {
   "codemirror_mode": {
    "name": "ipython",
    "version": 3
   },
   "file_extension": ".py",
   "mimetype": "text/x-python",
   "name": "python",
   "nbconvert_exporter": "python",
   "pygments_lexer": "ipython3"
  }
 },
 "nbformat": 4,
 "nbformat_minor": 5
}
