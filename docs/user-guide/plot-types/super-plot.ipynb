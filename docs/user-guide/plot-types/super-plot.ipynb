{
 "cells": [
  {
   "cell_type": "markdown",
   "id": "a175931f-a0fd-48f7-83cc-9db14d454535",
   "metadata": {},
   "source": [
    "# Super-plot\n",
    "\n",
    "The `superplot` was inspired the [LAMP](https://code.ill.fr/scientific-software/lamp)\n",
    "software's [Superplot](https://github.com/mantidproject/documents/blob/main/Requirements/Visualisation_and_Analysis/superplot.md)\n",
    "functionality.\n",
    "\n",
    "It offers the possibility of representing data with more than one dimensions as a one-dimensional slice with sliders controlling the extra dimensions.\n",
    "In addition, buttons can be used to save the currently displayed line."
   ]
  },
  {
   "cell_type": "code",
   "execution_count": null,
   "id": "00f7ac7c-794e-4b71-8dcd-c147fee1ffa4",
   "metadata": {},
   "outputs": [],
   "source": [
    "%matplotlib widget\n",
    "import plopp as pp\n",
    "\n",
    "da = pp.data.data2d()"
   ]
  },
  {
   "cell_type": "markdown",
   "id": "04bcabe8-0863-44aa-878b-f02b2b0e37bd",
   "metadata": {},
   "source": [
    "The `superplot` function needs to know which dimension to `keep` (all remaining dims will be sliced):"
   ]
  },
  {
   "cell_type": "code",
   "execution_count": null,
   "id": "85bf3158-732c-43a7-9aed-21baceb285ad",
   "metadata": {},
   "outputs": [],
   "source": [
    "p = pp.superplot(da, keep='x')"
   ]
  },
  {
   "cell_type": "code",
   "execution_count": null,
   "id": "6deecdb6-a7af-4754-b02e-5e82da1eca68",
   "metadata": {
    "nbsphinx": "hidden"
   },
   "outputs": [],
   "source": [
    "from ipywidgets import HBox\n",
    "\n",
    "b = p.children[0].children[1].children[0]\n",
    "sl = p.children[1].controls['y']['slider']\n",
    "b.click()\n",
    "sl.value = 20\n",
    "b.click()\n",
    "sl.value = 30\n",
    "f = p.children[0].children[0]\n",
    "f.children = [\n",
    "    f.top_bar,\n",
    "    HBox([f.left_bar, f.canvas.to_image(), f.right_bar]),\n",
    "    f.bottom_bar,\n",
    "]"
   ]
  },
  {
   "cell_type": "code",
   "execution_count": null,
   "id": "00b5ac9c-364c-4403-ba2b-7895cbc61d36",
   "metadata": {},
   "outputs": [],
   "source": [
    "p"
   ]
  },
  {
   "cell_type": "markdown",
   "id": "6dcc6a81-68b4-4b67-8ee7-2606e4e46a83",
   "metadata": {},
   "source": [
    "**Controls:**\n",
    "\n",
    "- To save the current line, click the `Save line` button on the right hand side\n",
    "- To change the line color, use the color picker for that line\n",
    "- To remove a line, click the **[&times;]** button"
   ]
  }
 ],
 "metadata": {
  "kernelspec": {
   "display_name": "Python 3 (ipykernel)",
   "language": "python",
   "name": "python3"
  },
  "language_info": {
   "codemirror_mode": {
    "name": "ipython",
    "version": 3
   },
   "file_extension": ".py",
   "mimetype": "text/x-python",
   "name": "python",
   "nbconvert_exporter": "python",
   "pygments_lexer": "ipython3",
   "version": "3.9.15"
  }
 },
 "nbformat": 4,
 "nbformat_minor": 5
}
