{
 "cells": [
  {
   "cell_type": "markdown",
   "id": "e769d76c-baa5-4168-aa8c-2a08c8a21442",
   "metadata": {},
   "source": [
    "# Scatter3d plot\n",
    "\n",
    "The `scatter3d` plot creates a three-dimensional scatter plot of the data."
   ]
  },
  {
   "cell_type": "code",
   "execution_count": null,
   "id": "a1dab369-6b1d-43c5-86ab-3805136378fc",
   "metadata": {},
   "outputs": [],
   "source": [
    "import plopp as pp\n",
    "import scipp as sc\n",
    "import numpy as np"
   ]
  },
  {
   "cell_type": "markdown",
   "id": "78466f8a-ad5a-49d0-84f2-4c997ed7b4ff",
   "metadata": {},
   "source": [
    "## Scatter plot using a positions vector\n",
    "\n",
    "The easiest way to generate a scatter plot is to use a coordinate of the data array that contains data of the `vector3` dtype.\n",
    "\n",
    "We first generate some fake data, meant to represent clusters of points in a three-dimensional space."
   ]
  },
  {
   "cell_type": "code",
   "execution_count": null,
   "id": "150b3e02-592c-4f13-95cc-354458dd6deb",
   "metadata": {},
   "outputs": [],
   "source": [
    "nclusters = 100\n",
    "npercluster = 1000\n",
    "\n",
    "position = np.zeros((nclusters, npercluster, 3))\n",
    "values = np.zeros((nclusters, npercluster))\n",
    "\n",
    "for n in range(nclusters):\n",
    "    center = 500.0 * (np.random.random(3) - 0.5)\n",
    "    r = 20.0 * np.random.normal(size=[npercluster, 3])\n",
    "    position[n, :] = r + center\n",
    "    values[n, :] = np.linalg.norm(r, axis=1) + n\n",
    "\n",
    "da = sc.DataArray(\n",
    "    data=sc.array(dims=['row'], values=values.flatten(), unit='K'),\n",
    "    coords={\n",
    "        'position': sc.vectors(\n",
    "            dims=['row'], unit='m', values=position.reshape(nclusters * npercluster, 3)\n",
    "        )\n",
    "    },\n",
    ")\n",
    "da"
   ]
  },
  {
   "cell_type": "markdown",
   "id": "d054e1a6-e503-43e8-9a9b-2ec73c5ef6e5",
   "metadata": {},
   "source": [
    "We then simply specify the name of the coordinate that contains the vector positions using the `pos` argument:"
   ]
  },
  {
   "cell_type": "code",
   "execution_count": null,
   "id": "edb1a9e2-5a86-4652-b2d6-62dbf716a02c",
   "metadata": {},
   "outputs": [],
   "source": [
    "pp.scatter3d(da, pos='position', figsize=(550, 400))"
   ]
  },
  {
   "cell_type": "markdown",
   "id": "951c725d-c03f-4bee-b752-b7a5700aec2a",
   "metadata": {},
   "source": [
    "## Scatter plot using individual coordinates\n",
    "\n",
    "It is also possible to create scatter plots using three individual coordinate names for the x, y, z dimensions:"
   ]
  },
  {
   "cell_type": "code",
   "execution_count": null,
   "id": "946d9820-72a7-466c-9f90-c1d5789f60c7",
   "metadata": {},
   "outputs": [],
   "source": [
    "time = np.linspace(0, 10, 50)\n",
    "x = np.cos(time)\n",
    "y = np.sin(time)\n",
    "\n",
    "da = sc.DataArray(\n",
    "    data=sc.array(dims=['row'], values=time),\n",
    "    coords={\n",
    "        'x': sc.array(dims=['row'], unit='m', values=x),\n",
    "        'y': sc.array(dims=['row'], unit='m', values=y),\n",
    "        'time': sc.array(dims=['row'], unit='s', values=time),\n",
    "    },\n",
    ")\n",
    "\n",
    "pp.scatter3d(da, x='x', y='y', z='time', figsize=(550, 400), pixel_size=0.2)"
   ]
  }
 ],
 "metadata": {
  "kernelspec": {
   "display_name": "Python 3 (ipykernel)",
   "language": "python",
   "name": "python3"
  },
  "language_info": {
   "codemirror_mode": {
    "name": "ipython",
    "version": 3
   },
   "file_extension": ".py",
   "mimetype": "text/x-python",
   "name": "python",
   "nbconvert_exporter": "python",
   "pygments_lexer": "ipython3",
   "version": "3.9.13"
  }
 },
 "nbformat": 4,
 "nbformat_minor": 5
}
