{
 "cells": [
  {
   "cell_type": "markdown",
   "id": "c5913ed6-9577-4614-990b-2f80bce1ebf8",
   "metadata": {},
   "source": [
    "# Inspector plot\n",
    "\n",
    "The `inspector` plot takes in a three-dimensional input and applies a reduction operation (`sum` by default) along one of the dimensions specified by `dim`.\n",
    "It displays the result as a two-dimensional image.\n",
    "\n",
    "In addition, the inspector tool\n",
    "<img src='https://upload.wikimedia.org/wikipedia/commons/thumb/1/15/Font_Awesome_5_solid_crosshairs.svg/32px-Font_Awesome_5_solid_crosshairs.svg.png' width=\"20\"/>\n",
    "in the toolbar allows to add markers on the image,\n",
    "which generate one-dimensional slices (retaining only `dim`) that are displayed in a second figure.\n",
    "\n",
    "The points can be dragged/moved, as well as deleted (via a middle click).\n",
    "Below is an example on how to create the `inspector` plot."
   ]
  },
  {
   "cell_type": "code",
   "execution_count": null,
   "id": "b97842b6-aea5-4308-8a11-34a92c4de55d",
   "metadata": {},
   "outputs": [],
   "source": [
    "%matplotlib widget\n",
    "import plopp as pp"
   ]
  },
  {
   "cell_type": "code",
   "execution_count": null,
   "id": "f152c042-c22a-44c2-8ab1-f712cf8f8de8",
   "metadata": {},
   "outputs": [],
   "source": [
    "da = pp.data.data3d()\n",
    "p = pp.inspector(da, dim='z', orientation='vertical')"
   ]
  },
  {
   "cell_type": "code",
   "execution_count": null,
   "id": "9dea0be0-1bd0-453e-8c91-fb7b5706341f",
   "metadata": {
    "nbsphinx": "hidden"
   },
   "outputs": [],
   "source": [
    "import numpy as np\n",
    "\n",
    "np.random.seed(123)\n",
    "N = 3\n",
    "\n",
    "tool = p.children[0].toolbar['inspect']\n",
    "tool.value = True\n",
    "\n",
    "for i in range(N):\n",
    "    x, y = 40 * np.random.random(2)\n",
    "    tool._tool.click(x, y)\n",
    "\n",
    "\n",
    "def update(pl):\n",
    "    from ipywidgets import HBox\n",
    "\n",
    "    f1 = pl.children[0]\n",
    "    f1.children = [\n",
    "        f1.top_bar,\n",
    "        HBox([f1.left_bar, f1.canvas.to_image(), f1.right_bar]),\n",
    "        f1.bottom_bar,\n",
    "    ]\n",
    "    f2 = pl.children[1]\n",
    "    f2.children = [\n",
    "        f2.top_bar,\n",
    "        HBox([f2.left_bar, f2.canvas.to_image(), f2.right_bar]),\n",
    "        f2.bottom_bar,\n",
    "    ]\n",
    "\n",
    "\n",
    "update(p)"
   ]
  },
  {
   "cell_type": "code",
   "execution_count": null,
   "id": "7c3cee5d-660e-4522-a5a5-f7b4fcba896b",
   "metadata": {},
   "outputs": [],
   "source": [
    "p"
   ]
  },
  {
   "cell_type": "markdown",
   "id": "9e892f59-577c-45cb-8e82-0661578de0a9",
   "metadata": {},
   "source": [
    "**Controls**\n",
    "\n",
    "- Click to make new point\n",
    "- Drag existing point to move it\n",
    "- Middle-click to delete point\n",
    "\n",
    "### Changing the reduction operation\n",
    "\n",
    "As mentioned above, the default operation applied along the third dimension is a `sum`.\n",
    "This can be changed via the `operation` argument (possible other choices are `mean`, `min`, and `max`):"
   ]
  },
  {
   "cell_type": "code",
   "execution_count": null,
   "id": "059bde15-a597-49f8-a3c3-11091d8c74e3",
   "metadata": {},
   "outputs": [],
   "source": [
    "da = pp.data.data3d()\n",
    "p = pp.inspector(da, orientation='vertical', operation='max')"
   ]
  },
  {
   "cell_type": "code",
   "execution_count": null,
   "id": "db13c5c9-3ee0-4196-a823-72719a069610",
   "metadata": {
    "nbsphinx": "hidden"
   },
   "outputs": [],
   "source": [
    "tool = p.children[0].toolbar['inspect']\n",
    "tool.value = True\n",
    "for i in range(N):\n",
    "    x, y = 40 * np.random.random(2)\n",
    "    tool._tool.click(x, y)\n",
    "update(p)"
   ]
  },
  {
   "cell_type": "code",
   "execution_count": null,
   "id": "2ea117f7-7090-4ddc-89c9-74d8fdbffdfa",
   "metadata": {},
   "outputs": [],
   "source": [
    "p"
   ]
  }
 ],
 "metadata": {
  "kernelspec": {
   "display_name": "Python 3 (ipykernel)",
   "language": "python",
   "name": "python3"
  },
  "language_info": {
   "codemirror_mode": {
    "name": "ipython",
    "version": 3
   },
   "file_extension": ".py",
   "mimetype": "text/x-python",
   "name": "python",
   "nbconvert_exporter": "python",
   "pygments_lexer": "ipython3"
  }
 },
 "nbformat": 4,
 "nbformat_minor": 5
}
