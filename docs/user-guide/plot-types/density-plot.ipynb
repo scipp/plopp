{
 "cells": [
  {
   "cell_type": "markdown",
   "id": "f01db86a-d629-4fef-8635-fce65897b794",
   "metadata": {},
   "source": [
    "# Density plot\n",
    "\n",
    "The `density_plot` makes a plot of data with bin-edge coordinates,\n",
    "where the counts in each bin have been divided by the bin width (normalized).\n",
    "\n",
    "When histogramming data, changing the number of bins used affects the resolution of the result,\n",
    "but also the vertical scaling,\n",
    "as using more bins means there will inevitably be less counts per bin.\n",
    "\n",
    "Dividing by the with of the bins can correct for this effect.\n",
    "\n",
    "## One-dimensional density plot"
   ]
  },
  {
   "cell_type": "code",
   "execution_count": null,
   "id": "c04d4d7a-fbc4-4640-a540-916e33f0afde",
   "metadata": {},
   "outputs": [],
   "source": [
    "import plopp as pp\n",
    "\n",
    "a = pp.data.scatter(50_000, unit='counts')\n",
    "a"
   ]
  },
  {
   "cell_type": "code",
   "execution_count": null,
   "id": "97f7548d-f69f-4c9d-95fc-30ebd7da1483",
   "metadata": {},
   "outputs": [],
   "source": [
    "h100 = a.hist(x=100)\n",
    "h200 = a.hist(x=200)\n",
    "\n",
    "(pp.plot({'one': h100, 'two': h200}, title=\"Normal plot\") +\n",
    " pp.density_plot({'one': h100, 'two':  h200}, title=\"Density plot\") \n",
    " )"
   ]
  },
  {
   "cell_type": "markdown",
   "id": "000ce1bc-5d3e-4168-b1b8-d42d0d4d1669",
   "metadata": {},
   "source": [
    "## Two dimensional density plot"
   ]
  },
  {
   "cell_type": "code",
   "execution_count": null,
   "id": "746b3616-1514-402e-8fdb-9915e53c6400",
   "metadata": {},
   "outputs": [],
   "source": [
    "h20 = a.hist(y=20, x=20)\n",
    "h40 = a.hist(y=40, x=40)\n",
    "\n",
    "((h20.plot(title=\"Normal plot: 20 bins\", vmax=12000) + h40.plot(title=\"Normal plot: 40 bins\", vmax=12000)) / \n",
    "(pp.density_plot(h20, title=\"Density plot: 20 bins\", vmax=800) + pp.density_plot(h40, title=\"Density plot: 40 bins\", vmax=800)))"
   ]
  }
 ],
 "metadata": {
  "kernelspec": {
   "display_name": "Python 3 (ipykernel)",
   "language": "python",
   "name": "python3"
  },
  "language_info": {
   "codemirror_mode": {
    "name": "ipython",
    "version": 3
   },
   "file_extension": ".py",
   "mimetype": "text/x-python",
   "name": "python",
   "nbconvert_exporter": "python",
   "pygments_lexer": "ipython3"
  }
 },
 "nbformat": 4,
 "nbformat_minor": 5
}
