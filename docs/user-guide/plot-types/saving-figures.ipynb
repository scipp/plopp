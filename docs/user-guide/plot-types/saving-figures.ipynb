{
 "cells": [
  {
   "cell_type": "markdown",
   "id": "482f10de-b81d-4955-b50e-e5897d219799",
   "metadata": {},
   "source": [
    "# Saving figures to disk\n",
    "\n",
    "To save a figure to disk, the `save` method should be called on the figure after creation.\n",
    "Saving figures is available for one and two-dimensional figures.\n",
    "Possible file formats are `.png`, `.pdf`, `.jpg`, and `.svg`."
   ]
  },
  {
   "cell_type": "code",
   "execution_count": null,
   "id": "0479061c-bd9b-4e77-9da8-49799bb2749e",
   "metadata": {},
   "outputs": [],
   "source": [
    "import plopp as pp\n",
    "\n",
    "da1d = pp.data.data1d()\n",
    "f1d = pp.plot(da1d)\n",
    "f1d"
   ]
  },
  {
   "cell_type": "code",
   "execution_count": null,
   "id": "b370edbc-5fe2-4ab3-9b4d-cce0bb5ea76f",
   "metadata": {},
   "outputs": [],
   "source": [
    "f1d.save('fig.png')"
   ]
  },
  {
   "cell_type": "markdown",
   "id": "024f92db-e307-4aa8-bb09-37024a7b8ac6",
   "metadata": {},
   "source": [
    "## A note on widgets\n",
    "\n",
    "When using the interactive plotting backend `%matplotlib widget`,\n",
    "a toolbar with buttons is displayed next to the figure in the notebook.\n",
    "These buttons will not be included when saving the figure to disk,\n",
    "only the graphics will make it to the file."
   ]
  },
  {
   "cell_type": "code",
   "execution_count": null,
   "id": "5ae86d91-0be9-4bb0-9c8d-d77c2b48c799",
   "metadata": {},
   "outputs": [],
   "source": [
    "%matplotlib widget\n",
    "da2d = pp.data.data2d()\n",
    "f2d = pp.plot(da2d)\n",
    "f2d"
   ]
  },
  {
   "cell_type": "code",
   "execution_count": null,
   "id": "0ccab7ee-8ba0-41d1-a320-8e58a1b6bc05",
   "metadata": {},
   "outputs": [],
   "source": [
    "f2d.save('fig2d.pdf')"
   ]
  },
  {
   "cell_type": "markdown",
   "id": "74dce037-e979-4a41-be30-eb82007e4d36",
   "metadata": {},
   "source": [
    "## Saving 3D scatter plots\n",
    "\n",
    "<div class=\"versionadded\" style=\"font-weight: bold;\">\n",
    "\n",
    "<img src=\"../../_static/circle-exclamation.svg\" width=\"16\" height=\"16\" />\n",
    "&nbsp;\n",
    "New in version 23.02.0.\n",
    "\n",
    "</div>\n",
    "\n",
    "It also possible to save three-dimensional scatter plots to a standalone `.html` file."
   ]
  },
  {
   "cell_type": "code",
   "execution_count": null,
   "id": "7445224e-bedd-4002-b0e7-091aad715e2c",
   "metadata": {},
   "outputs": [],
   "source": [
    "f3d = pp.scatter3d(pp.data.scatter(), pos='position')\n",
    "# Need index 0, as `scatter3d` returns a Box with the figure and cut3d tool\n",
    "f3d[0].save('fig3d.html')"
   ]
  },
  {
   "cell_type": "markdown",
   "id": "618fe7bf-c9ae-4372-af42-e214b16ae980",
   "metadata": {},
   "source": [
    "Saving three-dimensional scatter plots to static (e.g. `.png` images) is currently not implemented.\n",
    "We recommend to take a static screenshot of the figure."
   ]
  }
 ],
 "metadata": {
  "kernelspec": {
   "display_name": "Python 3 (ipykernel)",
   "language": "python",
   "name": "python3"
  },
  "language_info": {
   "codemirror_mode": {
    "name": "ipython",
    "version": 3
   },
   "file_extension": ".py",
   "mimetype": "text/x-python",
   "name": "python",
   "nbconvert_exporter": "python",
   "pygments_lexer": "ipython3"
  }
 },
 "nbformat": 4,
 "nbformat_minor": 5
}
