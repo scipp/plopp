{
 "cells": [
  {
   "cell_type": "markdown",
   "id": "a175931f-a0fd-48f7-83cc-9db14d454535",
   "metadata": {},
   "source": [
    "# Slicer plot\n",
    "\n",
    "The `slicer` plot is designed to provide sliders to slice higher dimensions of the data in an interactive way.\n",
    "\n",
    "This is used for example in the case of having a 3 dimensional data cube,\n",
    "and wanting to display it as a 2 dimensional image, with a slider to navigate the third dimension."
   ]
  },
  {
   "cell_type": "code",
   "execution_count": null,
   "id": "00f7ac7c-794e-4b71-8dcd-c147fee1ffa4",
   "metadata": {},
   "outputs": [],
   "source": [
    "%matplotlib widget\n",
    "import plopp as pp\n",
    "\n",
    "da = pp.data.data3d()"
   ]
  },
  {
   "cell_type": "markdown",
   "id": "04bcabe8-0863-44aa-878b-f02b2b0e37bd",
   "metadata": {},
   "source": [
    "The `slicer` function needs a list of dimensions that are to be kept (all remaining dims will be sliced):"
   ]
  },
  {
   "cell_type": "code",
   "execution_count": null,
   "id": "d97f054e-0d49-4d8a-af87-dfed7e357b12",
   "metadata": {},
   "outputs": [],
   "source": [
    "pp.slicer(da, keep=['x', 'y'])"
   ]
  },
  {
   "cell_type": "markdown",
   "id": "6dcc6a81-68b4-4b67-8ee7-2606e4e46a83",
   "metadata": {},
   "source": [
    "Keeping only a single dimension will produce a 1 dimensional plot:"
   ]
  },
  {
   "cell_type": "code",
   "execution_count": null,
   "id": "7ac3a326-c463-4324-8934-c67f673454c7",
   "metadata": {},
   "outputs": [],
   "source": [
    "pp.slicer(da, keep=['x'])"
   ]
  }
 ],
 "metadata": {
  "kernelspec": {
   "display_name": "Python 3 (ipykernel)",
   "language": "python",
   "name": "python3"
  },
  "language_info": {
   "codemirror_mode": {
    "name": "ipython",
    "version": 3
   },
   "file_extension": ".py",
   "mimetype": "text/x-python",
   "name": "python",
   "nbconvert_exporter": "python",
   "pygments_lexer": "ipython3",
   "version": "3.9.13"
  }
 },
 "nbformat": 4,
 "nbformat_minor": 5
}
