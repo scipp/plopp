{
 "cells": [
  {
   "cell_type": "markdown",
   "id": "c5913ed6-9577-4614-990b-2f80bce1ebf8",
   "metadata": {},
   "source": [
    "# Linecutter plot\n",
    "\n",
    "The `linecutter` plot provides a\n",
    "<img src=\"https://upload.wikimedia.org/wikipedia/commons/thumb/7/7f/Font_Awesome_5_solid_slash.svg/32px-Font_Awesome_5_solid_slash.svg.png\" width=\"20\"/>\n",
    "tool in the toolbar that allows to draw lines on the image,\n",
    "which generate one-dimensional cuts (or profiles) that are displayed in a second figure.\n",
    "\n",
    "The lines (as well as their vertices) can be dragged/moved, as well as deleted (via a middle click).\n",
    "Below is an example on how to create the `linecutter` plot."
   ]
  },
  {
   "cell_type": "code",
   "execution_count": null,
   "id": "b97842b6-aea5-4308-8a11-34a92c4de55d",
   "metadata": {},
   "outputs": [],
   "source": [
    "%matplotlib widget\n",
    "import plopp as pp"
   ]
  },
  {
   "cell_type": "code",
   "execution_count": null,
   "id": "f152c042-c22a-44c2-8ab1-f712cf8f8de8",
   "metadata": {},
   "outputs": [],
   "source": [
    "da = pp.data.data_array(ndim=2)\n",
    "p = pp.linecutter(da, orientation='vertical')"
   ]
  },
  {
   "cell_type": "code",
   "execution_count": null,
   "id": "9dea0be0-1bd0-453e-8c91-fb7b5706341f",
   "metadata": {
    "nbsphinx": "hidden"
   },
   "outputs": [],
   "source": [
    "import numpy as np\n",
    "from dataclasses import dataclass\n",
    "\n",
    "np.random.seed(123)\n",
    "N = 3\n",
    "\n",
    "@dataclass\n",
    "class Event:\n",
    "    xdata: float\n",
    "    ydata: float\n",
    "\n",
    "tool = p.children[0].toolbar['LineCutTool']\n",
    "for i in range(N):\n",
    "    x = 40.0 * np.random.random(2)\n",
    "    y = 40.0 * np.random.random(2)\n",
    "    tool.lines._make_new_line(x[0], y[0])\n",
    "    l = tool.lines.lines[-1]\n",
    "    new_data = l.get_data()\n",
    "    new_data[0][-1] = x[1]\n",
    "    new_data[1][-1] = y[1]\n",
    "    l.set_data(new_data)\n",
    "    tool.lines._finalize_line(event=Event(xdata=x[1], ydata=y[1]))\n",
    "\n",
    "def update(pl):\n",
    "    from ipywidgets import HBox\n",
    "    f1 = pl.children[0]\n",
    "    f1.children = [f1.top_bar, HBox([f1.left_bar, f1.canvas.to_image(), f1.right_bar]), f1.bottom_bar]\n",
    "    f2 = pl.children[1]\n",
    "    f2.children = [f2.top_bar, HBox([f2.left_bar, f2.canvas.to_image(), f2.right_bar]), f2.bottom_bar]\n",
    "\n",
    "update(p)"
   ]
  },
  {
   "cell_type": "code",
   "execution_count": null,
   "id": "7c3cee5d-660e-4522-a5a5-f7b4fcba896b",
   "metadata": {},
   "outputs": [],
   "source": [
    "p"
   ]
  },
  {
   "cell_type": "markdown",
   "id": "9e892f59-577c-45cb-8e82-0661578de0a9",
   "metadata": {},
   "source": [
    "**Controls**\n",
    "\n",
    "- Click to make a new line\n",
    "- Click and drag line vertex to move vertex\n",
    "- Right-click and drag to move the entire line\n",
    "- Middle-click to delete line"
   ]
  }
 ],
 "metadata": {
  "kernelspec": {
   "display_name": "Python 3 (ipykernel)",
   "language": "python",
   "name": "python3"
  },
  "language_info": {
   "codemirror_mode": {
    "name": "ipython",
    "version": 3
   },
   "file_extension": ".py",
   "mimetype": "text/x-python",
   "name": "python",
   "nbconvert_exporter": "python",
   "pygments_lexer": "ipython3",
   "version": "3.9.13"
  }
 },
 "nbformat": 4,
 "nbformat_minor": 5
}
