{
 "cells": [
  {
   "cell_type": "markdown",
   "id": "3d2790da-668b-4dad-91c0-9d73f09bcdab",
   "metadata": {},
   "source": [
    "# Building custom interfaces\n",
    "\n",
    "This notebook will demonstrate how to create custom interactive interfaces to visualize a data set with `plopp`."
   ]
  },
  {
   "cell_type": "code",
   "execution_count": null,
   "id": "850173b5-e002-49b4-ab1f-11a7ce3a6401",
   "metadata": {},
   "outputs": [],
   "source": [
    "%matplotlib widget\n",
    "import plopp as pp\n",
    "import scipp as sc\n",
    "import numpy as np"
   ]
  },
  {
   "cell_type": "markdown",
   "id": "53c46a33-2385-4fa8-b440-d1d7dc7ff736",
   "metadata": {},
   "source": [
    "The data is a two-dimensional data array, where the values are generated using a sine function.\n",
    "We also add a small amount of random noise to the values."
   ]
  },
  {
   "cell_type": "code",
   "execution_count": null,
   "id": "43374bbd-3dbd-46f0-b52e-558752a85bb8",
   "metadata": {},
   "outputs": [],
   "source": [
    "nx = 200\n",
    "ny = 150\n",
    "\n",
    "x = np.arange(float(nx))\n",
    "y = np.arange(float(ny))\n",
    "noise = np.random.random((ny, nx))\n",
    "z = 3.0 * np.sin(np.sqrt(x**2 + y.reshape(ny, 1) ** 2) / 10.0) + noise + 300.0\n",
    "\n",
    "da = sc.DataArray(\n",
    "    data=sc.array(dims=['y', 'x'], values=z, unit='K'),\n",
    "    coords={\n",
    "        'x': sc.array(dims=['x'], values=x, unit='m'),\n",
    "        'y': sc.array(dims=['y'], values=y, unit='m'),\n",
    "    },\n",
    ")\n",
    "\n",
    "da"
   ]
  },
  {
   "cell_type": "markdown",
   "id": "6a96bf2d-3849-4c90-8c67-3838cf50b429",
   "metadata": {},
   "source": [
    "## A set of connected nodes\n",
    "\n",
    "In `plopp`, think of each element in your interface as a set of interconnected nodes in a graph.\n",
    "Each node can have parent nodes, children nodes, and also views attached to them (e.g. figures).\n",
    "\n",
    "At the most basic level, a graph will contain a node (white rectangle) that provides the input data,\n",
    "and a view (grey ellipse) which will be a figure to display the data visually.\n",
    "Note that the figure takes as input the `data_node`."
   ]
  },
  {
   "cell_type": "code",
   "execution_count": null,
   "id": "424ad72b-5f66-46a2-ad29-9ec67847b5f3",
   "metadata": {},
   "outputs": [],
   "source": [
    "data_node = pp.Node(da)\n",
    "\n",
    "fig = pp.figure2d(data_node)\n",
    "\n",
    "pp.show_graph(data_node)  # display the graph"
   ]
  },
  {
   "cell_type": "markdown",
   "id": "4e299e9a-da48-47bd-bbae-33572c241e79",
   "metadata": {},
   "source": [
    "When the data in the input node changes, the view is notified about the change.\n",
    "It requests new data from its parent node and updates the visuals on the figure.\n",
    "\n",
    "The figure can directly be displayed in the notebook:"
   ]
  },
  {
   "cell_type": "code",
   "execution_count": null,
   "id": "5b5fd04a-b3c7-4e7d-b08a-f3276f5de08c",
   "metadata": {},
   "outputs": [],
   "source": [
    "fig"
   ]
  },
  {
   "cell_type": "markdown",
   "id": "dadc1065-0c73-4f87-a6a3-f81723ce00dc",
   "metadata": {},
   "source": [
    "### Nodes are callables\n",
    "\n",
    "Nodes in the graph have to be constructed from callables.\n",
    "When a view requests data from a parent node, the callable is called.\n",
    "Typically, the callable will be a function that takes in a data array as an input,\n",
    "and returns a data array as an output.\n",
    "\n",
    "Keeping your inputs and outputs as data arrays is useful because figure views will only accept data arrays as input.\n",
    "That said, nodes that produce other outputs are very common, for example when using interactive widgets.\n",
    "\n",
    "In the small example above, the node at the top of the graph has no parents,\n",
    "and its callable is simply a `lambda` function with no arguments that just returns the input data.\n",
    "\n",
    "Calling any node will return the output from its internal callable\n",
    "(this is very similar to [Dask's](https://docs.dask.org/en/stable/delayed.html) `delayed.compute()` method).\n",
    "In our example above, calling `data_node` will simply return the initial data array"
   ]
  },
  {
   "cell_type": "code",
   "execution_count": null,
   "id": "cf2828c1-b3c7-411f-b965-f56835b6f13e",
   "metadata": {},
   "outputs": [],
   "source": [
    "data_node()"
   ]
  },
  {
   "cell_type": "markdown",
   "id": "9ecf2cbe-7478-4a6b-94b9-b25574b2c9c3",
   "metadata": {},
   "source": [
    "But for more complex graphs, the call will walk the tree, requesting all the pieces of data it needs to compute the final result.\n",
    "\n",
    "## Expanding the graph\n",
    "\n",
    "Next, say we wish to add a gaussian smoothing step in our graph, before showing the data on the figure.\n",
    "We start with the same `data_node`, but add a second node that performs the smoothing operation before attaching the figure.\n",
    "Because the `gaussian_filter` function requires a kernel width `sigma` as input, we set it to 5 via a keyword argument\n",
    "(note here that it is not necessary to wrap it into a `Node`, this will automatically be handled internally)."
   ]
  },
  {
   "cell_type": "code",
   "execution_count": null,
   "id": "20abc54f-ec99-4113-9aef-fb7e4133c6aa",
   "metadata": {},
   "outputs": [],
   "source": [
    "from scipp.scipy.ndimage import gaussian_filter\n",
    "\n",
    "data_node = pp.Node(da)\n",
    "\n",
    "smooth_node = pp.Node(gaussian_filter, data_node, sigma=5)\n",
    "\n",
    "fig = pp.figure2d(smooth_node)"
   ]
  },
  {
   "cell_type": "markdown",
   "id": "dcd46e8d-947c-4866-b9c1-a0a70ee56774",
   "metadata": {},
   "source": [
    "The resulting graph has two input nodes (one for the data array and one for the kernel width), a smoothing node, and a figure:"
   ]
  },
  {
   "cell_type": "code",
   "execution_count": null,
   "id": "5cf353e2-6968-4741-becc-926bc3c16f34",
   "metadata": {},
   "outputs": [],
   "source": [
    "pp.show_graph(data_node)"
   ]
  },
  {
   "cell_type": "markdown",
   "id": "b46191da-9516-402f-8f01-ad86014d8bc9",
   "metadata": {},
   "source": [
    "And the resulting figure displays the smoothed data:"
   ]
  },
  {
   "cell_type": "code",
   "execution_count": null,
   "id": "1c986694-254e-4b42-a3f0-ae0d1408a3c1",
   "metadata": {},
   "outputs": [],
   "source": [
    "fig"
   ]
  },
  {
   "cell_type": "markdown",
   "id": "4b69e6aa-88ad-419b-b9af-acd581645e8c",
   "metadata": {},
   "source": [
    "## Adding interactive widgets\n",
    "\n",
    "In the example above, the kernel size `sigma` for the gaussian smoothing was frozen to `5`.\n",
    "But we would actually want to control this via a slider widget.\n",
    "\n",
    "In this case, the smoothing node now needs two inputs: the raw data, and the `sigma`.\n",
    "It gets the raw data from the `data_node`, and the `sigma` from a `widget_node`,\n",
    "which is coupled to a slider from the `ipywidgets` library."
   ]
  },
  {
   "cell_type": "code",
   "execution_count": null,
   "id": "c483edcd-f28c-48c7-a6f4-958964a03bc8",
   "metadata": {},
   "outputs": [],
   "source": [
    "import ipywidgets as ipw\n",
    "\n",
    "data_node = pp.Node(da)\n",
    "\n",
    "slider = ipw.IntSlider(min=1, max=20)\n",
    "slider_node = pp.widget_node(slider)\n",
    "\n",
    "smooth_node = pp.Node(gaussian_filter, data_node, sigma=slider_node)\n",
    "\n",
    "fig = pp.figure2d(smooth_node)"
   ]
  },
  {
   "cell_type": "markdown",
   "id": "c671a291-bf40-40f7-9e03-75dbd77997b2",
   "metadata": {},
   "source": [
    "As expected, the smoothing node now has a widget as one of its parent nodes instead of the fixed-value input node:"
   ]
  },
  {
   "cell_type": "code",
   "execution_count": null,
   "id": "743c2fdb-9782-439e-9e25-e3afe5960ad3",
   "metadata": {},
   "outputs": [],
   "source": [
    "pp.show_graph(fig)"
   ]
  },
  {
   "cell_type": "markdown",
   "id": "08ce4da8-21ea-4aa4-bedc-4b38f01fdcdd",
   "metadata": {},
   "source": [
    "And we can display the figure and the slider inside the same container:"
   ]
  },
  {
   "cell_type": "code",
   "execution_count": null,
   "id": "9d35d552-af80-46f4-82b3-638d85a2b40a",
   "metadata": {},
   "outputs": [],
   "source": [
    "ipw.VBox([slider, fig])"
   ]
  },
  {
   "cell_type": "markdown",
   "id": "57f6734d-15e4-43da-abfb-c916004152c2",
   "metadata": {},
   "source": [
    "When a change occurs in one of the nodes, all the nodes below it in the graph are notified about the change (the children nodes receive a notification, and they, in turn, notify their own children).\n",
    "It is then up to each view to decide whether they are interested in the notification or not (usually, most views are interested in all notifications from parents).\n",
    "If they are, they request data from their parent nodes, which in turn request data from their parents, and so on, until the request has reached the top of the graph.\n",
    "\n",
    "As a result, when the slider is dragged, the smoothing node gets notified and tells the figure that a change has occurred.\n",
    "The figure tells `smooth_node` that it wants updated data.\n",
    "`smooth_node` asks nodes `data_node` and `slider_node` for their data.\n",
    "`data_node` returns the raw data, while `slider_node` returns the integer value for the kernel size.\n",
    "`smooth_node` then simply sends the inputs to the `gaussian_filter` function, and forwards the result to the figure."
   ]
  },
  {
   "cell_type": "markdown",
   "id": "b3a07b8f-7212-491f-a878-e854f23496e6",
   "metadata": {},
   "source": [
    "<div class=\"alert alert-warning\">\n",
    "\n",
    "*Warning*\n",
    "\n",
    "The figure will not update when dragging the slider in the documentation pages.\n",
    "This will only work inside a Jupyter notebook.\n",
    "    \n",
    "</div>"
   ]
  },
  {
   "cell_type": "markdown",
   "id": "4375c234-a3c7-47a6-a48f-ee67837cbf82",
   "metadata": {},
   "source": [
    "## Multiple views\n",
    "\n",
    "To go one step further,\n",
    "we now wish to add a one-dimensional figure that will display the sum of the two-dimensional data along the vertical dimension.\n",
    "On this figure, we would like to display both the original (unsmoothed) data, as well as the smoothed data."
   ]
  },
  {
   "cell_type": "code",
   "execution_count": null,
   "id": "686b3cdf-33b5-4e45-85b9-b2266211c0bc",
   "metadata": {},
   "outputs": [],
   "source": [
    "data_node = pp.Node(da)\n",
    "\n",
    "slider = ipw.IntSlider(min=1, max=20, value=10)\n",
    "slider_node = pp.widget_node(slider)\n",
    "\n",
    "smooth_node = pp.Node(gaussian_filter, data_node, sigma=slider_node)\n",
    "\n",
    "fig2d = pp.figure2d(smooth_node)\n",
    "\n",
    "# Sum the raw data along the vertical dimension\n",
    "sum_raw = pp.Node(sc.sum, data_node, dim='y')\n",
    "# Sum the smoothed data along the vertical dimension\n",
    "sum_smoothed = pp.Node(sc.sum, smooth_node, dim='y')\n",
    "# Give two nodes to a figure to display both on the same axes\n",
    "fig1d = pp.figure1d(sum_raw, sum_smoothed)"
   ]
  },
  {
   "cell_type": "markdown",
   "id": "36c9ea09-8701-465c-beec-f55d371192ee",
   "metadata": {},
   "source": [
    "We check the graph again to make sure that the one-dimensional figure has two inputs,\n",
    "and that both are performing a sum along the `y` dimension."
   ]
  },
  {
   "cell_type": "code",
   "execution_count": null,
   "id": "81ae3b91-9622-48ca-bc90-f5cbce5ea426",
   "metadata": {},
   "outputs": [],
   "source": [
    "pp.show_graph(slider_node)"
   ]
  },
  {
   "cell_type": "code",
   "execution_count": null,
   "id": "d908a930-a1dc-4e7b-90f4-be8cb7e11d88",
   "metadata": {},
   "outputs": [],
   "source": [
    "ipw.VBox([slider, fig2d, fig1d])"
   ]
  },
  {
   "cell_type": "markdown",
   "id": "4b595fcb-02b8-4fa3-be16-3512e65b2c6a",
   "metadata": {},
   "source": [
    "Because the slider only affects the smoothing part of the graph,\n",
    "only the orange markers will update when we drag the slider.\n",
    "\n",
    "## Multiple controls and the `node` decorator\n",
    "\n",
    "In this section, masks will be added to the raw data,\n",
    "and a widget made of checkboxes will be used to toggle the masks on and off.\n",
    "\n",
    "We make a slightly different interface, where we remove the gaussian smoothing,\n",
    "and instead use the slider to slice rows in the input data."
   ]
  },
  {
   "cell_type": "code",
   "execution_count": null,
   "id": "29a6345c-d530-4278-8896-b6baca81d2aa",
   "metadata": {},
   "outputs": [],
   "source": [
    "da.masks['close_to_300'] = abs(da.data - sc.scalar(300.0, unit='K')) < sc.scalar(1.0, unit='K')\n",
    "da.masks['large_x'] = da.coords['x'] > sc.scalar(150.0, unit='m')\n",
    "da"
   ]
  },
  {
   "cell_type": "markdown",
   "id": "38984bbe-b161-4cfd-8994-e69774497555",
   "metadata": {},
   "source": [
    "The data node remains the same:"
   ]
  },
  {
   "cell_type": "code",
   "execution_count": null,
   "id": "13347965-3359-486c-99ec-8670f7b4797d",
   "metadata": {},
   "outputs": [],
   "source": [
    "data_node = pp.Node(da)"
   ]
  },
  {
   "cell_type": "markdown",
   "id": "7ae9ce63-4318-4646-8cbe-d15014f48fb4",
   "metadata": {},
   "source": [
    "Next, we create a `Checkboxes` widget which takes in a set of keys/strings as input.\n",
    "It will create a checkbox per entry."
   ]
  },
  {
   "cell_type": "code",
   "execution_count": null,
   "id": "ecaea2a3-2a66-42c6-b3c9-369b26aa4c50",
   "metadata": {},
   "outputs": [],
   "source": [
    "from plopp.widgets import Checkboxes, Box\n",
    "\n",
    "masks_widget = Checkboxes(da.masks.keys())\n",
    "masks_widget"
   ]
  },
  {
   "cell_type": "markdown",
   "id": "1a0a4ce7-5ab2-4187-b89c-2e0df7a3e86e",
   "metadata": {},
   "source": [
    "The `.value` of the widget simply contains the values for the individual checkboxes:"
   ]
  },
  {
   "cell_type": "code",
   "execution_count": null,
   "id": "48474e09-2469-42e0-be0b-fbdbc89691e1",
   "metadata": {},
   "outputs": [],
   "source": [
    "masks_widget.value"
   ]
  },
  {
   "cell_type": "markdown",
   "id": "69510b9d-8bbb-4e7d-8c39-dde70d88b3db",
   "metadata": {},
   "source": [
    "We make a node from the checkboxes widget using `widget_node` once again.\n",
    "\n",
    "We can supply custom functions to the `Node` constructor,\n",
    "but it is often useful to decorate our functions with the `plopp.node` decorator,\n",
    "and then call the functions directly.\n",
    "\n",
    "We therefore define a function that will hide masks depending on the checkboxes values,\n",
    "and decorate it with `@pp.node` so that it can accept `data_node` and `masks_node` as inputs."
   ]
  },
  {
   "cell_type": "code",
   "execution_count": null,
   "id": "06483d83-a20f-419e-bf54-d30d7badf7be",
   "metadata": {},
   "outputs": [],
   "source": [
    "masks_node = pp.widget_node(masks_widget)\n",
    "\n",
    "\n",
    "@pp.node\n",
    "def hide_masks(data_array, masks):\n",
    "    out = data_array.copy(deep=False)\n",
    "    for name, value in masks.items():\n",
    "        if name in out.masks and (not value):\n",
    "            del out.masks[name]\n",
    "    return out\n",
    "\n",
    "\n",
    "hide_node = hide_masks(data_array=data_node, masks=masks_node)"
   ]
  },
  {
   "cell_type": "markdown",
   "id": "8d6f05d3-b618-427f-ad39-dcaf3ba3f093",
   "metadata": {},
   "source": [
    "We then connect the slider to a slicing function,\n",
    "and add that below the `hide_node` in the graph:"
   ]
  },
  {
   "cell_type": "code",
   "execution_count": null,
   "id": "00b4c071-d1c3-4039-a2ef-a38c08e0ac18",
   "metadata": {},
   "outputs": [],
   "source": [
    "@pp.node\n",
    "def slice_y(data_array, index):\n",
    "    return data_array['y', index]\n",
    "\n",
    "\n",
    "slider = ipw.IntSlider(min=0, max=da.sizes['y'] - 1)\n",
    "slider_node = pp.widget_node(slider)\n",
    "\n",
    "slice_node = slice_y(hide_node, index=slider_node)\n",
    "\n",
    "pp.show_graph(masks_node)"
   ]
  },
  {
   "cell_type": "markdown",
   "id": "6e53a3c6-37eb-4a68-8431-50294dbb789d",
   "metadata": {},
   "source": [
    "Finally, we add a 2D figure to the `hide_node`,\n",
    "and a 1D figure after the slicing has been performed."
   ]
  },
  {
   "cell_type": "code",
   "execution_count": null,
   "id": "b8acfe84-4061-4639-ab44-22edd71d4259",
   "metadata": {},
   "outputs": [],
   "source": [
    "fig2d = pp.figure2d(hide_node)\n",
    "fig1d = pp.figure1d(slice_node)\n",
    "\n",
    "pp.show_graph(masks_node)"
   ]
  },
  {
   "cell_type": "code",
   "execution_count": null,
   "id": "0beec3e5-1deb-4efe-bbd5-7679789feb7d",
   "metadata": {},
   "outputs": [],
   "source": [
    "Box([[slider, masks_widget], fig2d, fig1d])"
   ]
  },
  {
   "cell_type": "markdown",
   "id": "a963de68-ce9f-4c3a-a9e3-dd40a7458223",
   "metadata": {},
   "source": [
    "Note that the masks update on both the 1D and 2D figures,\n",
    "because the checkboxes widget lies at the very top of the graph."
   ]
  }
 ],
 "metadata": {
  "kernelspec": {
   "display_name": "Python 3 (ipykernel)",
   "language": "python",
   "name": "python3"
  },
  "language_info": {
   "codemirror_mode": {
    "name": "ipython",
    "version": 3
   },
   "file_extension": ".py",
   "mimetype": "text/x-python",
   "name": "python",
   "nbconvert_exporter": "python",
   "pygments_lexer": "ipython3"
  }
 },
 "nbformat": 4,
 "nbformat_minor": 5
}
