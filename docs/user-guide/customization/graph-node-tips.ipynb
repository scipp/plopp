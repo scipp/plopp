{
 "cells": [
  {
   "cell_type": "markdown",
   "id": "3d2790da-668b-4dad-91c0-9d73f09bcdab",
   "metadata": {},
   "source": [
    "# Graph and node tips\n",
    "\n",
    "This notebook is about helpful tips or tricks you can use when working with nodes of a custom interface graph you have built.\n",
    "\n",
    "It assumes that you have already explored the notebook on [creating custom interfaces](custom-interfaces.ipynb),\n",
    "which is a pre-requisite to understanding the content here."
   ]
  },
  {
   "cell_type": "code",
   "execution_count": null,
   "id": "850173b5-e002-49b4-ab1f-11a7ce3a6401",
   "metadata": {},
   "outputs": [],
   "source": [
    "%matplotlib widget\n",
    "import plopp as pp\n",
    "import scipp as sc\n",
    "import numpy as np"
   ]
  },
  {
   "cell_type": "markdown",
   "id": "a963de68-ce9f-4c3a-a9e3-dd40a7458223",
   "metadata": {},
   "source": [
    "## Node operators\n",
    "\n",
    "<div class=\"versionadded\" style=\"font-weight: bold;\">\n",
    "\n",
    "<img src=\"../../_static/circle-exclamation.svg\" width=\"16\" height=\"16\" />\n",
    "&nbsp;\n",
    "New in version 23.04.0.\n",
    "\n",
    "</div>\n",
    "\n",
    "We have seen in [the previous notebook](custom-interfaces.ipynb) how functions/callables wrapped in a `Node` are used to represent operations between different data sources.\n",
    "\n",
    "It can sometimes be useful to know that nodes also have operators,\n",
    "and simple operations can be implemented in a short-hand way, instead of defining functions such as `add` or `multiply`.\n",
    "\n",
    "Consider for example"
   ]
  },
  {
   "cell_type": "code",
   "execution_count": null,
   "id": "0ff2723c-3ab8-423a-9a48-b1a47dce5488",
   "metadata": {},
   "outputs": [],
   "source": [
    "a = pp.Node(np.array([1, 2, 3, 4, 5]))\n",
    "b = pp.Node(np.array([6, 7, 8, 9, 10]))"
   ]
  },
  {
   "cell_type": "markdown",
   "id": "31b52420-30fa-412d-a336-62f66894aff0",
   "metadata": {},
   "source": [
    "The 'classical' way of adding the data from `a` and `b` would be to wrap an `add` function in a `Node` as follows:"
   ]
  },
  {
   "cell_type": "code",
   "execution_count": null,
   "id": "ef318431-7a55-4679-bab8-c2c01a12e399",
   "metadata": {},
   "outputs": [],
   "source": [
    "def add(x, y):\n",
    "    return x + y\n",
    "\n",
    "\n",
    "c = pp.Node(add, a, b)\n",
    "c()"
   ]
  },
  {
   "cell_type": "markdown",
   "id": "138d6341-4b14-4a9d-a3c9-db15e7ad1acb",
   "metadata": {},
   "source": [
    "However, this short-hand is also possible:"
   ]
  },
  {
   "cell_type": "code",
   "execution_count": null,
   "id": "cc33c9d1-0586-4f7c-b0b9-cbf06370f8e2",
   "metadata": {},
   "outputs": [],
   "source": [
    "c = a + b\n",
    "c()"
   ]
  },
  {
   "cell_type": "markdown",
   "id": "ddfef22b-c4ed-4c89-98f6-67cf47c36854",
   "metadata": {},
   "source": [
    "Operators also work with normal Python objects, which simply get wrapped in a `Node`:"
   ]
  },
  {
   "cell_type": "code",
   "execution_count": null,
   "id": "19acdd96-9377-4de1-b4fb-516ab39208ac",
   "metadata": {},
   "outputs": [],
   "source": [
    "c = a * 33.0\n",
    "c()"
   ]
  },
  {
   "cell_type": "markdown",
   "id": "daace072-f3f1-4093-9263-3b23b44a8b81",
   "metadata": {},
   "source": [
    "### A short example"
   ]
  },
  {
   "cell_type": "code",
   "execution_count": null,
   "id": "a4e38e0d-4e67-4791-972a-05874ad04fcd",
   "metadata": {},
   "outputs": [],
   "source": [
    "noise = 0.5 * (np.random.random(100) - 0.5)\n",
    "signal = np.sin(0.1 * np.arange(100.0)) + noise\n",
    "\n",
    "# Noisy data\n",
    "a = pp.Node(\n",
    "    sc.DataArray(\n",
    "        data=sc.array(dims=['time'], values=signal),\n",
    "        coords={'time': sc.arange('time', 100.0, unit='s')},\n",
    "    )\n",
    ")\n",
    "fig = pp.figure1d(a)\n",
    "fig"
   ]
  },
  {
   "cell_type": "code",
   "execution_count": null,
   "id": "9747ac74-cd16-41e2-a82c-9f23b3a59530",
   "metadata": {},
   "outputs": [],
   "source": [
    "b = pp.Node(\n",
    "    sc.DataArray(\n",
    "        data=sc.array(dims=['time'], values=noise),\n",
    "        coords={'time': sc.arange('time', 100.0, unit='s')},\n",
    "    )\n",
    ")\n",
    "\n",
    "# Remove noise from signal\n",
    "diff = a - b\n",
    "pp.figure1d(diff)"
   ]
  },
  {
   "cell_type": "markdown",
   "id": "f1ac8cab-78ca-4a50-b1d5-30144d7cdbb5",
   "metadata": {},
   "source": [
    "## Using plotting functions in a graph\n",
    "\n",
    "<div class=\"versionadded\" style=\"font-weight: bold;\">\n",
    "\n",
    "<img src=\"../../_static/circle-exclamation.svg\" width=\"16\" height=\"16\" />\n",
    "&nbsp;\n",
    "New in version 23.10.0.\n",
    "\n",
    "</div>\n",
    "\n",
    "All the examples for working with nodes and graphs presented so far have been using the lower-level `figure1d`, `figure2d` and `figure3d` as views for the data.\n",
    "\n",
    "These functions accept graph nodes as input, and provide visualizations for 1D, 2D or scatter 3D data.\n",
    "\n",
    "However, say that at the end point of a graph, in the node that is providing the final result, the data still has three dimensions.\n",
    "One common way of visualizing such data is as a 2D image with a slider to navigate the third dimension.\n",
    "\n",
    "Instead of having to manually set up a slider and a node for the slicing,\n",
    "it is possible to use Plopp's higher-level plotting functions directly as part of a graph.\n",
    "In our present example, this would be the [slicer plot](../plot-types/slicer-plot.ipynb)."
   ]
  },
  {
   "cell_type": "code",
   "execution_count": null,
   "id": "fa310649-26ed-4dc4-9d0f-bb3e6f9b37ab",
   "metadata": {},
   "outputs": [],
   "source": [
    "# Make a 3D array with random values\n",
    "da = pp.data.random((100, 150, 200))\n",
    "da"
   ]
  },
  {
   "cell_type": "code",
   "execution_count": null,
   "id": "0fecdb0f-059c-4e21-ab18-ba22d7afcb32",
   "metadata": {},
   "outputs": [],
   "source": [
    "import ipywidgets as ipw\n",
    "from scipp.scipy.ndimage import gaussian_filter\n",
    "\n",
    "# Raw data root node\n",
    "data_node = pp.Node(da)\n",
    "\n",
    "# Slider to control width of smoothing kernel\n",
    "slider = ipw.IntSlider(min=1, max=20, description=\"Smoothing\")\n",
    "slider_node = pp.widget_node(slider)\n",
    "\n",
    "# Node that performs the gaussian smoothing\n",
    "smooth_node = pp.Node(gaussian_filter, data_node, sigma=slider_node)\n",
    "\n",
    "pp.show_graph(smooth_node)"
   ]
  },
  {
   "cell_type": "code",
   "execution_count": null,
   "id": "9cc402b2-5c3d-45b5-9791-efd35094f25f",
   "metadata": {},
   "outputs": [],
   "source": [
    "# Attach the `slicer` plot to the bottom node\n",
    "fig = pp.slicer(smooth_node)\n",
    "ipw.VBox([slider, fig])"
   ]
  },
  {
   "cell_type": "markdown",
   "id": "bd9053c1-3ef3-44ef-ab6d-357814a225e4",
   "metadata": {},
   "source": [
    "We now have a slider at the top that controls the width of the smoothing kernel,\n",
    "and a second slider at the bottom that can navigate the `z` dimension.\n",
    "\n",
    "The final node graph is"
   ]
  },
  {
   "cell_type": "code",
   "execution_count": null,
   "id": "26dd8677-30f7-4eb0-95c2-c48338d3996b",
   "metadata": {},
   "outputs": [],
   "source": [
    "pp.show_graph(data_node)"
   ]
  }
 ],
 "metadata": {
  "kernelspec": {
   "display_name": "Python 3 (ipykernel)",
   "language": "python",
   "name": "python3"
  },
  "language_info": {
   "codemirror_mode": {
    "name": "ipython",
    "version": 3
   },
   "file_extension": ".py",
   "mimetype": "text/x-python",
   "name": "python",
   "nbconvert_exporter": "python",
   "pygments_lexer": "ipython3"
  }
 },
 "nbformat": 4,
 "nbformat_minor": 5
}
