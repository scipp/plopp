{
 "cells": [
  {
   "cell_type": "markdown",
   "id": "5e8fe930-4b8a-4a27-9f38-493b1cd10d78",
   "metadata": {},
   "source": [
    "# Subplots / Tiled plots\n",
    "\n",
    "There are three ways to create subplot layouts with Plopp:\n",
    "\n",
    "- Using the in-built `tiled` functionality\n",
    "- Using manually created Matplotlib axes\n",
    "- Placing figures inside container widgets\n",
    "\n",
    "The first two methods will work with any (static or interactive) backend,\n",
    "while the third will only work with the interactive (`%matplotlib widget`) backend.\n",
    "\n",
    "## Using `tiled`:\n",
    "\n",
    "<div class=\"versionadded\" style=\"font-weight: bold;\">\n",
    "\n",
    "<img src=\"../../_static/circle-exclamation.svg\" width=\"16\" height=\"16\" />\n",
    "&nbsp;\n",
    "New in version 23.08.0.\n",
    "\n",
    "</div>\n",
    "\n",
    "### Leveraging figure operator overloading\n",
    "\n",
    "The fastest way to make simple subplots is to use the `+` and `/` operators on the figures you create.\n",
    "\n",
    "Adding two figures will place them side-by-side,\n",
    "while dividing a figure by another will stack them vertically."
   ]
  },
  {
   "cell_type": "code",
   "execution_count": null,
   "id": "36663ed6-ab9e-48bb-9901-d48fe8c8983f",
   "metadata": {},
   "outputs": [],
   "source": [
    "%matplotlib inline\n",
    "import plopp as pp\n",
    "import matplotlib.pyplot as plt\n",
    "\n",
    "p1 = pp.data.data1d().plot()\n",
    "p2 = pp.data.data2d().plot()\n",
    "\n",
    "p1 + p2"
   ]
  },
  {
   "cell_type": "code",
   "execution_count": null,
   "id": "1350aaf8-0f69-4a7c-9198-28757ff2edbe",
   "metadata": {},
   "outputs": [],
   "source": [
    "p1 / p2"
   ]
  },
  {
   "cell_type": "code",
   "execution_count": null,
   "id": "96bce5cc-5267-4fd8-9ab7-8dae6ab71ed3",
   "metadata": {},
   "outputs": [],
   "source": [
    "(p1 + p2) / (p2 + p1)"
   ]
  },
  {
   "cell_type": "markdown",
   "id": "738feddd-e9d7-4c32-a93b-8544fbd54a6e",
   "metadata": {},
   "source": [
    "### More complex configurations\n",
    "\n",
    "While the figure operators are using `tiled` under-the-hood,\n",
    "it is also possible to use `tiled` directly.\n",
    "\n",
    "Its use is based on Matplotlib's [GridSpec](https://matplotlib.org/stable/gallery/subplots_axes_and_figures/gridspec_multicolumn.html#sphx-glr-gallery-subplots-axes-and-figures-gridspec-multicolumn-py)."
   ]
  },
  {
   "cell_type": "code",
   "execution_count": null,
   "id": "5ab290fa-369b-40ea-8c9c-b13b0e77d79e",
   "metadata": {},
   "outputs": [],
   "source": [
    "tiled = pp.tiled(nrows=1, ncols=3)\n",
    "tiled[0, :2] = p1\n",
    "tiled[0, 2] = p2\n",
    "tiled"
   ]
  },
  {
   "cell_type": "markdown",
   "id": "f30a58ea-bc4d-41ce-9211-4cd2fab9c0e3",
   "metadata": {},
   "source": [
    "## Using Matplotlib axes"
   ]
  },
  {
   "cell_type": "code",
   "execution_count": null,
   "id": "40c4c95a-0b3c-4603-be82-f1555bba07bc",
   "metadata": {},
   "outputs": [],
   "source": [
    "%matplotlib inline\n",
    "import plopp as pp\n",
    "import matplotlib.pyplot as plt\n",
    "\n",
    "da = pp.data.data3d()"
   ]
  },
  {
   "cell_type": "markdown",
   "id": "3b377e93-f7a5-4903-9bb2-a90c1844c3c7",
   "metadata": {},
   "source": [
    "To create our subplots, we use Matplotlib's in-built `plt.subplots` function.\n",
    "We then pass each subplot axes to Plopp's `plot` function as the `ax` argument:"
   ]
  },
  {
   "cell_type": "code",
   "execution_count": null,
   "id": "46d49d86-b72b-4083-98ff-6c322c1badca",
   "metadata": {},
   "outputs": [],
   "source": [
    "fig, ax = plt.subplots(2, 2, figsize=(8, 6))\n",
    "\n",
    "p1 = pp.plot(da['z', 0], ax=ax[0, 0])\n",
    "p2 = pp.plot(da['z', 0]['y', 0], ax=ax[0, 1])\n",
    "p3 = pp.plot(da['x', 0]['y', 0], ax=ax[1, 0])\n",
    "p4 = pp.plot(da['x', -1], cmap='magma', ax=ax[1, 1])\n",
    "\n",
    "# Matplotlib's utility to optimize spacing between subplots\n",
    "fig.tight_layout()"
   ]
  },
  {
   "cell_type": "markdown",
   "id": "4af0079c-bf62-4a06-b0f0-109e2acc0483",
   "metadata": {},
   "source": [
    "## Using container widgets\n",
    "\n",
    "When the interactive backend is in use,\n",
    "each figure is a widget that can be placed inside other `ipywidgets` for controlling the layout.\n",
    "In this case, each subplot will have its own toolbar."
   ]
  },
  {
   "cell_type": "code",
   "execution_count": null,
   "id": "c112ba21-7fdc-462c-911f-c768b2d70aa0",
   "metadata": {},
   "outputs": [],
   "source": [
    "%matplotlib widget\n",
    "import ipywidgets as ipw"
   ]
  },
  {
   "cell_type": "markdown",
   "id": "2f2e2364-8b22-48d9-9a3b-f571af0fba4b",
   "metadata": {},
   "source": [
    "Given four plots"
   ]
  },
  {
   "cell_type": "code",
   "execution_count": null,
   "id": "59ea27f9-96d9-495d-aae4-25a0ecaeba5a",
   "metadata": {},
   "outputs": [],
   "source": [
    "subplot_size = (4, 3)\n",
    "\n",
    "p1 = pp.plot(da['z', 0], figsize=subplot_size)\n",
    "p2 = pp.plot(da['z', 0]['y', 0], figsize=subplot_size)\n",
    "p3 = pp.plot(da['x', 0]['y', 0], figsize=subplot_size)\n",
    "p4 = pp.plot(da['x', -1], cmap='magma', figsize=subplot_size)"
   ]
  },
  {
   "cell_type": "markdown",
   "id": "4baaf923-a3ad-4b1f-ab89-f2a02a321ab5",
   "metadata": {},
   "source": [
    "we can create a figure with subplots using"
   ]
  },
  {
   "cell_type": "code",
   "execution_count": null,
   "id": "b7eee0d0-1d2d-4fc6-b591-7a358c4c2687",
   "metadata": {},
   "outputs": [],
   "source": [
    "ipw.VBox([ipw.HBox([p1, p2]), ipw.HBox([p3, p4])])"
   ]
  },
  {
   "cell_type": "markdown",
   "id": "1ffcc53b-af94-4d6b-a231-b9c01da2be56",
   "metadata": {},
   "source": [
    "Plopp actually provides a `Box` widget as a shorthand for combining `ipw.VBox` and `ipw.HBox`:"
   ]
  },
  {
   "cell_type": "code",
   "execution_count": null,
   "id": "44feb388-f33f-4c76-a11a-0038b362209d",
   "metadata": {},
   "outputs": [],
   "source": [
    "from plopp.widgets import Box\n",
    "\n",
    "Box([[p1, p2], [p3, p4]])"
   ]
  },
  {
   "cell_type": "markdown",
   "id": "1a0c33f6-a6c1-46c8-9b9e-188adefffeb3",
   "metadata": {},
   "source": [
    "<div class=\"alert alert-warning\">\n",
    "\n",
    "*Warning*\n",
    "\n",
    "When using `ipw.VBox` or `Box`, alignment of axes is not ensured.\n",
    "This method for creating subplots is applicable for quickly creating interactive interfaces,\n",
    "but we do not recommend it for publication purposes.\n",
    "\n",
    "</div>"
   ]
  },
  {
   "cell_type": "markdown",
   "id": "1719b19e-ca7b-4da5-a895-6d2140f7d5b3",
   "metadata": {},
   "source": [
    "## Subplots with 3D scatter plots\n",
    "\n",
    "The three-dimensional visualizations in Plopp do not use Matplotlib, but Pythreejs.\n",
    "Consequently, it is not possible to insert a [three-dimensional scatter plot](../plot-types/scatter3d-plot.ipynb) inside a subplot made of Matplotlib axes.\n",
    "The only way to make a three-dimensional view part of subplots is to use the container widgets described above."
   ]
  },
  {
   "cell_type": "code",
   "execution_count": null,
   "id": "f911c56d-ff9e-40d0-9504-cf88c0d2dd43",
   "metadata": {},
   "outputs": [],
   "source": [
    "da1 = pp.data.data1d()\n",
    "da2 = pp.data.scatter()\n",
    "\n",
    "p1 = pp.plot(da1)\n",
    "p2 = pp.scatter3d(da2, x='x', y='y', z='z', figsize=(550, 400))\n",
    "\n",
    "Box([p1, p2])"
   ]
  }
 ],
 "metadata": {
  "kernelspec": {
   "display_name": "Python 3 (ipykernel)",
   "language": "python",
   "name": "python3"
  },
  "language_info": {
   "codemirror_mode": {
    "name": "ipython",
    "version": 3
   },
   "file_extension": ".py",
   "mimetype": "text/x-python",
   "name": "python",
   "nbconvert_exporter": "python",
   "pygments_lexer": "ipython3"
  }
 },
 "nbformat": 4,
 "nbformat_minor": 5
}
