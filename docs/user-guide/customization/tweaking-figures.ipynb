{
 "cells": [
  {
   "cell_type": "markdown",
   "id": "f8d4e37a-954f-4d11-bee7-54ec24ea4150",
   "metadata": {
    "editable": true,
    "slideshow": {
     "slide_type": ""
    },
    "tags": []
   },
   "source": [
    "# Tweaking figures\n",
    "\n",
    "Most of the customization typically needed when exploring and visualizing your data is covered by the keyword arguments illustated in the\n",
    "[line-plot](../plot-types/line-plot.ipynb) and [image-plot](../plot-types/image-plot.ipynb) notebooks.\n",
    "However, getting figures ready for publication often requires more fine-grained tuning."
   ]
  },
  {
   "cell_type": "code",
   "execution_count": null,
   "id": "425a00ba-9bb4-4834-9e64-3a323aa5b5d8",
   "metadata": {
    "editable": true,
    "slideshow": {
     "slide_type": ""
    },
    "tags": []
   },
   "outputs": [],
   "source": [
    "%matplotlib inline\n",
    "import scipp as sc\n",
    "import plopp as pp\n",
    "import numpy as np\n",
    "import matplotlib.pyplot as plt\n",
    "\n",
    "da = pp.data.data1d()"
   ]
  },
  {
   "cell_type": "markdown",
   "id": "e06028d3-0a3b-4de3-af5c-7e474f25d79a",
   "metadata": {},
   "source": [
    "## Basic modifications"
   ]
  },
  {
   "cell_type": "markdown",
   "id": "832ae288-3562-485a-8417-df8071076a90",
   "metadata": {
    "editable": true,
    "slideshow": {
     "slide_type": ""
    },
    "tags": []
   },
   "source": [
    "### Changing axes labels\n",
    "\n",
    "By default, Plopp will add labels on the horizontal and vertical axes to the best of its knowledge."
   ]
  },
  {
   "cell_type": "code",
   "execution_count": null,
   "id": "2946fe4c-7519-46cd-b455-bbc96cb6163e",
   "metadata": {
    "editable": true,
    "slideshow": {
     "slide_type": ""
    },
    "tags": []
   },
   "outputs": [],
   "source": [
    "p = pp.plot(da)\n",
    "p"
   ]
  },
  {
   "cell_type": "markdown",
   "id": "b6cd43b7-34d8-45ba-a4a2-b14c9c9ebad8",
   "metadata": {
    "editable": true,
    "slideshow": {
     "slide_type": ""
    },
    "tags": []
   },
   "source": [
    "To change the label of the vertical axis, use the `.canvas.ylabel` property on the plot object:"
   ]
  },
  {
   "cell_type": "code",
   "execution_count": null,
   "id": "32ca2841-4a05-4b15-bc1f-dfa3f66b3f54",
   "metadata": {
    "editable": true,
    "slideshow": {
     "slide_type": ""
    },
    "tags": []
   },
   "outputs": [],
   "source": [
    "p.canvas.ylabel = 'Phase of sound wave'\n",
    "p"
   ]
  },
  {
   "cell_type": "markdown",
   "id": "a9a8ca49-7df0-4647-96af-8e709c328834",
   "metadata": {
    "editable": true,
    "slideshow": {
     "slide_type": ""
    },
    "tags": []
   },
   "source": [
    "### Adding a figure title\n",
    "\n",
    "To add a title to the figure, use the `title` argument:"
   ]
  },
  {
   "cell_type": "code",
   "execution_count": null,
   "id": "e7f8016d-1b89-4786-914c-6d45e76c91a1",
   "metadata": {
    "editable": true,
    "slideshow": {
     "slide_type": ""
    },
    "tags": []
   },
   "outputs": [],
   "source": [
    "pp.plot(da, title='This is my figure title')"
   ]
  },
  {
   "cell_type": "markdown",
   "id": "c7080577-245c-43d1-97ac-1cd677963883",
   "metadata": {
    "editable": true,
    "slideshow": {
     "slide_type": ""
    },
    "tags": []
   },
   "source": [
    "### Setting the axis range\n",
    "\n",
    "#### Vertical axis\n",
    "\n",
    "Changing the range of the vertical axis is done using the `vmin` and `vmax` arguments\n",
    "(note that if only one of the two is given, then the other will be automatically determined from the data plotted)."
   ]
  },
  {
   "cell_type": "code",
   "execution_count": null,
   "id": "448bcedf-b92d-445e-8883-04395c63f1a8",
   "metadata": {},
   "outputs": [],
   "source": [
    "pp.plot(da, vmin=sc.scalar(-0.5, unit='m/s'), vmax=sc.scalar(1.5, unit='m/s'))"
   ]
  },
  {
   "cell_type": "markdown",
   "id": "f2931238-731f-4986-80ea-2dfe98bd16f1",
   "metadata": {
    "editable": true,
    "slideshow": {
     "slide_type": ""
    },
    "tags": []
   },
   "source": [
    "Note that if the unit in the supplied limits is not identical to the data units, an on-the-fly conversion is attempted.\n",
    "It is also possible to omit the units altogether, in which case it is assumed the unit is the same as the data unit.\n",
    "\n",
    "#### Horizontal axis\n",
    "\n",
    "The easiest way to set the range of the horizontal axis is to slice the data before plotting:"
   ]
  },
  {
   "cell_type": "code",
   "execution_count": null,
   "id": "3bd58017-a1fe-4046-a760-3ee36e1b0f3d",
   "metadata": {
    "editable": true,
    "slideshow": {
     "slide_type": ""
    },
    "tags": []
   },
   "outputs": [],
   "source": [
    "pp.plot(da[10:40])"
   ]
  },
  {
   "cell_type": "markdown",
   "id": "ca82699b-b800-48f6-ab35-b9379c4ec654",
   "metadata": {},
   "source": [
    "Note that this will add some padding around the plotted data points.\n",
    "\n",
    "If you wish to have precise control over the limits, you can use the lower-level `canvas.xrange` property:"
   ]
  },
  {
   "cell_type": "code",
   "execution_count": null,
   "id": "575940d9-767c-431f-a9d9-29d6df8ec5e5",
   "metadata": {},
   "outputs": [],
   "source": [
    "p = da.plot()\n",
    "p.canvas.xrange = [10, 40]\n",
    "p"
   ]
  },
  {
   "cell_type": "markdown",
   "id": "93c474b1-fcaa-4c96-b026-1e17ed278e72",
   "metadata": {
    "editable": true,
    "slideshow": {
     "slide_type": ""
    },
    "tags": []
   },
   "source": [
    "Note that `camvas.yrange` is also available, and is equivalent to using the `vmin` and `vmax` arguments.\n",
    "\n",
    "## Further modifications\n",
    "\n",
    "Instead of providing keyword arguments for tweaking every aspect of the figures,\n",
    "we provide accessors to the underlying Matplotlib `Figure` and `Axes` objects,\n",
    "that can then directly be used to make the required modifications."
   ]
  },
  {
   "cell_type": "markdown",
   "id": "091f34e3-49e2-492e-b70f-f34161e1cb24",
   "metadata": {
    "editable": true,
    "slideshow": {
     "slide_type": ""
    },
    "tags": []
   },
   "source": [
    "### Tick locations and labels\n",
    "To change the location of the ticks, as well as their labels, we directly access the Matplotlib axes via the `.ax` property of the figure:"
   ]
  },
  {
   "cell_type": "code",
   "execution_count": null,
   "id": "acb497d2-3338-431d-af5b-d69de86b9bf6",
   "metadata": {
    "editable": true,
    "slideshow": {
     "slide_type": ""
    },
    "tags": []
   },
   "outputs": [],
   "source": [
    "p = da.plot()\n",
    "p.ax.set_yticks([-1.0, -0.5, 0, 0.5, 1.0])\n",
    "p.ax.set_yticklabels([r'$-\\pi$', r'$-\\pi / 2$', '0', r'$\\pi / 2$', r'$\\pi$'])\n",
    "p"
   ]
  },
  {
   "cell_type": "markdown",
   "id": "feb71340-7acb-45d6-b83e-68bb2322b48b",
   "metadata": {},
   "source": [
    "### Axes placement\n",
    "\n",
    "To control the exact placement of the axes,\n",
    "it is best to first create the axes manually with Matplotlib and then attaching the Plopp figure to them via the `ax` argument."
   ]
  },
  {
   "cell_type": "code",
   "execution_count": null,
   "id": "a14f634b-7512-4f2b-a555-921482e24acc",
   "metadata": {},
   "outputs": [],
   "source": [
    "a = pp.data.data1d() * 5.0\n",
    "b = a + sc.array(dims=a.dims, values=np.random.random(a.shape[0]) - 0.5, unit=a.unit)\n",
    "\n",
    "fig = plt.figure(figsize=(5, 4))\n",
    "ax0 = fig.add_axes([0.0, 0.2, 1.0, 0.8])\n",
    "ax1 = fig.add_axes([0.0, 0.0, 1.0, 0.2])\n",
    "\n",
    "ax0.xaxis.tick_top()\n",
    "ax0.xaxis.set_label_position('top')\n",
    "ax1.set_ylabel('Residuals')\n",
    "\n",
    "p1 = pp.plot({'a': a, 'b': b}, ax=ax0)\n",
    "p2 = pp.plot(a - b, ax=ax1)"
   ]
  },
  {
   "cell_type": "markdown",
   "id": "efbbbcd7-b18d-4a79-b72c-2170451cc9a8",
   "metadata": {},
   "source": [
    "It is also possible to control the placement of the colorbar for image plots using the `cax` argument:"
   ]
  },
  {
   "cell_type": "code",
   "execution_count": null,
   "id": "80ebdd5a-be59-41a1-a8fd-628bc5ab8f00",
   "metadata": {},
   "outputs": [],
   "source": [
    "da = pp.data.data3d()\n",
    "\n",
    "fig, ax = plt.subplots(2, 1, figsize=(5, 8))\n",
    "cax = fig.add_axes([1.0, 0.3, 0.03, 0.5])\n",
    "\n",
    "pz = pp.plot(da['z', 0], ax=ax[0], cax=cax)\n",
    "py = pp.plot(da['y', -1], ax=ax[1], cbar=False)"
   ]
  }
 ],
 "metadata": {
  "kernelspec": {
   "display_name": "Python 3 (ipykernel)",
   "language": "python",
   "name": "python3"
  },
  "language_info": {
   "codemirror_mode": {
    "name": "ipython",
    "version": 3
   },
   "file_extension": ".py",
   "mimetype": "text/x-python",
   "name": "python",
   "nbconvert_exporter": "python",
   "pygments_lexer": "ipython3"
  }
 },
 "nbformat": 4,
 "nbformat_minor": 5
}
