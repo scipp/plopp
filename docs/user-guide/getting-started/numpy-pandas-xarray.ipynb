{
 "cells": [
  {
   "cell_type": "markdown",
   "id": "ea252272-be82-45c5-9962-d36b24c85ec3",
   "metadata": {},
   "source": [
    "# Numpy, Pandas, and Xarray\n",
    "\n",
    "While Plopp is primarily aimed at being used with Scipp data structures (and uses Scipp internally),\n",
    "it offers some compatibility with other libraries in the scientific Python ecosystem.\n",
    "Most of the [high-level functions](../../api-reference/index.md#plotting) in Plopp will accept Numpy, Pandas and Xarray data structures as input.\n",
    "\n",
    "We illustrate this here with the help of a few useful examples.\n",
    "\n",
    "## Numpy arrays\n",
    "\n",
    "The most commonly used function in Plopp is the high-level `plot` wrapper,\n",
    "which can accept a number of different inputs. For a one-dimensional `ndarray`, simple use"
   ]
  },
  {
   "cell_type": "code",
   "execution_count": null,
   "id": "b64545f7-d3bd-4fc3-b6f9-63c4f2396cdc",
   "metadata": {},
   "outputs": [],
   "source": [
    "import numpy as np\n",
    "import plopp as pp\n",
    "\n",
    "a1d = np.sin(0.15 * np.arange(50.0))\n",
    "pp.plot(a1d)"
   ]
  },
  {
   "cell_type": "markdown",
   "id": "c477ae71-817e-4c45-bc0d-723b5c7adab4",
   "metadata": {},
   "source": [
    "Scipp data arrays have dimensions and physical units, that are used for axes labels in Plopp.\n",
    "Numpy arrays do not have dimension labels, so the horizontal axis of the figure is just labeled `axis-0`.\n",
    "Similarly, the array does not have physical units, and the vertical label is just given the default `dimensionless` label\n",
    "(try using [Scipp data arrays](https://scipp.github.io/user-guide/data-structures/data-structures.html#DataArray) to have axes labeled automatically).\n",
    "\n",
    "Plotting two-dimensional arrays is equally simple with"
   ]
  },
  {
   "cell_type": "code",
   "execution_count": null,
   "id": "b9c48315-0d58-4b82-90d0-8aad32cb9905",
   "metadata": {},
   "outputs": [],
   "source": [
    "a2d = np.sin(0.15 * np.arange(50.0)).reshape(50, 1) * np.sin(0.2 * np.arange(30.0))\n",
    "pp.plot(a2d)"
   ]
  },
  {
   "cell_type": "markdown",
   "id": "13fe5c3e-aeed-4ef8-9496-f7855df317c7",
   "metadata": {},
   "source": [
    "Just like with Scipp data arrays, plotting multiple arrays onto the same axes is achieved by supplying a dict to the `plot` function:"
   ]
  },
  {
   "cell_type": "code",
   "execution_count": null,
   "id": "3aafb43d-a0ff-4b06-80e1-7402f1d0dafc",
   "metadata": {},
   "outputs": [],
   "source": [
    "b1d = 3 * a1d + np.random.random(50)\n",
    "pp.plot({'a': a1d, 'b': b1d})"
   ]
  },
  {
   "cell_type": "markdown",
   "id": "538eba83-7e7b-4e9e-a615-0c26c8ae768d",
   "metadata": {},
   "source": [
    "## Pandas Series and DataFrame\n",
    "\n",
    "<div class=\"versionadded\" style=\"font-weight: bold;\">\n",
    "\n",
    "<img src=\"../../_static/circle-exclamation.svg\" width=\"16\" height=\"16\" />\n",
    "&nbsp;\n",
    "New in version 23.05.0.\n",
    "\n",
    "</div>\n",
    "\n",
    "Plopp's `plot` wrapper will accept a Pandas data `Series` as input in the same way:"
   ]
  },
  {
   "cell_type": "code",
   "execution_count": null,
   "id": "6f41ff1b-c660-446e-8b57-1fb1ca83966a",
   "metadata": {},
   "outputs": [],
   "source": [
    "import pandas as pd\n",
    "\n",
    "N = 200\n",
    "ts = pd.Series(\n",
    "    np.random.randn(N), index=pd.date_range(\"1/1/2000\", periods=N), name='Temperature'\n",
    ")\n",
    "ts = ts.cumsum()\n",
    "pp.plot(ts, ls='-', marker=None)"
   ]
  },
  {
   "cell_type": "markdown",
   "id": "659818d6-5d87-49fc-906b-8fdc26da2d32",
   "metadata": {},
   "source": [
    "Supplying a `DataFrame` to `plot` will attempt to place all entries on the same axes.\n",
    "This is very useful for quick inspection,\n",
    "but it also means that if some data types are incompatible (e.g. some columns are floats, while others are strings),\n",
    "the call to `plot` will fail."
   ]
  },
  {
   "cell_type": "code",
   "execution_count": null,
   "id": "a6e03a0f-94bf-49b6-ae5b-7dad36c01ddd",
   "metadata": {},
   "outputs": [],
   "source": [
    "df = pd.DataFrame(np.random.randn(N, 4), index=ts.index, columns=list(\"ABCD\"))\n",
    "df = df.cumsum()\n",
    "pp.plot(df, ls='-', marker=None)"
   ]
  },
  {
   "cell_type": "markdown",
   "id": "743fe2ac-2601-498d-8b26-9f3f733516d4",
   "metadata": {},
   "source": [
    "## Xarray\n",
    "\n",
    "<div class=\"versionadded\" style=\"font-weight: bold;\">\n",
    "\n",
    "<img src=\"../../_static/circle-exclamation.svg\" width=\"16\" height=\"16\" />\n",
    "&nbsp;\n",
    "New in version 23.05.0.\n",
    "\n",
    "</div>\n",
    "\n",
    "Xarray data structures are very similar to the ones Scipp provides,\n",
    "and the labeled dimensions allow us to automatically annotate the axes labels of a figure."
   ]
  },
  {
   "cell_type": "code",
   "execution_count": null,
   "id": "ea400a36-0e1c-4329-a012-a3c04b2bdc54",
   "metadata": {},
   "outputs": [],
   "source": [
    "import xarray as xr\n",
    "\n",
    "air = xr.tutorial.open_dataset(\"air_temperature\").air\n",
    "# We modify a few entries which are not well handled by Scipp\n",
    "del air.attrs['precision']\n",
    "del air.attrs['GRIB_id']\n",
    "del air.attrs['actual_range']\n",
    "air.coords['lat'].attrs['units'] = 'degrees'\n",
    "air"
   ]
  },
  {
   "cell_type": "code",
   "execution_count": null,
   "id": "085cc250-da0e-47db-a1aa-b20de8f40d6c",
   "metadata": {},
   "outputs": [],
   "source": [
    "air1d = air.isel(lat=10, lon=10)\n",
    "pp.plot(air1d)"
   ]
  },
  {
   "cell_type": "code",
   "execution_count": null,
   "id": "11d81f61-9936-4e30-92a9-15038048517f",
   "metadata": {},
   "outputs": [],
   "source": [
    "air2d = air.isel(time=500)\n",
    "pp.plot(air2d)"
   ]
  },
  {
   "cell_type": "markdown",
   "id": "a362990d-ac50-4cb5-89e1-0d5fbf888247",
   "metadata": {},
   "source": [
    "### Interactive tools\n",
    "\n",
    "While you can easily make these plots with Xarray itself,\n",
    "Plopp also provides additional tools to explore your data.\n",
    "\n",
    "One example is the `slicer` plot,\n",
    "that can be used to navigate additional dimension of 1d or 2d data using an interactive slider."
   ]
  },
  {
   "cell_type": "code",
   "execution_count": null,
   "id": "f0128a1d-8f17-429c-9159-262ceb61cacc",
   "metadata": {},
   "outputs": [],
   "source": [
    "%matplotlib widget\n",
    "pp.slicer(air)"
   ]
  },
  {
   "cell_type": "markdown",
   "id": "4a0954e0-4c19-4105-b6c7-29b6362c9da3",
   "metadata": {},
   "source": [
    "Or the `inspector` plot that allows you to pick points on the 2d map and display a time cut in a second plot below using the the inspector tool\n",
    "<img src='https://upload.wikimedia.org/wikipedia/commons/thumb/1/15/Font_Awesome_5_solid_crosshairs.svg/32px-Font_Awesome_5_solid_crosshairs.svg.png' width=\"20\"/>:"
   ]
  },
  {
   "cell_type": "code",
   "execution_count": null,
   "id": "5401c4c6-b96a-42b1-97eb-7ed81dc7b023",
   "metadata": {},
   "outputs": [],
   "source": [
    "inspect_plot = pp.inspector(air, dim='time', operation='mean', orientation='vertical')"
   ]
  },
  {
   "cell_type": "code",
   "execution_count": null,
   "id": "5c985e99-2c77-4185-98f1-4ee65cb7ac84",
   "metadata": {
    "nbsphinx": "hidden"
   },
   "outputs": [],
   "source": [
    "import numpy as np\n",
    "\n",
    "tool = inspect_plot.children[0].toolbar['inspect']\n",
    "tool.value = True\n",
    "\n",
    "lon = [265, 235, 281]\n",
    "lat = [42, 32, 23]\n",
    "\n",
    "for x, y in zip(lon, lat):\n",
    "    tool._tool.click(x, y)\n",
    "\n",
    "\n",
    "def update(pl):\n",
    "    from ipywidgets import HBox\n",
    "\n",
    "    f1 = pl.children[0]\n",
    "    f1.children = [\n",
    "        f1.top_bar,\n",
    "        HBox([f1.left_bar, f1.canvas.to_image(), f1.right_bar]),\n",
    "        f1.bottom_bar,\n",
    "    ]\n",
    "    f2 = pl.children[1]\n",
    "    f2.children = [\n",
    "        f2.top_bar,\n",
    "        HBox([f2.left_bar, f2.canvas.to_image(), f2.right_bar]),\n",
    "        f2.bottom_bar,\n",
    "    ]\n",
    "\n",
    "\n",
    "update(inspect_plot)"
   ]
  },
  {
   "cell_type": "code",
   "execution_count": null,
   "id": "fb1959e1-e6b0-4cc1-9507-8d3f1abd7f79",
   "metadata": {},
   "outputs": [],
   "source": [
    "inspect_plot"
   ]
  }
 ],
 "metadata": {
  "kernelspec": {
   "display_name": "Python 3 (ipykernel)",
   "language": "python",
   "name": "python3"
  },
  "language_info": {
   "codemirror_mode": {
    "name": "ipython",
    "version": 3
   },
   "file_extension": ".py",
   "mimetype": "text/x-python",
   "name": "python",
   "nbconvert_exporter": "python",
   "pygments_lexer": "ipython3"
  }
 },
 "nbformat": 4,
 "nbformat_minor": 5
}
