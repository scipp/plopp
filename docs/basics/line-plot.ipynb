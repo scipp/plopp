{
 "cells": [
  {
   "cell_type": "markdown",
   "id": "7255f832-52e3-4003-a1a2-16c3846fe30b",
   "metadata": {},
   "source": [
    "# Line plot"
   ]
  },
  {
   "cell_type": "code",
   "execution_count": null,
   "id": "b39377b6-a67b-4f35-92bb-b0f9be2b0b0e",
   "metadata": {},
   "outputs": [],
   "source": [
    "import scipp as sc\n",
    "import plopp as pp"
   ]
  },
  {
   "cell_type": "markdown",
   "id": "8487626a-2461-40c2-b0cd-42c6f82c9fab",
   "metadata": {},
   "source": [
    "## Basic line plot"
   ]
  },
  {
   "cell_type": "code",
   "execution_count": null,
   "id": "5af375f3-655c-4466-ba56-00312dafc524",
   "metadata": {},
   "outputs": [],
   "source": [
    "da = pp.data.data1d()\n",
    "da.plot()"
   ]
  },
  {
   "cell_type": "markdown",
   "id": "61e7bfa7-2ed1-4365-8cae-a7400de0eedb",
   "metadata": {},
   "source": [
    "## Changing line style and color"
   ]
  },
  {
   "cell_type": "code",
   "execution_count": null,
   "id": "384a64a2-ed72-458d-b225-9e4fc189fae4",
   "metadata": {},
   "outputs": [],
   "source": [
    "da.plot(linestyle='solid', color='black', marker=None)"
   ]
  },
  {
   "cell_type": "code",
   "execution_count": null,
   "id": "e05cbba9-72ab-42bc-ad3b-395f3ab64f6e",
   "metadata": {},
   "outputs": [],
   "source": [
    "da.plot(linestyle='dashed', linewidth=5, marker=None)"
   ]
  },
  {
   "cell_type": "code",
   "execution_count": null,
   "id": "8ce7e964-f353-4c71-955e-cf5ead210cbd",
   "metadata": {},
   "outputs": [],
   "source": [
    "da.plot(marker='^')"
   ]
  },
  {
   "cell_type": "markdown",
   "id": "f2330409-c8b2-47ec-9fe1-252cdbcc7472",
   "metadata": {},
   "source": [
    "## Controlling the axes\n",
    "\n",
    "### Logarithmic axes"
   ]
  },
  {
   "cell_type": "code",
   "execution_count": null,
   "id": "de9fe954-e38f-42ae-9128-790d7a602434",
   "metadata": {},
   "outputs": [],
   "source": [
    "da.plot(scale={'x': 'log'})"
   ]
  },
  {
   "cell_type": "code",
   "execution_count": null,
   "id": "bc77aa13-3455-48af-a797-1885dab751a8",
   "metadata": {},
   "outputs": [],
   "source": [
    "da.plot(norm='log')"
   ]
  },
  {
   "cell_type": "markdown",
   "id": "ee75651d-93eb-490e-abfa-fc4fd4dd3428",
   "metadata": {},
   "source": [
    "### Setting the axes limits\n",
    "\n",
    "To set the range of the vertical axis, use the `vmin` and `vmax` keyword arguments:"
   ]
  },
  {
   "cell_type": "code",
   "execution_count": null,
   "id": "18b8d395-ce0a-4181-8b3f-2c7e0d91618f",
   "metadata": {},
   "outputs": [],
   "source": [
    "da.plot(vmin=sc.scalar(-0.5, unit='m/s'), vmax=sc.scalar(1.5, unit='m/s'))"
   ]
  },
  {
   "cell_type": "markdown",
   "id": "e1b8596a-e5d6-43ae-b0d5-3b501cf75774",
   "metadata": {},
   "source": [
    "Note that if the unit in the supplied limits is not identical to the data units, an on-the-fly conversion is attempted.\n",
    "It is also possible to omit the units altogether, in which case it is assumed the unit is the same as the data unit."
   ]
  },
  {
   "cell_type": "code",
   "execution_count": null,
   "id": "d7887b7f-4347-4a2a-b80e-12558f9ac55a",
   "metadata": {},
   "outputs": [],
   "source": [
    "da.plot(vmin=-0.5, vmax=1.5)"
   ]
  },
  {
   "cell_type": "markdown",
   "id": "0147586e-6651-4ae2-a023-f2386981b19f",
   "metadata": {},
   "source": [
    "To set the range of the horizontal axis, slice the data before plotting:"
   ]
  },
  {
   "cell_type": "code",
   "execution_count": null,
   "id": "a430e707-71ad-4276-ae67-bf1caa989224",
   "metadata": {},
   "outputs": [],
   "source": [
    "pp.plot(da['x', 10:40])"
   ]
  },
  {
   "cell_type": "markdown",
   "id": "4905d6a7-d5b3-4665-b03b-4005685ffad1",
   "metadata": {},
   "source": [
    "## Overplotting\n",
    "\n",
    "The plot function will accept a dict of data arrays as an input,\n",
    "and will place all entries on the same axes."
   ]
  },
  {
   "cell_type": "code",
   "execution_count": null,
   "id": "8538b35f-a439-4b8a-84f7-e5a305bd3588",
   "metadata": {},
   "outputs": [],
   "source": [
    "pp.plot({'a': da, 'b': 0.2 * da})"
   ]
  },
  {
   "cell_type": "markdown",
   "id": "1f472907-4a42-4179-b9e0-4c925ee94e28",
   "metadata": {},
   "source": [
    "This also works with a dataset:"
   ]
  },
  {
   "cell_type": "code",
   "execution_count": null,
   "id": "30394e2e-89b9-4645-bb00-b2aa4de30806",
   "metadata": {},
   "outputs": [],
   "source": [
    "ds = pp.data.dataset1d()\n",
    "ds.plot()"
   ]
  },
  {
   "cell_type": "markdown",
   "id": "ec46f343-9044-4a36-9042-ea797c8db525",
   "metadata": {},
   "source": [
    "### Customizing line styles for multiple entries\n",
    "\n",
    "If a single color is passed to `plot` when plotting a dict of data arrays,\n",
    "the color will apply to all entries"
   ]
  },
  {
   "cell_type": "code",
   "execution_count": null,
   "id": "dda39146-9d00-4e2d-a981-456a3fdf1c4f",
   "metadata": {},
   "outputs": [],
   "source": [
    "pp.plot({'a': da, 'b': 0.2 * da}, color='red')"
   ]
  },
  {
   "cell_type": "markdown",
   "id": "359859e9-16a9-448f-bde6-7bd4d881dfa4",
   "metadata": {},
   "source": [
    "To control the style of the individual entries,\n",
    "the line properties should be a dict with the same keys as the input dict:"
   ]
  },
  {
   "cell_type": "code",
   "execution_count": null,
   "id": "f22cf6e0-91aa-453e-8a96-46079d3b09a7",
   "metadata": {},
   "outputs": [],
   "source": [
    "pp.plot(\n",
    "    {'a': da, 'b': 0.2 * da},\n",
    "    color={'a': 'red', 'b': 'black'},\n",
    "    linestyle={'a': 'solid', 'b': 'dashed'},\n",
    "    marker=None,\n",
    ")"
   ]
  },
  {
   "cell_type": "markdown",
   "id": "e485478c-3652-44fc-8b47-f368dad095cb",
   "metadata": {},
   "source": [
    "## Bin edges\n",
    "\n",
    "When the coordinate of the data contains bin-edges, Plopp represents it as a step function instead of markers:"
   ]
  },
  {
   "cell_type": "code",
   "execution_count": null,
   "id": "32317d3d-2f05-417b-9004-8b0b047ab94a",
   "metadata": {},
   "outputs": [],
   "source": [
    "da = pp.data.histogram1d()\n",
    "pp.plot(da)"
   ]
  },
  {
   "cell_type": "markdown",
   "id": "c007556f-d0c2-4792-8ca9-0f5135d65a28",
   "metadata": {},
   "source": [
    "## Masks\n",
    "\n",
    "Masks are represented by black markers"
   ]
  },
  {
   "cell_type": "code",
   "execution_count": null,
   "id": "e1201c5b-2308-4dec-a32a-674c7ece40c0",
   "metadata": {},
   "outputs": [],
   "source": [
    "da = pp.data.data1d()\n",
    "da.masks['negative'] = da.data < sc.scalar(0, unit='m/s')\n",
    "pp.plot(da)"
   ]
  },
  {
   "cell_type": "markdown",
   "id": "051ab703-6b08-4ec8-82f6-d2bfc5185359",
   "metadata": {},
   "source": [
    "or a thick black line in the case of bin-edges"
   ]
  },
  {
   "cell_type": "code",
   "execution_count": null,
   "id": "88af72d3-5e6b-47c8-ac11-d2919455ecc5",
   "metadata": {},
   "outputs": [],
   "source": [
    "da = pp.data.histogram1d()\n",
    "da.masks['negative'] = da.data < sc.scalar(0, unit='m/s')\n",
    "pp.plot(da)"
   ]
  },
  {
   "cell_type": "markdown",
   "id": "a87c40bc-5ab6-4310-a476-f8e5f5c0c16d",
   "metadata": {},
   "source": [
    "## Using a non-dimension coordinate\n",
    "\n",
    "For a dimension of name `'x'`, Plopp will use the corresponding coordinate of name `'x'` to set the horizontal position of the points and the axis labels.\n",
    "To use a different coordinate, use the `coords` argument."
   ]
  },
  {
   "cell_type": "code",
   "execution_count": null,
   "id": "bfcd768c-cc4f-4973-ba55-30c4b7da2d73",
   "metadata": {},
   "outputs": [],
   "source": [
    "da = pp.data.data1d()\n",
    "da.coords['x2'] = da.coords['x'] ** 2\n",
    "pp.plot(da, coords=['x2'])"
   ]
  },
  {
   "cell_type": "markdown",
   "id": "123c2b07-ad46-485b-9842-8a754d1fc44b",
   "metadata": {},
   "source": [
    "Note that if no coordinate of name `'x'` exists, a dummy one will be generated using `scipp.arange`."
   ]
  }
 ],
 "metadata": {
  "kernelspec": {
   "display_name": "Python 3 (ipykernel)",
   "language": "python",
   "name": "python3"
  },
  "language_info": {
   "codemirror_mode": {
    "name": "ipython",
    "version": 3
   },
   "file_extension": ".py",
   "mimetype": "text/x-python",
   "name": "python",
   "nbconvert_exporter": "python",
   "pygments_lexer": "ipython3"
  }
 },
 "nbformat": 4,
 "nbformat_minor": 5
}
