{
 "cells": [
  {
   "cell_type": "markdown",
   "id": "a7a00e51-8774-4006-b37c-2dadcb0fea7c",
   "metadata": {},
   "source": [
    "# Operators\n",
    "\n",
    "The figures returned by [`plot`](https://scipp.github.io/plopp/reference/generated/plopp.plot.html) function support a limited,\n",
    "but useful, number of operations.\n",
    "\n",
    "## Making subplots\n",
    "\n",
    "The `+` and `-` operators will create horizontally and vertically stacked subplots (also known as tiled plots), respectively."
   ]
  },
  {
   "cell_type": "code",
   "execution_count": null,
   "id": "532c795d-e944-4ad1-b3b4-8615d7bedfca",
   "metadata": {},
   "outputs": [],
   "source": [
    "import plopp as pp\n",
    "\n",
    "p1 = pp.data.data1d().plot()\n",
    "p2 = pp.data.data2d().plot()\n",
    "\n",
    "p1 + p2"
   ]
  },
  {
   "cell_type": "code",
   "execution_count": null,
   "id": "b3d1e753-051b-4d8f-9a7d-bb4305fd2db5",
   "metadata": {},
   "outputs": [],
   "source": [
    "p1 / p2"
   ]
  },
  {
   "attachments": {},
   "cell_type": "markdown",
   "id": "8a000a01-3d29-4152-87aa-0a3e05dd4aba",
   "metadata": {},
   "source": [
    "More options on how to create subplots is available [here](../customization/subplots.ipynb).\n",
    "\n",
    "## Residual plot\n",
    "\n",
    "The `-` operator can be used to create a plot of two or more lines,\n",
    "also showing in a bottom panel the residual difference between the data in the left operand and the reference data in the right operand."
   ]
  },
  {
   "cell_type": "code",
   "execution_count": null,
   "id": "a4a25f13-95ff-4418-81dd-69018097cffd",
   "metadata": {},
   "outputs": [],
   "source": [
    "import numpy as np\n",
    "\n",
    "ref = pp.data.data1d()\n",
    "a = ref.copy()\n",
    "a.values += np.random.uniform(-0.25, 0.25, size=len(a))\n",
    "b = ref.copy()\n",
    "b.values += np.random.uniform(-1.0, 1.0, size=len(b))\n",
    "c = ref.copy()"
   ]
  },
  {
   "cell_type": "code",
   "execution_count": null,
   "id": "36b8fb67-01d1-4f1e-aef6-fb222a41c8cb",
   "metadata": {},
   "outputs": [],
   "source": [
    "n = pp.Node(ref)\n",
    "fig1 = pp.plot(n)\n",
    "fig2 = pp.plot({'a': a, 'b': b, 'c': c})\n",
    "\n",
    "fig2 - fig1"
   ]
  }
 ],
 "metadata": {
  "kernelspec": {
   "display_name": "Python 3 (ipykernel)",
   "language": "python",
   "name": "python3"
  },
  "language_info": {
   "codemirror_mode": {
    "name": "ipython",
    "version": 3
   },
   "file_extension": ".py",
   "mimetype": "text/x-python",
   "name": "python",
   "nbconvert_exporter": "python",
   "pygments_lexer": "ipython3"
  }
 },
 "nbformat": 4,
 "nbformat_minor": 5
}
