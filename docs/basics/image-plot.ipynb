{
 "cells": [
  {
   "cell_type": "markdown",
   "id": "7255f832-52e3-4003-a1a2-16c3846fe30b",
   "metadata": {},
   "source": [
    "# Image plot"
   ]
  },
  {
   "cell_type": "code",
   "execution_count": null,
   "id": "b39377b6-a67b-4f35-92bb-b0f9be2b0b0e",
   "metadata": {},
   "outputs": [],
   "source": [
    "import scipp as sc\n",
    "import plopp as pp"
   ]
  },
  {
   "cell_type": "markdown",
   "id": "8487626a-2461-40c2-b0cd-42c6f82c9fab",
   "metadata": {},
   "source": [
    "## Basic image plot"
   ]
  },
  {
   "cell_type": "code",
   "execution_count": null,
   "id": "5af375f3-655c-4466-ba56-00312dafc524",
   "metadata": {},
   "outputs": [],
   "source": [
    "da = pp.data.data2d()\n",
    "da.plot()"
   ]
  },
  {
   "cell_type": "markdown",
   "id": "61e7bfa7-2ed1-4365-8cae-a7400de0eedb",
   "metadata": {},
   "source": [
    "## Changing the colormap"
   ]
  },
  {
   "cell_type": "code",
   "execution_count": null,
   "id": "384a64a2-ed72-458d-b225-9e4fc189fae4",
   "metadata": {},
   "outputs": [],
   "source": [
    "da.plot(cmap='magma')"
   ]
  },
  {
   "cell_type": "markdown",
   "id": "ff201109-0e55-442a-885d-3535e702b6de",
   "metadata": {},
   "source": [
    "## Hiding the colorbar"
   ]
  },
  {
   "cell_type": "code",
   "execution_count": null,
   "id": "038fc044-5ea8-4356-bd5e-58915e1722b7",
   "metadata": {},
   "outputs": [],
   "source": [
    "da.plot(cbar=False)"
   ]
  },
  {
   "cell_type": "markdown",
   "id": "cd072ed8-a96d-48de-b901-cb724771c5ac",
   "metadata": {},
   "source": [
    "## Logarithmic colormap"
   ]
  },
  {
   "cell_type": "code",
   "execution_count": null,
   "id": "8ce7e964-f353-4c71-955e-cf5ead210cbd",
   "metadata": {},
   "outputs": [],
   "source": [
    "da.plot(norm='log')"
   ]
  },
  {
   "cell_type": "markdown",
   "id": "f2330409-c8b2-47ec-9fe1-252cdbcc7472",
   "metadata": {},
   "source": [
    "## Logarithmic axes"
   ]
  },
  {
   "cell_type": "code",
   "execution_count": null,
   "id": "de9fe954-e38f-42ae-9128-790d7a602434",
   "metadata": {},
   "outputs": [],
   "source": [
    "da.plot(scale={'x': 'log'})"
   ]
  },
  {
   "cell_type": "markdown",
   "id": "ee75651d-93eb-490e-abfa-fc4fd4dd3428",
   "metadata": {},
   "source": [
    "## Setting the axes limits\n",
    "\n",
    "Setting the axes limits is done by simply slicing the data before plotting it:"
   ]
  },
  {
   "cell_type": "code",
   "execution_count": null,
   "id": "a430e707-71ad-4276-ae67-bf1caa989224",
   "metadata": {},
   "outputs": [],
   "source": [
    "pp.plot(da['x', :40]['y', 10:30])"
   ]
  },
  {
   "cell_type": "markdown",
   "id": "3e112469-76b6-4cdf-8494-9806e641fb25",
   "metadata": {},
   "source": [
    "## Setting the colorscale limits"
   ]
  },
  {
   "cell_type": "code",
   "execution_count": null,
   "id": "88a3b0b1-5aa2-4e87-a41c-7692cab93f56",
   "metadata": {},
   "outputs": [],
   "source": [
    "da.plot(vmin=sc.scalar(0, unit='m/s'), vmax=sc.scalar(0.5, unit='m/s'))"
   ]
  },
  {
   "cell_type": "markdown",
   "id": "d3939019-54a9-412e-a61a-51b3fd55700f",
   "metadata": {},
   "source": [
    "Note that if the unit in the supplied limits is not identical to the data units, an on-the-fly conversion is attempted.\n",
    "It is also possible to omit the units altogether, in which case it is assumed the unit is the same as the data unit."
   ]
  },
  {
   "cell_type": "code",
   "execution_count": null,
   "id": "ca223ae3-614c-4ee3-b38b-0e97d343e6b7",
   "metadata": {},
   "outputs": [],
   "source": [
    "da.plot(vmin=0, vmax=0.5)"
   ]
  },
  {
   "cell_type": "markdown",
   "id": "4905d6a7-d5b3-4665-b03b-4005685ffad1",
   "metadata": {},
   "source": [
    "## Masks on images"
   ]
  },
  {
   "cell_type": "code",
   "execution_count": null,
   "id": "8538b35f-a439-4b8a-84f7-e5a305bd3588",
   "metadata": {},
   "outputs": [],
   "source": [
    "da.masks['negative'] = da.data < sc.scalar(0, unit='m/s')\n",
    "da.plot()"
   ]
  },
  {
   "cell_type": "markdown",
   "id": "234f96fc-b05c-42e9-8443-67c8c8865560",
   "metadata": {},
   "source": [
    "## Using a non-dimension coordinate\n",
    "\n",
    "For a dimension of name `'x'`, Plopp will use the corresponding coordinate of name `'x'`.\n",
    "To use a different coordinate, use the `coords` argument."
   ]
  },
  {
   "cell_type": "code",
   "execution_count": null,
   "id": "1b1714d6-c981-4b9d-bdbb-f96ec32e1d5e",
   "metadata": {},
   "outputs": [],
   "source": [
    "da = pp.data.data2d()\n",
    "da.coords['x2'] = da.coords['x'] ** 2\n",
    "da.coords['y2'] = da.coords['y'] ** 2\n",
    "pp.plot(da, coords=['x2', 'y2'])"
   ]
  },
  {
   "cell_type": "markdown",
   "id": "b16b749d-0130-4ecf-964e-036d84a73317",
   "metadata": {},
   "source": [
    "Note that if no coordinate of name `'x'` exists, a dummy one will be generated using `scipp.arange`."
   ]
  }
 ],
 "metadata": {
  "kernelspec": {
   "display_name": "Python 3 (ipykernel)",
   "language": "python",
   "name": "python3"
  },
  "language_info": {
   "codemirror_mode": {
    "name": "ipython",
    "version": 3
   },
   "file_extension": ".py",
   "mimetype": "text/x-python",
   "name": "python",
   "nbconvert_exporter": "python",
   "pygments_lexer": "ipython3"
  }
 },
 "nbformat": 4,
 "nbformat_minor": 5
}
