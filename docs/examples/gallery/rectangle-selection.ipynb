{
 "cells": [
  {
   "cell_type": "markdown",
   "id": "da024b16-3a9d-4761-983b-ecb94ef192ad",
   "metadata": {},
   "source": [
    "# Rectangle selection\n",
    "\n",
    "In this example, we will use a custom drawing tool to draw rectangle on a 2D figure.\n",
    "The data inside the rectangles will be summed along the vertical dimension,\n",
    "and displayed on a one-dimensional plot below the image."
   ]
  },
  {
   "cell_type": "code",
   "execution_count": null,
   "id": "58d40a92-d9a9-47e9-9c2e-151d734c48df",
   "metadata": {},
   "outputs": [],
   "source": [
    "%matplotlib widget\n",
    "import plopp as pp\n",
    "import scipp as sc\n",
    "import numpy as np\n",
    "import mpltoolbox as tbx"
   ]
  },
  {
   "cell_type": "markdown",
   "id": "d252eb07-78fc-416b-addc-7b9f273ba7a8",
   "metadata": {},
   "source": [
    "We first generate some data that contains three bands of peaks that all have different spreads."
   ]
  },
  {
   "cell_type": "code",
   "execution_count": null,
   "id": "3c05fe5b-483a-438e-a7ba-a64b24a33b61",
   "metadata": {},
   "outputs": [],
   "source": [
    "npeaks = 200\n",
    "per_peak = 500\n",
    "spread = 30.0\n",
    "ny = 300\n",
    "nx = 300\n",
    "a = np.ones((ny, nx))\n",
    "\n",
    "xbins = np.arange(nx + 1)\n",
    "ybins = np.arange(ny + 1)\n",
    "for n in range(npeaks):\n",
    "    xc = np.random.random() * nx\n",
    "    yc = np.random.choice([ny / 4, ny / 2, 3 * ny / 4])\n",
    "    xy = np.random.normal(\n",
    "        loc=(xc, yc), scale=spread * np.random.random(), size=[per_peak, 2]\n",
    "    )\n",
    "    h, ye, xe = np.histogram2d(xy[:, 1], xy[:, 0], bins=(ybins, xbins))\n",
    "    a += h\n",
    "\n",
    "da = sc.DataArray(\n",
    "    data=sc.array(dims=['y', 'x'], values=a, unit='counts'),\n",
    "    coords={\n",
    "        'x': sc.array(dims=['x'], values=xbins, unit='cm'),\n",
    "        'y': sc.array(dims=['y'], values=ybins, unit='cm'),\n",
    "    },\n",
    ")"
   ]
  },
  {
   "cell_type": "markdown",
   "id": "402753eb-bb08-4e6c-9299-a021231010eb",
   "metadata": {},
   "source": [
    "We then construct our custom tool,\n",
    "using Mpltoolbox's [Rectangles tool](https://mpltoolbox.readthedocs.io/en/latest/rectangles.html),\n",
    "and inheriting from Plopp's\n",
    "[DrawingTool](https://scipp.github.io/plopp/about/generated/plopp.widgets.drawing.DrawingTool.html)."
   ]
  },
  {
   "cell_type": "code",
   "execution_count": null,
   "id": "5b3d6a70-8497-4a55-b3f4-0ad29d2b1f8c",
   "metadata": {},
   "outputs": [],
   "source": [
    "from plopp.widgets.drawing import DrawingTool\n",
    "from functools import partial\n",
    "from mpltoolbox import Rectangles\n",
    "\n",
    "\n",
    "def vertical_sum(da, rect_info):\n",
    "    \"\"\"\n",
    "    Function that slices the data according to the\n",
    "    rectangle size/position, and sums along the\n",
    "    vertical dimension.\n",
    "    \"\"\"\n",
    "    x = rect_info['x']\n",
    "    y = rect_info['y']\n",
    "    b = min(y['bottom'], y['top'])\n",
    "    t = max(y['bottom'], y['top'])\n",
    "    l = min(x['left'], x['right'])\n",
    "    r = max(x['left'], x['right'])\n",
    "    return da[y['dim'], b:t][x['dim'], l:r].sum(y['dim'])\n",
    "\n",
    "\n",
    "def _get_rect_info(artist, figure):\n",
    "    \"\"\"\n",
    "    Convert the raw rectangle info to a dict containing the dimensions of\n",
    "    each axis, and values with units.\n",
    "    \"\"\"\n",
    "    return lambda: {\n",
    "        'x': {\n",
    "            'dim': figure.canvas.dims['x'],\n",
    "            'left': sc.scalar(artist.xy[0], unit=figure.canvas.units['x']),\n",
    "            'right': sc.scalar(\n",
    "                artist.xy[0] + artist.width, unit=figure.canvas.units['x']\n",
    "            ),\n",
    "        },\n",
    "        'y': {\n",
    "            'dim': figure.canvas.dims['y'],\n",
    "            'bottom': sc.scalar(artist.xy[1], unit=figure.canvas.units['y']),\n",
    "            'top': sc.scalar(\n",
    "                artist.xy[1] + artist.height, unit=figure.canvas.units['y']\n",
    "            ),\n",
    "        },\n",
    "    }\n",
    "\n",
    "\n",
    "RectangleTool = partial(\n",
    "    DrawingTool, tool=Rectangles, get_artist_info=_get_rect_info, icon='vector-square'\n",
    ")"
   ]
  },
  {
   "cell_type": "markdown",
   "id": "e4671098-831c-4272-8174-725d006266e5",
   "metadata": {},
   "source": [
    "Finally, we create our visualization interface with two figures,\n",
    "adding our new tool to the toolbar."
   ]
  },
  {
   "cell_type": "code",
   "execution_count": null,
   "id": "6acd8916-8ba8-4065-9cbe-5d76a74ce281",
   "metadata": {},
   "outputs": [],
   "source": [
    "from plopp.widgets import Box\n",
    "\n",
    "data_node = pp.Node(da)\n",
    "\n",
    "f2d = pp.figure2d(data_node, norm='log')\n",
    "f1d = pp.figure1d()\n",
    "\n",
    "r = RectangleTool(figure=f2d, input_node=data_node, func=vertical_sum, destination=f1d)\n",
    "f2d.toolbar['roi'] = r\n",
    "\n",
    "box = Box([f2d, f1d])"
   ]
  },
  {
   "cell_type": "code",
   "execution_count": null,
   "id": "4b0f4619-6d13-4acf-867e-36ae9f234040",
   "metadata": {
    "nbsphinx": "hidden"
   },
   "outputs": [],
   "source": [
    "r.value = True\n",
    "\n",
    "r._tool.click(50, 200)\n",
    "r._tool.click(200, 250)\n",
    "r._tool.click(30, 50)\n",
    "r._tool.click(250, 170)\n",
    "\n",
    "from ipywidgets import HBox\n",
    "\n",
    "f1 = box[0]\n",
    "f1.children = [\n",
    "    f1.top_bar,\n",
    "    HBox([f1.left_bar, f1.canvas.to_image(), f1.right_bar]),\n",
    "    f1.bottom_bar,\n",
    "]\n",
    "f2 = box[1]\n",
    "f2.children = [\n",
    "    f2.top_bar,\n",
    "    HBox([f2.left_bar, f2.canvas.to_image(), f2.right_bar]),\n",
    "    f2.bottom_bar,\n",
    "]"
   ]
  },
  {
   "cell_type": "code",
   "execution_count": null,
   "id": "f0004b44-743b-473a-8276-4f438ba9f802",
   "metadata": {},
   "outputs": [],
   "source": [
    "box"
   ]
  },
  {
   "cell_type": "code",
   "execution_count": null,
   "id": "c5cf73d9-2a93-42c0-8854-944dcd9be1f8",
   "metadata": {},
   "outputs": [],
   "source": [
    "pp.show_graph(data_node)"
   ]
  },
  {
   "cell_type": "code",
   "execution_count": null,
   "id": "01b502c8-d10c-45ff-8447-a9fd7121781f",
   "metadata": {
    "nbsphinx": "hidden"
   },
   "outputs": [],
   "source": [
    "# This cell is used to generate the thumbnail for the docs gallery.\n",
    "# It is hidden from the online documentation.\n",
    "f2d.save('../../_static/gallery/rectangle-selection-thumbnail.png')"
   ]
  }
 ],
 "metadata": {
  "kernelspec": {
   "display_name": "Python 3 (ipykernel)",
   "language": "python",
   "name": "python3"
  },
  "language_info": {
   "codemirror_mode": {
    "name": "ipython",
    "version": 3
   },
   "file_extension": ".py",
   "mimetype": "text/x-python",
   "name": "python",
   "nbconvert_exporter": "python",
   "pygments_lexer": "ipython3"
  }
 },
 "nbformat": 4,
 "nbformat_minor": 5
}
