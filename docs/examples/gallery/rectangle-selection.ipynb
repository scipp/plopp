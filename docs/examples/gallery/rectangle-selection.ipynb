{
 "cells": [
  {
   "cell_type": "markdown",
   "id": "a6710959-ca10-43f1-8665-00aa95a553d2",
   "metadata": {},
   "source": [
    "# Rectangle selection"
   ]
  },
  {
   "cell_type": "code",
   "execution_count": null,
   "id": "8e575f74-2957-40ab-8cf1-46e66dafffd7",
   "metadata": {},
   "outputs": [],
   "source": [
    "%matplotlib widget\n",
    "import plopp as pp\n",
    "from plopp.widgets import ROITool, Box\n",
    "\n",
    "da = pp.data.data_array(ndim=2, binedges=True)\n",
    "\n",
    "\n",
    "def vertical_sum(da):\n",
    "    # Inside the selected region, sum data along y dimension\n",
    "    return da.sum(dim='y')\n",
    "\n",
    "p = pp.plot(da)\n",
    "fig1d = pp.figure1d()\n",
    "p.add_tool(ROITool, output_figure=fig1d, operation=vertical_sum)\n",
    "Box([p, fig1d])"
   ]
  },
  {
   "cell_type": "code",
   "execution_count": null,
   "id": "ba41ad9d-aa50-44b7-983a-f62b40b58cfe",
   "metadata": {
    "nbsphinx": "hidden"
   },
   "outputs": [],
   "source": [
    "import numpy as np\n",
    "from dataclasses import dataclass\n",
    "@dataclass\n",
    "class Event:\n",
    "    xdata: float\n",
    "    ydata: float\n",
    "    inaxes: int\n",
    "np.random.seed(20) # Fixed for reproducibility\n",
    "N = 3\n",
    "tool = p.toolbar['ROITool']\n",
    "for i in range(N):\n",
    "    mag = 40.0\n",
    "    tool.rects._make_new_patch(mag*np.random.random(), mag*np.random.random())\n",
    "    ev = Event(inaxes=p.ax, xdata=mag*np.random.random(), ydata=mag*np.random.random())\n",
    "    tool.rects._resize_patch(event=ev)\n",
    "    tool.rects._persist_patch(event=ev)"
   ]
  },
  {
   "cell_type": "code",
   "execution_count": null,
   "id": "24eb8887-af5a-4247-b674-992b430a6cf4",
   "metadata": {
    "nbsphinx": "hidden"
   },
   "outputs": [],
   "source": [
    "# This cell is used to generate the thumbnail for the docs gallery.\n",
    "# It is hidden from the online documentation.\n",
    "p.canvas.savefig('../../_static/gallery/rectangle-selection-thumbnail.png')"
   ]
  }
 ],
 "metadata": {
  "kernelspec": {
   "display_name": "Python 3 (ipykernel)",
   "language": "python",
   "name": "python3"
  },
  "language_info": {
   "codemirror_mode": {
    "name": "ipython",
    "version": 3
   },
   "file_extension": ".py",
   "mimetype": "text/x-python",
   "name": "python",
   "nbconvert_exporter": "python",
   "pygments_lexer": "ipython3",
   "version": "3.9.13"
  }
 },
 "nbformat": 4,
 "nbformat_minor": 5
}
