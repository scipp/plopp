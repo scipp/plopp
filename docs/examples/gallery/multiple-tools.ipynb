{
 "cells": [
  {
   "cell_type": "markdown",
   "id": "a91cf59c-d92b-4e65-a8ac-73c1112f063e",
   "metadata": {},
   "source": [
    "# Multiple tools\n",
    "\n",
    "This example shows how to add multiple interactive tools to the toolbar.\n",
    "We add both the `InspectTool` to inspect the `zz` dimension of the data,\n",
    "and the `LineCutTool` to draw cuts onto the image.\n",
    "\n",
    "Each tool requires a one-dimensional figure where it can display its results."
   ]
  },
  {
   "cell_type": "code",
   "execution_count": null,
   "id": "ceacd92f-efc4-4dd9-8d2b-04d61cc28705",
   "metadata": {},
   "outputs": [],
   "source": [
    "%matplotlib widget\n",
    "import plopp as pp\n",
    "import scipp as sc\n",
    "from plopp import widgets"
   ]
  },
  {
   "cell_type": "code",
   "execution_count": null,
   "id": "2ad3cf61-313e-4085-9e0b-6ea670340bb8",
   "metadata": {},
   "outputs": [],
   "source": [
    "# Create data\n",
    "da = pp.data.data_array(ndim=3, binedges=True)\n",
    "\n",
    "# Input node for raw data\n",
    "in_node = pp.input_node(da)\n",
    "# Apply sum along 'zz' dimension\n",
    "sum_node = pp.node(sc.sum, dim='zz')(in_node)\n",
    "# Main figure for image plot\n",
    "fig2d = pp.figure2d(sum_node)\n",
    "\n",
    "# Add inspection tool\n",
    "inspect_fig = pp.figure1d(title='Inspect')\n",
    "fig2d.add_tool(widgets.InspectTool, root_node=in_node, fig1d=inspect_fig)\n",
    "\n",
    "# Add line-cut tool\n",
    "cut_fig = pp.figure1d(title='Line cuts', ls='solid', marker=None)\n",
    "fig2d.add_tool(widgets.LineCutTool, fig1d=cut_fig)"
   ]
  },
  {
   "cell_type": "code",
   "execution_count": null,
   "id": "726b4190-bcd6-48e7-b682-da73f0832170",
   "metadata": {
    "nbsphinx": "hidden"
   },
   "outputs": [],
   "source": [
    "import numpy as np\n",
    "from dataclasses import dataclass\n",
    "\n",
    "np.random.seed(78)\n",
    "N = 3\n",
    "\n",
    "@dataclass\n",
    "class Event:\n",
    "    xdata: float\n",
    "    ydata: float\n",
    "\n",
    "tool = fig2d.toolbar['InspectTool']\n",
    "for i in range(N):\n",
    "    data = 30.0 * np.random.random(2)\n",
    "    tool.points._make_new_line(data[0], data[1])\n",
    "    tool.points._finalize_line(event=Event(xdata=data[0], ydata=data[1]))\n",
    "\n",
    "N = 2\n",
    "tool = fig2d.toolbar['LineCutTool']\n",
    "for i in range(N):\n",
    "    x = 30.0 * np.random.random(2)\n",
    "    y = 30.0 * np.random.random(2)\n",
    "    tool.lines._make_new_line(x[0], y[0])\n",
    "    l = tool.lines.lines[-1]\n",
    "    new_data = l.get_data()\n",
    "    new_data[0][-1] = x[1]\n",
    "    new_data[1][-1] = y[1]\n",
    "    l.set_data(new_data)\n",
    "    tool.lines._finalize_line(event=Event(xdata=x[1], ydata=y[1]))\n",
    "    \n",
    "def update(*figs):\n",
    "    from ipywidgets import HBox\n",
    "    for f in figs:\n",
    "        # f1 = pl.children[0]\n",
    "        f.children = [f.top_bar, HBox([f.left_bar, f.canvas.to_image(), f.right_bar]), f.bottom_bar]\n",
    "    # f2 = pl.children[1]\n",
    "    # f2.children = [f2.top_bar, HBox([f2.left_bar, f2.canvas.to_image(), f2.right_bar]), f2.bottom_bar]\n",
    "\n",
    "update(fig2d, inspect_fig, cut_fig)"
   ]
  },
  {
   "cell_type": "code",
   "execution_count": null,
   "id": "a8d77f5d-2117-4d37-8436-a78a3fbd1a1e",
   "metadata": {},
   "outputs": [],
   "source": [
    "# Display all three figures together\n",
    "widgets.Box([fig2d, inspect_fig, cut_fig])"
   ]
  },
  {
   "cell_type": "code",
   "execution_count": null,
   "id": "e31f516c-f99c-48f0-9735-643ae06550a4",
   "metadata": {
    "nbsphinx": "hidden"
   },
   "outputs": [],
   "source": [
    "# This cell is used to generate the thumbnail for the docs gallery.\n",
    "# It is hidden from the online documentation.\n",
    "fig2d.canvas.savefig('../../_static/gallery/multiple-tools-thumbnail.png')"
   ]
  }
 ],
 "metadata": {
  "kernelspec": {
   "display_name": "Python 3 (ipykernel)",
   "language": "python",
   "name": "python3"
  },
  "language_info": {
   "codemirror_mode": {
    "name": "ipython",
    "version": 3
   },
   "file_extension": ".py",
   "mimetype": "text/x-python",
   "name": "python",
   "nbconvert_exporter": "python",
   "pygments_lexer": "ipython3",
   "version": "3.9.13"
  }
 },
 "nbformat": 4,
 "nbformat_minor": 5
}
