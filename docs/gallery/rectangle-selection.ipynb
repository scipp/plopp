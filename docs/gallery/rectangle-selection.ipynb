{
 "cells": [
  {
   "cell_type": "markdown",
   "id": "0",
   "metadata": {
    "editable": true,
    "slideshow": {
     "slide_type": ""
    },
    "tags": []
   },
   "source": [
    "# Rectangle selection\n",
    "\n",
    "In this example, we will use a custom drawing tool to draw rectangles on a 2D figure.\n",
    "The data inside the rectangles will be summed along the vertical dimension,\n",
    "and displayed on a one-dimensional plot below the image."
   ]
  },
  {
   "cell_type": "code",
   "execution_count": null,
   "id": "1",
   "metadata": {
    "editable": true,
    "slideshow": {
     "slide_type": ""
    },
    "tags": []
   },
   "outputs": [],
   "source": [
    "%matplotlib widget\n",
    "import plopp as pp\n",
    "import scipp as sc"
   ]
  },
  {
   "cell_type": "markdown",
   "id": "2",
   "metadata": {},
   "source": [
    "We first generate some data that contains three bands of peaks that all have different spreads."
   ]
  },
  {
   "cell_type": "code",
   "execution_count": null,
   "id": "3",
   "metadata": {
    "editable": true,
    "slideshow": {
     "slide_type": ""
    },
    "tags": []
   },
   "outputs": [],
   "source": [
    "from plopp.data.examples import three_bands\n",
    "\n",
    "da = three_bands()"
   ]
  },
  {
   "cell_type": "markdown",
   "id": "4",
   "metadata": {},
   "source": [
    "We then construct our custom tool,\n",
    "using Mpltoolbox's [Rectangles tool](https://mpltoolbox.readthedocs.io/en/latest/rectangles.html),\n",
    "and inheriting from Plopp's\n",
    "[DrawingTool](https://scipp.github.io/plopp/about/generated/plopp.widgets.drawing.DrawingTool.html)."
   ]
  },
  {
   "cell_type": "code",
   "execution_count": null,
   "id": "5",
   "metadata": {},
   "outputs": [],
   "source": [
    "from plopp.widgets.drawing import DrawingTool\n",
    "from functools import partial\n",
    "from mpltoolbox import Rectangles\n",
    "\n",
    "\n",
    "def vertical_sum(da, rect_info):\n",
    "    \"\"\"\n",
    "    Function that slices the data according to the\n",
    "    rectangle size/position, and sums along the\n",
    "    vertical dimension.\n",
    "    \"\"\"\n",
    "    x = rect_info['x']\n",
    "    y = rect_info['y']\n",
    "    b = min(y['bottom'], y['top'])\n",
    "    t = max(y['bottom'], y['top'])\n",
    "    l = min(x['left'], x['right'])\n",
    "    r = max(x['left'], x['right'])\n",
    "    return da[y['dim'], b:t][x['dim'], l:r].sum(y['dim'])\n",
    "\n",
    "\n",
    "def _get_rect_info(artist, figure):\n",
    "    \"\"\"\n",
    "    Convert the raw rectangle info to a dict containing the dimensions of\n",
    "    each axis, and values with units.\n",
    "    \"\"\"\n",
    "    return lambda: {\n",
    "        'x': {\n",
    "            'dim': figure.canvas.dims['x'],\n",
    "            'left': sc.scalar(artist.xy[0], unit=figure.canvas.units['x']),\n",
    "            'right': sc.scalar(\n",
    "                artist.xy[0] + artist.width, unit=figure.canvas.units['x']\n",
    "            ),\n",
    "        },\n",
    "        'y': {\n",
    "            'dim': figure.canvas.dims['y'],\n",
    "            'bottom': sc.scalar(artist.xy[1], unit=figure.canvas.units['y']),\n",
    "            'top': sc.scalar(\n",
    "                artist.xy[1] + artist.height, unit=figure.canvas.units['y']\n",
    "            ),\n",
    "        },\n",
    "    }\n",
    "\n",
    "\n",
    "RectangleTool = partial(\n",
    "    DrawingTool, tool=Rectangles, get_artist_info=_get_rect_info, icon='vector-square'\n",
    ")"
   ]
  },
  {
   "cell_type": "markdown",
   "id": "6",
   "metadata": {},
   "source": [
    "Finally, we create our visualization interface with two figures,\n",
    "adding our new tool to the toolbar."
   ]
  },
  {
   "cell_type": "code",
   "execution_count": null,
   "id": "7",
   "metadata": {
    "editable": true,
    "slideshow": {
     "slide_type": ""
    },
    "tags": []
   },
   "outputs": [],
   "source": [
    "from plopp.widgets import Box\n",
    "\n",
    "data_node = pp.Node(da)\n",
    "\n",
    "f2d = pp.imagefigure(data_node, norm='log')\n",
    "f1d = pp.linefigure()\n",
    "\n",
    "r = RectangleTool(figure=f2d, input_node=data_node, func=vertical_sum, destination=f1d)\n",
    "f2d.toolbar['roi'] = r\n",
    "\n",
    "box = Box([f2d, f1d])"
   ]
  },
  {
   "cell_type": "code",
   "execution_count": null,
   "id": "8",
   "metadata": {
    "editable": true,
    "nbsphinx": "hidden",
    "slideshow": {
     "slide_type": ""
    },
    "tags": []
   },
   "outputs": [],
   "source": [
    "r.value = True\n",
    "r._tool.click(50, 200)\n",
    "r._tool.click(200, 250)\n",
    "r._tool.click(30, 50)\n",
    "r._tool.click(250, 170)"
   ]
  },
  {
   "cell_type": "code",
   "execution_count": null,
   "id": "9",
   "metadata": {},
   "outputs": [],
   "source": [
    "box"
   ]
  },
  {
   "cell_type": "code",
   "execution_count": null,
   "id": "10",
   "metadata": {},
   "outputs": [],
   "source": [
    "pp.show_graph(data_node)"
   ]
  },
  {
   "cell_type": "code",
   "execution_count": null,
   "id": "11",
   "metadata": {
    "editable": true,
    "nbsphinx": "hidden",
    "slideshow": {
     "slide_type": ""
    },
    "tags": []
   },
   "outputs": [],
   "source": [
    "# This cell is used to generate the thumbnail for the docs gallery.\n",
    "# It is hidden from the online documentation.\n",
    "f2d.save('../_static/gallery/rectangle-selection-thumbnail.png')"
   ]
  },
  {
   "cell_type": "markdown",
   "id": "12",
   "metadata": {},
   "source": [
    "## Advanced Feature - Merge All Drawings\n",
    "\n",
    "There is an extra node that contains all drawings as a dictionary <br>\n",
    "so that you can attach another node that uses all drawings at once.\n",
    "\n",
    "As an example, let's add another node that vertically sum all selected region <br>\n",
    "using `vertical_sum_all` in the following cell."
   ]
  },
  {
   "cell_type": "code",
   "execution_count": null,
   "id": "13",
   "metadata": {},
   "outputs": [],
   "source": [
    "def vertical_sum_all(da, rect_infos: dict):\n",
    "    \"\"\"\n",
    "    Function that slices the data according to the\n",
    "    rectangle size/position, and sums along the\n",
    "    vertical dimension.\n",
    "    \"\"\"\n",
    "    from functools import reduce\n",
    "    if len(rect_infos) > 0:\n",
    "        masks = [\n",
    "            (da.coords['x'] > max(rect_info['x']['left'], rect_info['x']['right']))\n",
    "            | (da.coords['x'] < min(rect_info['x']['left'], rect_info['x']['right']))\n",
    "            | (da.coords['y'] > max(rect_info['y']['bottom'], rect_info['y']['top']))\n",
    "            | (da.coords['y'] < min(rect_info['y']['bottom'], rect_info['y']['top']))\n",
    "            for rect_info in rect_infos.values()\n",
    "        ]\n",
    "        mask = reduce(lambda x, y: x & y, masks)\n",
    "        selected_sample_region = da.copy(deep=False)\n",
    "        selected_sample_region.masks['roi'] = mask['x', :-1]['y', :-1]\n",
    "        return selected_sample_region.sum(da.dims[-1])\n",
    "    else:\n",
    "        return da.sum(da.dims[-1])"
   ]
  },
  {
   "cell_type": "code",
   "execution_count": null,
   "id": "14",
   "metadata": {},
   "outputs": [],
   "source": [
    "from plopp.widgets import Box\n",
    "\n",
    "data_node = pp.Node(da)\n",
    "\n",
    "f2d = pp.imagefigure(data_node, norm='log')\n",
    "f1d = pp.linefigure(title=\"Vertical sum of individual selected regions\")\n",
    "\n",
    "r = RectangleTool(figure=f2d, input_node=data_node, func=vertical_sum, destination=f1d)\n",
    "# Attach another node to the all-drawings-node.\n",
    "merge_sum = pp.Node(vertical_sum_all)\n",
    "merge_sum.add_parents(data_node, r.all_drawings_node)\n",
    "f1d_merged = pp.linefigure(merge_sum, title='Vertical sum of all selected regions', grid=True)\n",
    "\n",
    "f2d.toolbar['roi'] = r\n",
    "\n",
    "box = Box([f2d, f1d, f1d_merged])"
   ]
  },
  {
   "cell_type": "code",
   "execution_count": null,
   "id": "15",
   "metadata": {
    "nbsphinx": "hidden"
   },
   "outputs": [],
   "source": [
    "r.value = True\n",
    "r._tool.click(50, 200)\n",
    "r._tool.click(200, 250)\n",
    "r._tool.click(30, 50)\n",
    "r._tool.click(250, 170)"
   ]
  },
  {
   "cell_type": "code",
   "execution_count": null,
   "id": "16",
   "metadata": {},
   "outputs": [],
   "source": [
    "box"
   ]
  },
  {
   "cell_type": "code",
   "execution_count": null,
   "id": "17",
   "metadata": {},
   "outputs": [],
   "source": [
    "pp.show_graph(data_node)"
   ]
  }
 ],
 "metadata": {
  "kernelspec": {
   "display_name": "plopp-dev-311",
   "language": "python",
   "name": "python3"
  },
  "language_info": {
   "codemirror_mode": {
    "name": "ipython",
    "version": 3
   },
   "file_extension": ".py",
   "mimetype": "text/x-python",
   "name": "python",
   "nbconvert_exporter": "python",
   "pygments_lexer": "ipython3",
   "version": "3.11.10"
  }
 },
 "nbformat": 4,
 "nbformat_minor": 5
}
