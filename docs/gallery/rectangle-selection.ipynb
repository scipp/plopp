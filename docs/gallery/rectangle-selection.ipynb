{
 "cells": [
  {
   "cell_type": "markdown",
   "id": "0",
   "metadata": {
    "editable": true,
    "slideshow": {
     "slide_type": ""
    },
    "tags": []
   },
   "source": [
    "# Rectangle selection\n",
    "\n",
    "In this example, we will use a custom drawing tool to draw rectangles on a 2D figure.\n",
    "The data inside the rectangles will be summed along the vertical dimension,\n",
    "and displayed on a one-dimensional plot below the image."
   ]
  },
  {
   "cell_type": "code",
   "execution_count": 1,
   "id": "1",
   "metadata": {
    "editable": true,
    "slideshow": {
     "slide_type": ""
    },
    "tags": []
   },
   "outputs": [],
   "source": [
    "%matplotlib widget\n",
    "import plopp as pp\n",
    "import scipp as sc"
   ]
  },
  {
   "cell_type": "markdown",
   "id": "2",
   "metadata": {},
   "source": [
    "We first generate some data that contains three bands of peaks that all have different spreads."
   ]
  },
  {
   "cell_type": "code",
   "execution_count": 2,
   "id": "3",
   "metadata": {
    "editable": true,
    "slideshow": {
     "slide_type": ""
    },
    "tags": []
   },
   "outputs": [],
   "source": [
    "from plopp.data.examples import three_bands\n",
    "\n",
    "da = three_bands()"
   ]
  },
  {
   "cell_type": "markdown",
   "id": "4",
   "metadata": {},
   "source": [
    "We then construct our custom tool,\n",
    "using Mpltoolbox's [Rectangles tool](https://mpltoolbox.readthedocs.io/en/latest/rectangles.html),\n",
    "and inheriting from Plopp's\n",
    "[DrawingTool](https://scipp.github.io/plopp/about/generated/plopp.widgets.drawing.DrawingTool.html)."
   ]
  },
  {
   "cell_type": "code",
   "execution_count": 3,
   "id": "5",
   "metadata": {},
   "outputs": [],
   "source": [
    "from plopp.widgets.drawing import DrawingTool\n",
    "from functools import partial\n",
    "from mpltoolbox import Rectangles\n",
    "\n",
    "\n",
    "def vertical_sum(da, rect_info):\n",
    "    \"\"\"\n",
    "    Function that slices the data according to the\n",
    "    rectangle size/position, and sums along the\n",
    "    vertical dimension.\n",
    "    \"\"\"\n",
    "    x = rect_info['x']\n",
    "    y = rect_info['y']\n",
    "    b = min(y['bottom'], y['top'])\n",
    "    t = max(y['bottom'], y['top'])\n",
    "    l = min(x['left'], x['right'])\n",
    "    r = max(x['left'], x['right'])\n",
    "    return da[y['dim'], b:t][x['dim'], l:r].sum(y['dim'])\n",
    "\n",
    "\n",
    "def _get_rect_info(artist, figure):\n",
    "    \"\"\"\n",
    "    Convert the raw rectangle info to a dict containing the dimensions of\n",
    "    each axis, and values with units.\n",
    "    \"\"\"\n",
    "    return lambda: {\n",
    "        'x': {\n",
    "            'dim': figure.canvas.dims['x'],\n",
    "            'left': sc.scalar(artist.xy[0], unit=figure.canvas.units['x']),\n",
    "            'right': sc.scalar(\n",
    "                artist.xy[0] + artist.width, unit=figure.canvas.units['x']\n",
    "            ),\n",
    "        },\n",
    "        'y': {\n",
    "            'dim': figure.canvas.dims['y'],\n",
    "            'bottom': sc.scalar(artist.xy[1], unit=figure.canvas.units['y']),\n",
    "            'top': sc.scalar(\n",
    "                artist.xy[1] + artist.height, unit=figure.canvas.units['y']\n",
    "            ),\n",
    "        },\n",
    "    }\n",
    "\n",
    "\n",
    "RectangleTool = partial(\n",
    "    DrawingTool, tool=Rectangles, get_artist_info=_get_rect_info, icon='vector-square'\n",
    ")"
   ]
  },
  {
   "cell_type": "markdown",
   "id": "6",
   "metadata": {},
   "source": [
    "Finally, we create our visualization interface with two figures,\n",
    "adding our new tool to the toolbar."
   ]
  },
  {
   "cell_type": "code",
   "execution_count": 4,
   "id": "7",
   "metadata": {
    "editable": true,
    "slideshow": {
     "slide_type": ""
    },
    "tags": []
   },
   "outputs": [],
   "source": [
    "from plopp.widgets import Box\n",
    "\n",
    "data_node = pp.Node(da)\n",
    "\n",
    "f2d = pp.imagefigure(data_node, norm='log')\n",
    "f1d = pp.linefigure()\n",
    "\n",
    "r = RectangleTool(figure=f2d, input_node=data_node, func=vertical_sum, destination=f1d)\n",
    "f2d.toolbar['roi'] = r\n",
    "\n",
    "box = Box([f2d, f1d])"
   ]
  },
  {
   "cell_type": "code",
   "execution_count": 5,
   "id": "8",
   "metadata": {
    "editable": true,
    "nbsphinx": "hidden",
    "slideshow": {
     "slide_type": ""
    },
    "tags": []
   },
   "outputs": [],
   "source": [
    "r.value = True\n",
    "r._tool.click(50, 200)\n",
    "r._tool.click(200, 250)\n",
    "r._tool.click(30, 50)\n",
    "r._tool.click(250, 170)"
   ]
  },
  {
   "cell_type": "code",
   "execution_count": 6,
   "id": "9",
   "metadata": {},
   "outputs": [
    {
     "data": {
      "application/vnd.jupyter.widget-view+json": {
       "model_id": "d10aef8eae194e93a90483f5c7c5b77d",
       "version_major": 2,
       "version_minor": 0
      },
      "text/plain": [
       "Box(children=(InteractiveFigure(children=(HBar(), HBar(children=(VBar(children=(Toolbar(children=(ButtonTool(i…"
      ]
     },
     "execution_count": 6,
     "metadata": {},
     "output_type": "execute_result"
    }
   ],
   "source": [
    "box"
   ]
  },
  {
   "cell_type": "code",
   "execution_count": 7,
   "id": "10",
   "metadata": {},
   "outputs": [
    {
     "data": {
      "image/svg+xml": [
       "<?xml version=\"1.0\" encoding=\"UTF-8\" standalone=\"no\"?>\n",
       "<!DOCTYPE svg PUBLIC \"-//W3C//DTD SVG 1.1//EN\"\n",
       " \"http://www.w3.org/Graphics/SVG/1.1/DTD/svg11.dtd\">\n",
       "<!-- Generated by graphviz version 11.0.0 (20240428.1522)\n",
       " -->\n",
       "<!-- Pages: 1 -->\n",
       "<svg width=\"372pt\" height=\"190pt\"\n",
       " viewBox=\"0.00 0.00 372.00 190.30\" xmlns=\"http://www.w3.org/2000/svg\" xmlns:xlink=\"http://www.w3.org/1999/xlink\">\n",
       "<g id=\"graph0\" class=\"graph\" transform=\"scale(1 1) rotate(0) translate(4 186.3)\">\n",
       "<polygon fill=\"white\" stroke=\"none\" points=\"-4,4 -4,-186.3 368,-186.3 368,4 -4,4\"/>\n",
       "<!-- ce14f6e644ad4a9c9004a90b1f24f266 -->\n",
       "<g id=\"node1\" class=\"node\">\n",
       "<title>ce14f6e644ad4a9c9004a90b1f24f266</title>\n",
       "<polygon fill=\"none\" stroke=\"black\" points=\"242.88,-182.3 121.12,-182.3 121.12,-157.8 242.88,-157.8 242.88,-182.3\"/>\n",
       "<text text-anchor=\"middle\" x=\"182\" y=\"-165\" font-family=\"Times,serif\" font-size=\"14.00\">Input &lt;DataArray&gt;</text>\n",
       "</g>\n",
       "<!-- 4da3ded715e04f76a544b9a7e8b64e19 -->\n",
       "<g id=\"node2\" class=\"node\">\n",
       "<title>4da3ded715e04f76a544b9a7e8b64e19</title>\n",
       "<polygon fill=\"none\" stroke=\"black\" points=\"94,-100.22 0,-100.22 0,-75.72 94,-75.72 94,-100.22\"/>\n",
       "<text text-anchor=\"middle\" x=\"47\" y=\"-82.92\" font-family=\"Times,serif\" font-size=\"14.00\">Output node 0</text>\n",
       "</g>\n",
       "<!-- ce14f6e644ad4a9c9004a90b1f24f266&#45;&gt;4da3ded715e04f76a544b9a7e8b64e19 -->\n",
       "<g id=\"edge2\" class=\"edge\">\n",
       "<title>ce14f6e644ad4a9c9004a90b1f24f266&#45;&gt;4da3ded715e04f76a544b9a7e8b64e19</title>\n",
       "<path fill=\"none\" stroke=\"black\" d=\"M162.37,-157.4C139.77,-144 102.43,-121.85 76.37,-106.4\"/>\n",
       "<polygon fill=\"black\" stroke=\"black\" points=\"78.34,-103.49 67.96,-101.4 74.77,-109.51 78.34,-103.49\"/>\n",
       "<text text-anchor=\"middle\" x=\"145.38\" y=\"-126.5\" font-family=\"Times,serif\" font-size=\"14.00\">arg_0</text>\n",
       "</g>\n",
       "<!-- bddb034362a64e4a9cade3d30d943513 -->\n",
       "<g id=\"node4\" class=\"node\">\n",
       "<title>bddb034362a64e4a9cade3d30d943513</title>\n",
       "<polygon fill=\"none\" stroke=\"black\" points=\"364,-100.22 270,-100.22 270,-75.72 364,-75.72 364,-100.22\"/>\n",
       "<text text-anchor=\"middle\" x=\"317\" y=\"-82.92\" font-family=\"Times,serif\" font-size=\"14.00\">Output node 1</text>\n",
       "</g>\n",
       "<!-- ce14f6e644ad4a9c9004a90b1f24f266&#45;&gt;bddb034362a64e4a9cade3d30d943513 -->\n",
       "<g id=\"edge3\" class=\"edge\">\n",
       "<title>ce14f6e644ad4a9c9004a90b1f24f266&#45;&gt;bddb034362a64e4a9cade3d30d943513</title>\n",
       "<path fill=\"none\" stroke=\"black\" d=\"M201.63,-157.4C224.23,-144 261.57,-121.85 287.63,-106.4\"/>\n",
       "<polygon fill=\"black\" stroke=\"black\" points=\"289.23,-109.51 296.04,-101.4 285.66,-103.49 289.23,-109.51\"/>\n",
       "<text text-anchor=\"middle\" x=\"272.38\" y=\"-126.5\" font-family=\"Times,serif\" font-size=\"14.00\">arg_0</text>\n",
       "</g>\n",
       "<!-- 28895d03d01046fb9932f4830d2d3a2b -->\n",
       "<g id=\"node7\" class=\"node\">\n",
       "<title>28895d03d01046fb9932f4830d2d3a2b</title>\n",
       "<ellipse fill=\"lightgrey\" stroke=\"lightgrey\" cx=\"182\" cy=\"-87.97\" rx=\"69.65\" ry=\"17.32\"/>\n",
       "<text text-anchor=\"middle\" x=\"182\" y=\"-82.92\" font-family=\"Times,serif\" font-size=\"14.00\">GraphicalView</text>\n",
       "</g>\n",
       "<!-- ce14f6e644ad4a9c9004a90b1f24f266&#45;&gt;28895d03d01046fb9932f4830d2d3a2b -->\n",
       "<g id=\"edge1\" class=\"edge\">\n",
       "<title>ce14f6e644ad4a9c9004a90b1f24f266&#45;&gt;28895d03d01046fb9932f4830d2d3a2b</title>\n",
       "<path fill=\"none\" stroke=\"black\" d=\"M182,-157.57C182,-147.07 182,-131.1 182,-117.21\"/>\n",
       "<polygon fill=\"black\" stroke=\"black\" points=\"185.5,-117.24 182,-107.24 178.5,-117.24 185.5,-117.24\"/>\n",
       "</g>\n",
       "<!-- 1c116e5a5fdd406393359b3f6dd7771a -->\n",
       "<g id=\"node6\" class=\"node\">\n",
       "<title>1c116e5a5fdd406393359b3f6dd7771a</title>\n",
       "<ellipse fill=\"lightgrey\" stroke=\"lightgrey\" cx=\"181\" cy=\"-17.32\" rx=\"69.65\" ry=\"17.32\"/>\n",
       "<text text-anchor=\"middle\" x=\"181\" y=\"-12.27\" font-family=\"Times,serif\" font-size=\"14.00\">GraphicalView</text>\n",
       "</g>\n",
       "<!-- 4da3ded715e04f76a544b9a7e8b64e19&#45;&gt;1c116e5a5fdd406393359b3f6dd7771a -->\n",
       "<g id=\"edge5\" class=\"edge\">\n",
       "<title>4da3ded715e04f76a544b9a7e8b64e19&#45;&gt;1c116e5a5fdd406393359b3f6dd7771a</title>\n",
       "<path fill=\"none\" stroke=\"black\" d=\"M69.73,-75.33C89.37,-65.26 118.21,-50.49 141.6,-38.51\"/>\n",
       "<polygon fill=\"black\" stroke=\"black\" points=\"142.93,-41.76 150.23,-34.09 139.74,-35.53 142.93,-41.76\"/>\n",
       "</g>\n",
       "<!-- fad405a9289e4a1690cb399e19914790 -->\n",
       "<g id=\"node3\" class=\"node\">\n",
       "<title>fad405a9289e4a1690cb399e19914790</title>\n",
       "<polygon fill=\"none\" stroke=\"black\" points=\"90.25,-182.3 3.75,-182.3 3.75,-157.8 90.25,-157.8 90.25,-182.3\"/>\n",
       "<text text-anchor=\"middle\" x=\"47\" y=\"-165\" font-family=\"Times,serif\" font-size=\"14.00\">Draw node 0</text>\n",
       "</g>\n",
       "<!-- fad405a9289e4a1690cb399e19914790&#45;&gt;4da3ded715e04f76a544b9a7e8b64e19 -->\n",
       "<g id=\"edge4\" class=\"edge\">\n",
       "<title>fad405a9289e4a1690cb399e19914790&#45;&gt;4da3ded715e04f76a544b9a7e8b64e19</title>\n",
       "<path fill=\"none\" stroke=\"black\" d=\"M47,-157.57C47,-145.75 47,-126.99 47,-112.07\"/>\n",
       "<polygon fill=\"black\" stroke=\"black\" points=\"50.5,-112.2 47,-102.2 43.5,-112.2 50.5,-112.2\"/>\n",
       "<text text-anchor=\"middle\" x=\"62.38\" y=\"-126.5\" font-family=\"Times,serif\" font-size=\"14.00\">arg_1</text>\n",
       "</g>\n",
       "<!-- bddb034362a64e4a9cade3d30d943513&#45;&gt;1c116e5a5fdd406393359b3f6dd7771a -->\n",
       "<g id=\"edge7\" class=\"edge\">\n",
       "<title>bddb034362a64e4a9cade3d30d943513&#45;&gt;1c116e5a5fdd406393359b3f6dd7771a</title>\n",
       "<path fill=\"none\" stroke=\"black\" d=\"M293.93,-75.33C273.99,-65.26 244.73,-50.49 220.99,-38.51\"/>\n",
       "<polygon fill=\"black\" stroke=\"black\" points=\"222.71,-35.46 212.21,-34.08 219.56,-41.71 222.71,-35.46\"/>\n",
       "</g>\n",
       "<!-- 903ab52e0da047a3910625372cf51a37 -->\n",
       "<g id=\"node5\" class=\"node\">\n",
       "<title>903ab52e0da047a3910625372cf51a37</title>\n",
       "<polygon fill=\"none\" stroke=\"black\" points=\"360.25,-182.3 273.75,-182.3 273.75,-157.8 360.25,-157.8 360.25,-182.3\"/>\n",
       "<text text-anchor=\"middle\" x=\"317\" y=\"-165\" font-family=\"Times,serif\" font-size=\"14.00\">Draw node 1</text>\n",
       "</g>\n",
       "<!-- 903ab52e0da047a3910625372cf51a37&#45;&gt;bddb034362a64e4a9cade3d30d943513 -->\n",
       "<g id=\"edge6\" class=\"edge\">\n",
       "<title>903ab52e0da047a3910625372cf51a37&#45;&gt;bddb034362a64e4a9cade3d30d943513</title>\n",
       "<path fill=\"none\" stroke=\"black\" d=\"M317,-157.57C317,-145.75 317,-126.99 317,-112.07\"/>\n",
       "<polygon fill=\"black\" stroke=\"black\" points=\"320.5,-112.2 317,-102.2 313.5,-112.2 320.5,-112.2\"/>\n",
       "<text text-anchor=\"middle\" x=\"332.38\" y=\"-126.5\" font-family=\"Times,serif\" font-size=\"14.00\">arg_1</text>\n",
       "</g>\n",
       "</g>\n",
       "</svg>\n"
      ],
      "text/plain": [
       "<graphviz.graphs.Digraph at 0x1263dfa10>"
      ]
     },
     "execution_count": 7,
     "metadata": {},
     "output_type": "execute_result"
    }
   ],
   "source": [
    "pp.show_graph(data_node)"
   ]
  },
  {
   "cell_type": "code",
   "execution_count": 8,
   "id": "11",
   "metadata": {
    "editable": true,
    "nbsphinx": "hidden",
    "slideshow": {
     "slide_type": ""
    },
    "tags": []
   },
   "outputs": [],
   "source": [
    "# This cell is used to generate the thumbnail for the docs gallery.\n",
    "# It is hidden from the online documentation.\n",
    "f2d.save('../_static/gallery/rectangle-selection-thumbnail.png')"
   ]
  },
  {
   "cell_type": "markdown",
   "id": "8360b83d",
   "metadata": {},
   "source": [
    "## Advanced Feature - Merge All Drawings\n",
    "\n",
    "There is an extra node that contains all drawings as a dictionary <br>\n",
    "so that you can attach another node that uses all drawings at once.\n",
    "\n",
    "As an example, let's add another node that vertically sum all selected region <br>\n",
    "using `vertical_sum_all` in the following cell."
   ]
  },
  {
   "cell_type": "code",
   "execution_count": 18,
   "id": "0222c8e9",
   "metadata": {},
   "outputs": [],
   "source": [
    "def vertical_sum_all(da, rect_infos: dict):\n",
    "    \"\"\"\n",
    "    Function that slices the data according to the\n",
    "    rectangle size/position, and sums along the\n",
    "    vertical dimension.\n",
    "    \"\"\"\n",
    "    from functools import reduce\n",
    "    if len(rect_infos) > 0:\n",
    "        masks = [\n",
    "            (da.coords['x'] > max(rect_info['x']['left'], rect_info['x']['right']))\n",
    "            | (da.coords['x'] < min(rect_info['x']['left'], rect_info['x']['right']))\n",
    "            | (da.coords['y'] > max(rect_info['y']['bottom'], rect_info['y']['top']))\n",
    "            | (da.coords['y'] < min(rect_info['y']['bottom'], rect_info['y']['top']))\n",
    "            for rect_info in rect_infos.values()\n",
    "        ]\n",
    "        mask = reduce(lambda x, y: x & y, masks)\n",
    "        selected_sample_region = da.copy(deep=False)\n",
    "        selected_sample_region.masks['roi'] = mask['x', :-1]['y', :-1]\n",
    "        return selected_sample_region.sum(da.dims[-1])\n",
    "    else:\n",
    "        return da.sum(da.dims[-1])"
   ]
  },
  {
   "cell_type": "code",
   "execution_count": 14,
   "id": "baaacc7a",
   "metadata": {},
   "outputs": [],
   "source": [
    "from plopp.widgets import Box\n",
    "\n",
    "data_node = pp.Node(da)\n",
    "\n",
    "f2d = pp.imagefigure(data_node, norm='log')\n",
    "f1d = pp.linefigure(title=\"Vertical sum of individual selected regions\")\n",
    "\n",
    "r = RectangleTool(figure=f2d, input_node=data_node, func=vertical_sum, destination=f1d)\n",
    "# Attach another node to the all-drawings-node.\n",
    "merge_sum = pp.Node(vertical_sum_all)\n",
    "merge_sum.add_parents(data_node, r.all_drawings_node)\n",
    "f1d_merged = pp.linefigure(merge_sum, title='Vertical sum of all selected regions', grid=True)\n",
    "\n",
    "f2d.toolbar['roi'] = r\n",
    "\n",
    "box = Box([f2d, f1d, f1d_merged])"
   ]
  },
  {
   "cell_type": "code",
   "execution_count": 15,
   "id": "8eac6929",
   "metadata": {},
   "outputs": [],
   "source": [
    "r.value = True\n",
    "r._tool.click(50, 200)\n",
    "r._tool.click(200, 250)\n",
    "r._tool.click(30, 50)\n",
    "r._tool.click(250, 170)"
   ]
  },
  {
   "cell_type": "code",
   "execution_count": 16,
   "id": "48b1863c",
   "metadata": {},
   "outputs": [
    {
     "data": {
      "application/vnd.jupyter.widget-view+json": {
       "model_id": "ad3e01cd1e244761998d3372b737ad3a",
       "version_major": 2,
       "version_minor": 0
      },
      "text/plain": [
       "Box(children=(InteractiveFigure(children=(HBar(), HBar(children=(VBar(children=(Toolbar(children=(ButtonTool(i…"
      ]
     },
     "execution_count": 16,
     "metadata": {},
     "output_type": "execute_result"
    }
   ],
   "source": [
    "box"
   ]
  },
  {
   "cell_type": "code",
   "execution_count": 17,
   "id": "f2f90191",
   "metadata": {},
   "outputs": [
    {
     "data": {
      "image/svg+xml": [
       "<?xml version=\"1.0\" encoding=\"UTF-8\" standalone=\"no\"?>\n",
       "<!DOCTYPE svg PUBLIC \"-//W3C//DTD SVG 1.1//EN\"\n",
       " \"http://www.w3.org/Graphics/SVG/1.1/DTD/svg11.dtd\">\n",
       "<!-- Generated by graphviz version 11.0.0 (20240428.1522)\n",
       " -->\n",
       "<!-- Pages: 1 -->\n",
       "<svg width=\"518pt\" height=\"190pt\"\n",
       " viewBox=\"0.00 0.00 517.65 190.30\" xmlns=\"http://www.w3.org/2000/svg\" xmlns:xlink=\"http://www.w3.org/1999/xlink\">\n",
       "<g id=\"graph0\" class=\"graph\" transform=\"scale(1 1) rotate(0) translate(4 186.3)\">\n",
       "<polygon fill=\"white\" stroke=\"none\" points=\"-4,4 -4,-186.3 513.65,-186.3 513.65,4 -4,4\"/>\n",
       "<!-- 863c2a594cb94ad4a8fc5f855b417687 -->\n",
       "<g id=\"node1\" class=\"node\">\n",
       "<title>863c2a594cb94ad4a8fc5f855b417687</title>\n",
       "<polygon fill=\"none\" stroke=\"black\" points=\"283.53,-182.3 161.78,-182.3 161.78,-157.8 283.53,-157.8 283.53,-182.3\"/>\n",
       "<text text-anchor=\"middle\" x=\"222.65\" y=\"-165\" font-family=\"Times,serif\" font-size=\"14.00\">Input &lt;DataArray&gt;</text>\n",
       "</g>\n",
       "<!-- 2c1dcc6cad9540898c59457d95365e09 -->\n",
       "<g id=\"node2\" class=\"node\">\n",
       "<title>2c1dcc6cad9540898c59457d95365e09</title>\n",
       "<polygon fill=\"none\" stroke=\"black\" points=\"127.53,-100.22 11.78,-100.22 11.78,-75.72 127.53,-75.72 127.53,-100.22\"/>\n",
       "<text text-anchor=\"middle\" x=\"69.65\" y=\"-82.92\" font-family=\"Times,serif\" font-size=\"14.00\">vertical_sum_all()</text>\n",
       "</g>\n",
       "<!-- 863c2a594cb94ad4a8fc5f855b417687&#45;&gt;2c1dcc6cad9540898c59457d95365e09 -->\n",
       "<g id=\"edge1\" class=\"edge\">\n",
       "<title>863c2a594cb94ad4a8fc5f855b417687&#45;&gt;2c1dcc6cad9540898c59457d95365e09</title>\n",
       "<path fill=\"none\" stroke=\"black\" d=\"M200.4,-157.4C174.45,-143.82 131.35,-121.26 101.77,-105.78\"/>\n",
       "<polygon fill=\"black\" stroke=\"black\" points=\"103.75,-102.87 93.27,-101.33 100.5,-109.07 103.75,-102.87\"/>\n",
       "<text text-anchor=\"middle\" x=\"179.03\" y=\"-126.5\" font-family=\"Times,serif\" font-size=\"14.00\">arg_0</text>\n",
       "</g>\n",
       "<!-- 9a27315d12bc47959e929a2c71b9644f -->\n",
       "<g id=\"node4\" class=\"node\">\n",
       "<title>9a27315d12bc47959e929a2c71b9644f</title>\n",
       "<polygon fill=\"none\" stroke=\"black\" points=\"397.65,-100.22 303.65,-100.22 303.65,-75.72 397.65,-75.72 397.65,-100.22\"/>\n",
       "<text text-anchor=\"middle\" x=\"350.65\" y=\"-82.92\" font-family=\"Times,serif\" font-size=\"14.00\">Output node 0</text>\n",
       "</g>\n",
       "<!-- 863c2a594cb94ad4a8fc5f855b417687&#45;&gt;9a27315d12bc47959e929a2c71b9644f -->\n",
       "<g id=\"edge3\" class=\"edge\">\n",
       "<title>863c2a594cb94ad4a8fc5f855b417687&#45;&gt;9a27315d12bc47959e929a2c71b9644f</title>\n",
       "<path fill=\"none\" stroke=\"black\" d=\"M224.99,-157.3C227.64,-146.97 232.94,-132.23 242.9,-123.3 245.29,-121.15 273.43,-112.22 300.35,-104\"/>\n",
       "<polygon fill=\"black\" stroke=\"black\" points=\"301.34,-107.36 309.89,-101.11 299.31,-100.66 301.34,-107.36\"/>\n",
       "<text text-anchor=\"middle\" x=\"258.03\" y=\"-126.5\" font-family=\"Times,serif\" font-size=\"14.00\">arg_0</text>\n",
       "</g>\n",
       "<!-- 1b9388eb41d8494ebd0859c4c04e904d -->\n",
       "<g id=\"node6\" class=\"node\">\n",
       "<title>1b9388eb41d8494ebd0859c4c04e904d</title>\n",
       "<polygon fill=\"none\" stroke=\"black\" points=\"509.65,-100.22 415.65,-100.22 415.65,-75.72 509.65,-75.72 509.65,-100.22\"/>\n",
       "<text text-anchor=\"middle\" x=\"462.65\" y=\"-82.92\" font-family=\"Times,serif\" font-size=\"14.00\">Output node 1</text>\n",
       "</g>\n",
       "<!-- 863c2a594cb94ad4a8fc5f855b417687&#45;&gt;1b9388eb41d8494ebd0859c4c04e904d -->\n",
       "<g id=\"edge2\" class=\"edge\">\n",
       "<title>863c2a594cb94ad4a8fc5f855b417687&#45;&gt;1b9388eb41d8494ebd0859c4c04e904d</title>\n",
       "<path fill=\"none\" stroke=\"black\" d=\"M242.38,-157.48C260.82,-147.13 289.42,-132.25 315.9,-123.3 354.85,-110.13 366.71,-115.06 406.65,-105.3 408.79,-104.77 410.97,-104.22 413.17,-103.65\"/>\n",
       "<polygon fill=\"black\" stroke=\"black\" points=\"414.01,-107.05 422.75,-101.06 412.18,-100.29 414.01,-107.05\"/>\n",
       "<text text-anchor=\"middle\" x=\"331.03\" y=\"-126.5\" font-family=\"Times,serif\" font-size=\"14.00\">arg_0</text>\n",
       "</g>\n",
       "<!-- 38e4be656d8249beace80fb6058fc8a4 -->\n",
       "<g id=\"node10\" class=\"node\">\n",
       "<title>38e4be656d8249beace80fb6058fc8a4</title>\n",
       "<ellipse fill=\"lightgrey\" stroke=\"lightgrey\" cx=\"215.65\" cy=\"-87.97\" rx=\"69.65\" ry=\"17.32\"/>\n",
       "<text text-anchor=\"middle\" x=\"215.65\" y=\"-82.92\" font-family=\"Times,serif\" font-size=\"14.00\">GraphicalView</text>\n",
       "</g>\n",
       "<!-- 863c2a594cb94ad4a8fc5f855b417687&#45;&gt;38e4be656d8249beace80fb6058fc8a4 -->\n",
       "<g id=\"edge4\" class=\"edge\">\n",
       "<title>863c2a594cb94ad4a8fc5f855b417687&#45;&gt;38e4be656d8249beace80fb6058fc8a4</title>\n",
       "<path fill=\"none\" stroke=\"black\" d=\"M221.65,-157.57C220.72,-146.97 219.3,-130.77 218.08,-116.79\"/>\n",
       "<polygon fill=\"black\" stroke=\"black\" points=\"221.6,-116.89 217.25,-107.23 214.63,-117.5 221.6,-116.89\"/>\n",
       "</g>\n",
       "<!-- 5510a75037a64c429275abbbf05d8971 -->\n",
       "<g id=\"node8\" class=\"node\">\n",
       "<title>5510a75037a64c429275abbbf05d8971</title>\n",
       "<ellipse fill=\"lightgrey\" stroke=\"lightgrey\" cx=\"69.65\" cy=\"-17.32\" rx=\"69.65\" ry=\"17.32\"/>\n",
       "<text text-anchor=\"middle\" x=\"69.65\" y=\"-12.27\" font-family=\"Times,serif\" font-size=\"14.00\">GraphicalView</text>\n",
       "</g>\n",
       "<!-- 2c1dcc6cad9540898c59457d95365e09&#45;&gt;5510a75037a64c429275abbbf05d8971 -->\n",
       "<g id=\"edge6\" class=\"edge\">\n",
       "<title>2c1dcc6cad9540898c59457d95365e09&#45;&gt;5510a75037a64c429275abbbf05d8971</title>\n",
       "<path fill=\"none\" stroke=\"black\" d=\"M69.65,-75.33C69.65,-67.35 69.65,-56.42 69.65,-46.27\"/>\n",
       "<polygon fill=\"black\" stroke=\"black\" points=\"73.15,-46.44 69.65,-36.44 66.15,-46.44 73.15,-46.44\"/>\n",
       "</g>\n",
       "<!-- 31b67c450e98405bac8054fb2b66fc56 -->\n",
       "<g id=\"node3\" class=\"node\">\n",
       "<title>31b67c450e98405bac8054fb2b66fc56</title>\n",
       "<polygon fill=\"none\" stroke=\"black\" points=\"114.4,-182.3 24.9,-182.3 24.9,-157.8 114.4,-157.8 114.4,-182.3\"/>\n",
       "<text text-anchor=\"middle\" x=\"69.65\" y=\"-165\" font-family=\"Times,serif\" font-size=\"14.00\">All Drawings</text>\n",
       "</g>\n",
       "<!-- 31b67c450e98405bac8054fb2b66fc56&#45;&gt;2c1dcc6cad9540898c59457d95365e09 -->\n",
       "<g id=\"edge5\" class=\"edge\">\n",
       "<title>31b67c450e98405bac8054fb2b66fc56&#45;&gt;2c1dcc6cad9540898c59457d95365e09</title>\n",
       "<path fill=\"none\" stroke=\"black\" d=\"M69.65,-157.57C69.65,-145.75 69.65,-126.99 69.65,-112.07\"/>\n",
       "<polygon fill=\"black\" stroke=\"black\" points=\"73.15,-112.2 69.65,-102.2 66.15,-112.2 73.15,-112.2\"/>\n",
       "<text text-anchor=\"middle\" x=\"85.03\" y=\"-126.5\" font-family=\"Times,serif\" font-size=\"14.00\">arg_1</text>\n",
       "</g>\n",
       "<!-- 5ab6eeefe3a54828947e7a102c1070be -->\n",
       "<g id=\"node9\" class=\"node\">\n",
       "<title>5ab6eeefe3a54828947e7a102c1070be</title>\n",
       "<ellipse fill=\"lightgrey\" stroke=\"lightgrey\" cx=\"406.65\" cy=\"-17.32\" rx=\"69.65\" ry=\"17.32\"/>\n",
       "<text text-anchor=\"middle\" x=\"406.65\" y=\"-12.27\" font-family=\"Times,serif\" font-size=\"14.00\">GraphicalView</text>\n",
       "</g>\n",
       "<!-- 9a27315d12bc47959e929a2c71b9644f&#45;&gt;5ab6eeefe3a54828947e7a102c1070be -->\n",
       "<g id=\"edge8\" class=\"edge\">\n",
       "<title>9a27315d12bc47959e929a2c71b9644f&#45;&gt;5ab6eeefe3a54828947e7a102c1070be</title>\n",
       "<path fill=\"none\" stroke=\"black\" d=\"M360.15,-75.33C367.27,-66.6 377.27,-54.33 386.18,-43.41\"/>\n",
       "<polygon fill=\"black\" stroke=\"black\" points=\"388.75,-45.8 392.36,-35.84 383.33,-41.38 388.75,-45.8\"/>\n",
       "</g>\n",
       "<!-- b3744228d8034051b5031d5dbe1d219d -->\n",
       "<g id=\"node5\" class=\"node\">\n",
       "<title>b3744228d8034051b5031d5dbe1d219d</title>\n",
       "<polygon fill=\"none\" stroke=\"black\" points=\"393.9,-182.3 307.4,-182.3 307.4,-157.8 393.9,-157.8 393.9,-182.3\"/>\n",
       "<text text-anchor=\"middle\" x=\"350.65\" y=\"-165\" font-family=\"Times,serif\" font-size=\"14.00\">Draw node 0</text>\n",
       "</g>\n",
       "<!-- b3744228d8034051b5031d5dbe1d219d&#45;&gt;9a27315d12bc47959e929a2c71b9644f -->\n",
       "<g id=\"edge7\" class=\"edge\">\n",
       "<title>b3744228d8034051b5031d5dbe1d219d&#45;&gt;9a27315d12bc47959e929a2c71b9644f</title>\n",
       "<path fill=\"none\" stroke=\"black\" d=\"M350.65,-157.57C350.65,-145.75 350.65,-126.99 350.65,-112.07\"/>\n",
       "<polygon fill=\"black\" stroke=\"black\" points=\"354.15,-112.2 350.65,-102.2 347.15,-112.2 354.15,-112.2\"/>\n",
       "<text text-anchor=\"middle\" x=\"366.03\" y=\"-126.5\" font-family=\"Times,serif\" font-size=\"14.00\">arg_1</text>\n",
       "</g>\n",
       "<!-- 1b9388eb41d8494ebd0859c4c04e904d&#45;&gt;5ab6eeefe3a54828947e7a102c1070be -->\n",
       "<g id=\"edge10\" class=\"edge\">\n",
       "<title>1b9388eb41d8494ebd0859c4c04e904d&#45;&gt;5ab6eeefe3a54828947e7a102c1070be</title>\n",
       "<path fill=\"none\" stroke=\"black\" d=\"M453.15,-75.33C446.03,-66.6 436.03,-54.33 427.12,-43.41\"/>\n",
       "<polygon fill=\"black\" stroke=\"black\" points=\"429.97,-41.38 420.94,-35.84 424.55,-45.8 429.97,-41.38\"/>\n",
       "</g>\n",
       "<!-- fae941230c534bdda63a08e637e5878b -->\n",
       "<g id=\"node7\" class=\"node\">\n",
       "<title>fae941230c534bdda63a08e637e5878b</title>\n",
       "<polygon fill=\"none\" stroke=\"black\" points=\"505.9,-182.3 419.4,-182.3 419.4,-157.8 505.9,-157.8 505.9,-182.3\"/>\n",
       "<text text-anchor=\"middle\" x=\"462.65\" y=\"-165\" font-family=\"Times,serif\" font-size=\"14.00\">Draw node 1</text>\n",
       "</g>\n",
       "<!-- fae941230c534bdda63a08e637e5878b&#45;&gt;1b9388eb41d8494ebd0859c4c04e904d -->\n",
       "<g id=\"edge9\" class=\"edge\">\n",
       "<title>fae941230c534bdda63a08e637e5878b&#45;&gt;1b9388eb41d8494ebd0859c4c04e904d</title>\n",
       "<path fill=\"none\" stroke=\"black\" d=\"M462.65,-157.57C462.65,-145.75 462.65,-126.99 462.65,-112.07\"/>\n",
       "<polygon fill=\"black\" stroke=\"black\" points=\"466.15,-112.2 462.65,-102.2 459.15,-112.2 466.15,-112.2\"/>\n",
       "<text text-anchor=\"middle\" x=\"478.03\" y=\"-126.5\" font-family=\"Times,serif\" font-size=\"14.00\">arg_1</text>\n",
       "</g>\n",
       "</g>\n",
       "</svg>\n"
      ],
      "text/plain": [
       "<graphviz.graphs.Digraph at 0x1269f0f10>"
      ]
     },
     "execution_count": 17,
     "metadata": {},
     "output_type": "execute_result"
    }
   ],
   "source": [
    "pp.show_graph(data_node)"
   ]
  }
 ],
 "metadata": {
  "kernelspec": {
   "display_name": "plopp-dev-311",
   "language": "python",
   "name": "python3"
  },
  "language_info": {
   "codemirror_mode": {
    "name": "ipython",
    "version": 3
   },
   "file_extension": ".py",
   "mimetype": "text/x-python",
   "name": "python",
   "nbconvert_exporter": "python",
   "pygments_lexer": "ipython3",
   "version": "3.11.10"
  }
 },
 "nbformat": 4,
 "nbformat_minor": 5
}
