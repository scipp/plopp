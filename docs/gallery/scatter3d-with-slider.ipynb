{
 "cells": [
  {
   "cell_type": "markdown",
   "id": "61e0babe-849c-4fac-a0ea-2fd82d7db326",
   "metadata": {},
   "source": [
    "# Scatter3d plot with slider\n",
    "\n",
    "In this example, we combine a three-dimensional scatter plot with a slider,\n",
    "which is used to navigate the time dimension of our data."
   ]
  },
  {
   "cell_type": "code",
   "execution_count": null,
   "id": "fe12dbfc-8ca7-4537-b185-3fe57db59d09",
   "metadata": {},
   "outputs": [],
   "source": [
    "import plopp as pp\n",
    "import plopp.widgets as pw\n",
    "import scipp as sc\n",
    "import numpy as np"
   ]
  },
  {
   "cell_type": "markdown",
   "id": "f99ea04f-3b3b-49df-b4a2-99aa9bd8090a",
   "metadata": {},
   "source": [
    "We first generate some data that represents events detected on a cylindrical detector panel,\n",
    "as a function of time."
   ]
  },
  {
   "cell_type": "code",
   "execution_count": null,
   "id": "9d367a8e-9587-4b46-bb74-9e4c8eaa60ef",
   "metadata": {},
   "outputs": [],
   "source": [
    "nphi = 100\n",
    "nz = 20\n",
    "nt = 50\n",
    "\n",
    "r = sc.scalar(10.0, unit='m')\n",
    "phi = sc.linspace('phi', 0, np.pi, nphi, unit='rad')\n",
    "z = sc.linspace('z', -3.0, 3.0, nz, unit='m')\n",
    "t = sc.linspace('time', 0.0, 6.0, 50, unit='s')\n",
    "\n",
    "x = r * sc.cos(phi)\n",
    "y = r * sc.sin(phi)\n",
    "\n",
    "h, _ = np.histogramdd(np.random.standard_normal(size=[10_000, 3]), bins=(nt, nz, nphi))\n",
    "a = sc.array(dims=['time', 'z', 'phi'], values=h, unit='counts')\n",
    "sizes = a.sizes.copy()\n",
    "del sizes['time']\n",
    "\n",
    "da = sc.DataArray(\n",
    "    data=a.flatten(dims=['z', 'phi'], to='pixel'),\n",
    "    coords={\n",
    "        'x': sc.broadcast(x, sizes=sizes).flatten(to='pixel'),\n",
    "        'y': sc.broadcast(z, sizes=sizes).flatten(to='pixel'),\n",
    "        'z': sc.broadcast(y, sizes=sizes).flatten(to='pixel'),\n",
    "        'time': t,\n",
    "    },\n",
    ")\n",
    "da"
   ]
  },
  {
   "cell_type": "markdown",
   "id": "604b3530-76e0-4fb0-88b3-a731ffb5a162",
   "metadata": {},
   "source": [
    "We then construct our interface with a slider,\n",
    "a node that slices our data at the index of the slider,\n",
    "and a `figure3d`."
   ]
  },
  {
   "cell_type": "code",
   "execution_count": null,
   "id": "7be6d610-c6c4-47b5-a7b1-5be4673a775d",
   "metadata": {},
   "outputs": [],
   "source": [
    "# Use Plopp's widget to slice dimensions\n",
    "slider = pw.SliceWidget(da, dims=['time'])\n",
    "slider_node = pp.widget_node(slider)\n",
    "\n",
    "slice_node = pw.slice_dims(data_array=da, slices=slider_node)\n",
    "\n",
    "fig = pp.figure3d(slice_node, pixel_size=0.3)\n",
    "\n",
    "# Set slider in the middle so panel isn't all dark\n",
    "slider.controls['time']['slider'].value = 23\n",
    "\n",
    "pp.widgets.Box([fig, slider])"
   ]
  },
  {
   "cell_type": "code",
   "execution_count": null,
   "id": "7e46c83c-9692-4ed3-b125-88c09ebaf76f",
   "metadata": {},
   "outputs": [],
   "source": [
    "pp.show_graph(fig)"
   ]
  }
 ],
 "metadata": {
  "kernelspec": {
   "display_name": "Python 3 (ipykernel)",
   "language": "python",
   "name": "python3"
  },
  "language_info": {
   "codemirror_mode": {
    "name": "ipython",
    "version": 3
   },
   "file_extension": ".py",
   "mimetype": "text/x-python",
   "name": "python",
   "nbconvert_exporter": "python",
   "pygments_lexer": "ipython3"
  }
 },
 "nbformat": 4,
 "nbformat_minor": 5
}
