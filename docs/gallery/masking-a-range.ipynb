{
 "cells": [
  {
   "cell_type": "markdown",
   "id": "0",
   "metadata": {
    "editable": true,
    "slideshow": {
     "slide_type": ""
    },
    "tags": []
   },
   "source": [
    "# Masking a range\n",
    "\n",
    "In this example, we will use a slider to mask data outside a selected range in a two-dimensional image.\n",
    "The data inside the range will be summed along the vertical dimension,\n",
    "and displayed as a one-dimensional plot below the image."
   ]
  },
  {
   "cell_type": "code",
   "execution_count": null,
   "id": "1",
   "metadata": {
    "editable": true,
    "slideshow": {
     "slide_type": ""
    },
    "tags": []
   },
   "outputs": [],
   "source": [
    "%matplotlib widget\n",
    "import plopp as pp\n",
    "import scipp as sc\n",
    "import ipywidgets as ipw"
   ]
  },
  {
   "cell_type": "markdown",
   "id": "2",
   "metadata": {
    "editable": true,
    "slideshow": {
     "slide_type": ""
    },
    "tags": []
   },
   "source": [
    "We first generate some data that contains three bands of peaks that all have different spreads."
   ]
  },
  {
   "cell_type": "code",
   "execution_count": null,
   "id": "3",
   "metadata": {
    "editable": true,
    "slideshow": {
     "slide_type": ""
    },
    "tags": []
   },
   "outputs": [],
   "source": [
    "from plopp.data.examples import three_bands\n",
    "\n",
    "da = three_bands()"
   ]
  },
  {
   "cell_type": "markdown",
   "id": "4",
   "metadata": {
    "editable": true,
    "slideshow": {
     "slide_type": ""
    },
    "tags": []
   },
   "source": [
    "We then construct our interface with a slider, a node that adds a mask, and a node that sums the unmasked data along the `y` dimension."
   ]
  },
  {
   "cell_type": "code",
   "execution_count": null,
   "id": "5",
   "metadata": {
    "editable": true,
    "slideshow": {
     "slide_type": ""
    },
    "tags": []
   },
   "outputs": [],
   "source": [
    "ydim = 'y'\n",
    "\n",
    "\n",
    "@pp.node\n",
    "def add_mask(da, trunc_range):\n",
    "    \"\"\"A function that will add a mask outside of selected range.\"\"\"\n",
    "    min_tr, max_tr = trunc_range\n",
    "    out = da.copy(deep=False)\n",
    "    out.masks[ydim] = sc.zeros(sizes={ydim: da.sizes[ydim]}, dtype=bool)\n",
    "    out.masks[ydim].values[:min_tr] = True\n",
    "    out.masks[ydim].values[max_tr:] = True\n",
    "    return out\n",
    "\n",
    "\n",
    "# Make a range slider\n",
    "slider = ipw.IntRangeSlider(\n",
    "    max=da.sizes[ydim] - 1, description='y indices', layout={'width': '400px'}\n",
    ")\n",
    "slider_node = pp.widget_node(slider)\n",
    "\n",
    "# Add mask\n",
    "mask_node = add_mask(da, trunc_range=slider_node)\n",
    "\n",
    "# Node that sums along the y dimension\n",
    "sum_node = pp.Node(sc.sum, mask_node, dim=ydim)\n",
    "\n",
    "# Make figures\n",
    "image = pp.imagefigure(mask_node, logc=True)\n",
    "lines = pp.linefigure(sum_node, grid=True, ls='solid', marker='')\n",
    "ipw.VBox([slider, image, lines])"
   ]
  },
  {
   "cell_type": "code",
   "execution_count": null,
   "id": "6",
   "metadata": {
    "editable": true,
    "slideshow": {
     "slide_type": ""
    },
    "tags": []
   },
   "outputs": [],
   "source": [
    "pp.show_graph(lines)"
   ]
  },
  {
   "cell_type": "code",
   "execution_count": null,
   "id": "7",
   "metadata": {
    "editable": true,
    "nbsphinx": "hidden",
    "slideshow": {
     "slide_type": ""
    },
    "tags": []
   },
   "outputs": [],
   "source": [
    "# This cell is used to generate the thumbnail for the docs gallery.\n",
    "# It is hidden from the online documentation.\n",
    "image.save('../_static/gallery/masking-a-range-thumbnail.png')"
   ]
  }
 ],
 "metadata": {
  "kernelspec": {
   "display_name": "Python 3 (ipykernel)",
   "language": "python",
   "name": "python3"
  },
  "language_info": {
   "codemirror_mode": {
    "name": "ipython",
    "version": 3
   },
   "file_extension": ".py",
   "mimetype": "text/x-python",
   "name": "python",
   "nbconvert_exporter": "python",
   "pygments_lexer": "ipython3",
   "version": "3.10.14"
  }
 },
 "nbformat": 4,
 "nbformat_minor": 5
}
