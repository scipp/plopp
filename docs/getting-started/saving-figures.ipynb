{
 "cells": [
  {
   "cell_type": "markdown",
   "id": "0",
   "metadata": {},
   "source": [
    "# Saving figures to disk\n",
    "\n",
    "To save a figure to disk, the `save` method should be called on the figure after creation.\n",
    "Saving figures is available for one and two-dimensional figures.\n",
    "Possible file formats are `.png`, `.pdf`, `.jpg`, and `.svg`."
   ]
  },
  {
   "cell_type": "code",
   "execution_count": null,
   "id": "1",
   "metadata": {},
   "outputs": [],
   "source": [
    "import plopp as pp\n",
    "\n",
    "da1d = pp.data.data1d()\n",
    "f1d = pp.plot(da1d)\n",
    "f1d"
   ]
  },
  {
   "cell_type": "code",
   "execution_count": null,
   "id": "2",
   "metadata": {},
   "outputs": [],
   "source": [
    "f1d.save('fig.png')"
   ]
  },
  {
   "cell_type": "markdown",
   "id": "3",
   "metadata": {},
   "source": [
    "## A note on widgets\n",
    "\n",
    "When using the interactive plotting backend `%matplotlib widget`,\n",
    "a toolbar with buttons is displayed next to the figure in the notebook.\n",
    "These buttons will not be included when saving the figure to disk,\n",
    "only the graphics will make it to the file."
   ]
  },
  {
   "cell_type": "code",
   "execution_count": null,
   "id": "4",
   "metadata": {},
   "outputs": [],
   "source": [
    "%matplotlib widget\n",
    "da2d = pp.data.data2d()\n",
    "f2d = pp.plot(da2d)\n",
    "f2d"
   ]
  },
  {
   "cell_type": "code",
   "execution_count": null,
   "id": "5",
   "metadata": {},
   "outputs": [],
   "source": [
    "f2d.save('fig2d.pdf')"
   ]
  },
  {
   "cell_type": "markdown",
   "id": "6",
   "metadata": {},
   "source": [
    "## Saving 3D scatter plots\n",
    "\n",
    "<div class=\"versionadded\" style=\"font-weight: bold;\">\n",
    "\n",
    "<img src=\"../../_static/circle-exclamation.svg\" width=\"16\" height=\"16\" />\n",
    "&nbsp;\n",
    "New in version 23.02.0.\n",
    "\n",
    "</div>\n",
    "\n",
    "It also possible to save three-dimensional scatter plots to a standalone `.html` file."
   ]
  },
  {
   "cell_type": "code",
   "execution_count": null,
   "id": "7",
   "metadata": {},
   "outputs": [],
   "source": [
    "f3d = pp.scatter3d(pp.data.scatter(), pos='position', cbar=True)\n",
    "f3d.save('fig3d.html')"
   ]
  },
  {
   "cell_type": "markdown",
   "id": "8",
   "metadata": {},
   "source": [
    "Saving three-dimensional scatter plots to static (e.g. `.png` images) is currently not implemented.\n",
    "We recommend to take a static screenshot of the figure."
   ]
  }
 ],
 "metadata": {
  "kernelspec": {
   "display_name": "Python 3 (ipykernel)",
   "language": "python",
   "name": "python3"
  },
  "language_info": {
   "codemirror_mode": {
    "name": "ipython",
    "version": 3
   },
   "file_extension": ".py",
   "mimetype": "text/x-python",
   "name": "python",
   "nbconvert_exporter": "python",
   "pygments_lexer": "ipython3",
   "version": "3.11.9"
  }
 },
 "nbformat": 4,
 "nbformat_minor": 5
}
