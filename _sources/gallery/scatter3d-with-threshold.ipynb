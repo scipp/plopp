{
 "cells": [
  {
   "cell_type": "markdown",
   "id": "0",
   "metadata": {},
   "source": [
    "# 3-D scatter plot with threshold\n",
    "\n",
    "`scatter3d` may be used to visualize dense volumes of data.\n",
    "To make this useful, we may however need to hide data points that are zero or below a threshold.\n",
    "The following example demonstrates how this can be done using generic Scipp utilities.\n",
    "\n",
    "Consider the following 3-D volume data:"
   ]
  },
  {
   "cell_type": "code",
   "execution_count": null,
   "id": "1",
   "metadata": {},
   "outputs": [],
   "source": [
    "import scipp as sc\n",
    "import plopp as pp\n",
    "\n",
    "x = sc.linspace('x', 0.0, 10.0, num=40, unit='rad')\n",
    "y = sc.linspace('y', 0.0, 10.0, num=40, unit='rad')\n",
    "z = sc.linspace('z', 0.0, 10.0, num=40, unit='rad')\n",
    "\n",
    "da = sc.DataArray(sc.sin(x) * sc.sin(y) * sc.sin(z), coords={'x': x, 'y': y, 'z': z})\n",
    "da"
   ]
  },
  {
   "cell_type": "markdown",
   "id": "2",
   "metadata": {},
   "source": [
    "We can plot a slice in 2-D:"
   ]
  },
  {
   "cell_type": "code",
   "execution_count": null,
   "id": "3",
   "metadata": {},
   "outputs": [],
   "source": [
    "pp.plot(da['x', 2])"
   ]
  },
  {
   "cell_type": "markdown",
   "id": "4",
   "metadata": {},
   "source": [
    "A 3-D scatter plot is not directly useful in this case:"
   ]
  },
  {
   "cell_type": "code",
   "execution_count": null,
   "id": "5",
   "metadata": {},
   "outputs": [],
   "source": [
    "pp.scatter3d(da, x='x', y='y', z='z', figsize=(500, 500), size=0.15, cbar=True)"
   ]
  },
  {
   "cell_type": "markdown",
   "id": "6",
   "metadata": {},
   "source": [
    "We can use [scipp.flatten](https://scipp.github.io/generated/classes/scipp.DataArray.html?highlight=flatten) and [Boolean-variable indexing](https://scipp.github.io/user-guide/slicing.html#Boolean-variable-indexing) to apply a threshold, removing points with a value less than (in this case) `0.4`:"
   ]
  },
  {
   "cell_type": "code",
   "execution_count": null,
   "id": "7",
   "metadata": {},
   "outputs": [],
   "source": [
    "tmp = da.flatten(to='voxel')  # 3D -> 1D\n",
    "tmp = tmp[tmp.data > sc.scalar(0.4)]  # apply threshold\n",
    "\n",
    "pp.scatter3d(tmp, x='x', y='y', z='z', figsize=(500, 500), size=0.15, cbar=True)"
   ]
  }
 ],
 "metadata": {
  "kernelspec": {
   "display_name": "Python 3 (ipykernel)",
   "language": "python",
   "name": "python3"
  },
  "language_info": {
   "codemirror_mode": {
    "name": "ipython",
    "version": 3
   },
   "file_extension": ".py",
   "mimetype": "text/x-python",
   "name": "python",
   "nbconvert_exporter": "python",
   "pygments_lexer": "ipython3",
   "version": "3.11.9"
  }
 },
 "nbformat": 4,
 "nbformat_minor": 5
}
