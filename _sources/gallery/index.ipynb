{
 "cells": [
  {
   "cell_type": "markdown",
   "id": "0",
   "metadata": {
    "editable": true,
    "slideshow": {
     "slide_type": ""
    },
    "tags": []
   },
   "source": [
    "# Gallery"
   ]
  },
  {
   "cell_type": "markdown",
   "id": "1",
   "metadata": {
    "editable": true,
    "slideshow": {
     "slide_type": ""
    },
    "tags": [
     "nbsphinx-gallery"
    ]
   },
   "source": [
    "* [Interactive histogramming](nyc-taxi.ipynb)\n",
    "* [Masking a range](masking-a-range.ipynb)\n",
    "* [Rectangle selection](rectangle-selection.ipynb)\n",
    "* [3-D scatter plot with threshold](scatter3d-with-threshold.ipynb)\n",
    "* [3-D scatter plot with slider](scatter3d-with-slider.ipynb)\n",
    "* [Interactive masking](interactive-masking.ipynb)\n",
    "* [Peeling off the layers](peeling-layers.ipynb)\n",
    "* [Tiled random sample histograms](tiled-random-samples.ipynb)\n",
    "* [Polar plots](polar-plots.ipynb)\n",
    "* [Updating scatter points](updating-scatter.ipynb)\n",
    "* [Streaming events to a plot](streaming-plot.ipynb)"
   ]
  }
 ],
 "metadata": {
  "kernelspec": {
   "display_name": "Python 3 (ipykernel)",
   "language": "python",
   "name": "python3"
  },
  "language_info": {
   "codemirror_mode": {
    "name": "ipython",
    "version": 3
   },
   "file_extension": ".py",
   "mimetype": "text/x-python",
   "name": "python",
   "nbconvert_exporter": "python",
   "pygments_lexer": "ipython3"
  }
 },
 "nbformat": 4,
 "nbformat_minor": 5
}
