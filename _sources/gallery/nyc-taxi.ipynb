{
 "cells": [
  {
   "cell_type": "markdown",
   "id": "0",
   "metadata": {},
   "source": [
    "# Interactive histogramming\n",
    "\n",
    "In this example, we have a dataset which contains information about the number of taxi ride drop-offs in New York City in the year 2015.\n",
    "The raw data (obtained from the [Vaex documentation](https://vaex.readthedocs.io/en/latest/datasets.html))\n",
    "has been histogrammed into three dimensions: latitude, longitude and hour-of-the-day.\n",
    "\n",
    "The goal is to create an interactive visualization with on-the-fly histogramming and smoothing.\n",
    "It will contain:\n",
    "\n",
    "- a central 2D image that shows a longitude-latitude map of the drop-offs, for a single hour-of-the-day slice.\n",
    "- a slider above the main panel which allows to navigate the hour-of-the-day dimension, updating the 2D map.\n",
    "- a 1D figure below the 2D map, displaying the same data but summed along the latitude dimension.\n",
    "- in the 1D panel, we also want to add a gaussian smoothed version of the 1D curve."
   ]
  },
  {
   "cell_type": "code",
   "execution_count": null,
   "id": "1",
   "metadata": {},
   "outputs": [],
   "source": [
    "%matplotlib widget\n",
    "import scipp as sc\n",
    "import plopp as pp\n",
    "from plopp import widgets\n",
    "from plopp.data import examples\n",
    "from scipp.scipy.ndimage import gaussian_filter\n",
    "import ipywidgets as ipw\n",
    "\n",
    "data = sc.io.load_hdf5(examples.nyc_taxi())\n",
    "data"
   ]
  },
  {
   "cell_type": "code",
   "execution_count": null,
   "id": "2",
   "metadata": {},
   "outputs": [],
   "source": [
    "# Slider node that provides index to slice\n",
    "slider = ipw.IntSlider(description='Hour:', min=0, max=23)\n",
    "slider_node = pp.widget_node(slider)\n",
    "\n",
    "# Node that actually does the slicing\n",
    "slice_node = pp.Node(lambda da, ind: da['hour', ind], da=data, ind=slider_node)\n",
    "\n",
    "# Add a 2D figure to show the NYC map\n",
    "fig2d = pp.imagefigure(slice_node, norm='log')\n",
    "\n",
    "# Add a node after the slicing to sum along the latitude dimension\n",
    "sum_lat = pp.Node(sc.sum, slice_node, dim='latitude')\n",
    "\n",
    "# Add a node after the sum that performs as Gaussian smoothing\n",
    "smooth = pp.Node(gaussian_filter, sum_lat, sigma=5)\n",
    "\n",
    "# Add a 1D figure that will display both raw sum and smoothed data\n",
    "fig1d = pp.linefigure(sum_lat, smooth, norm='log')\n",
    "\n",
    "widgets.Box([slider, fig2d, fig1d])  # Container box"
   ]
  },
  {
   "cell_type": "markdown",
   "id": "3",
   "metadata": {},
   "source": [
    "Below is a preview of the graph of connected nodes:"
   ]
  },
  {
   "cell_type": "code",
   "execution_count": null,
   "id": "4",
   "metadata": {},
   "outputs": [],
   "source": [
    "pp.show_graph(fig1d)"
   ]
  },
  {
   "cell_type": "code",
   "execution_count": null,
   "id": "5",
   "metadata": {
    "nbsphinx": "hidden"
   },
   "outputs": [],
   "source": [
    "# This cell is used to generate the thumbnail for the docs gallery.\n",
    "# It is hidden from the online documentation.\n",
    "fig2d.ax.set_aspect('equal')\n",
    "fig2d.save('../_static/gallery/nyc-taxi-thumbnail.png')"
   ]
  }
 ],
 "metadata": {
  "kernelspec": {
   "display_name": "Python 3 (ipykernel)",
   "language": "python",
   "name": "python3"
  },
  "language_info": {
   "codemirror_mode": {
    "name": "ipython",
    "version": 3
   },
   "file_extension": ".py",
   "mimetype": "text/x-python",
   "name": "python",
   "nbconvert_exporter": "python",
   "pygments_lexer": "ipython3"
  }
 },
 "nbformat": 4,
 "nbformat_minor": 5
}
