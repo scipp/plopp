{
 "cells": [
  {
   "cell_type": "markdown",
   "id": "0",
   "metadata": {
    "editable": true,
    "slideshow": {
     "slide_type": ""
    },
    "tags": []
   },
   "source": [
    "# Peeling off the layers\n",
    "\n",
    "This example uses thresholds to select two different ranges of values in the data,\n",
    "and display them on the same scatter plot using a lower opacity for the outer layer,\n",
    "revealing the inside of the clusters."
   ]
  },
  {
   "cell_type": "code",
   "execution_count": null,
   "id": "1",
   "metadata": {
    "editable": true,
    "slideshow": {
     "slide_type": ""
    },
    "tags": []
   },
   "outputs": [],
   "source": [
    "import plopp as pp\n",
    "import scipp as sc"
   ]
  },
  {
   "cell_type": "markdown",
   "id": "2",
   "metadata": {
    "editable": true,
    "slideshow": {
     "slide_type": ""
    },
    "tags": []
   },
   "source": [
    "We first generate some fake data, meant to represent clusters of points in a three-dimensional space.\n",
    "\n",
    "The data values scale with $1/r^{2}$ where $r$ is the distance to the center of each cluster."
   ]
  },
  {
   "cell_type": "code",
   "execution_count": null,
   "id": "3",
   "metadata": {
    "editable": true,
    "slideshow": {
     "slide_type": ""
    },
    "tags": []
   },
   "outputs": [],
   "source": [
    "from plopp.data.examples import clusters3d\n",
    "\n",
    "da = clusters3d()"
   ]
  },
  {
   "cell_type": "markdown",
   "id": "4",
   "metadata": {
    "editable": true,
    "slideshow": {
     "slide_type": ""
    },
    "tags": []
   },
   "source": [
    "We select two data ranges (high values and low values),\n",
    "and display both at the same time,\n",
    "lowering the opacity of the low-value data range."
   ]
  },
  {
   "cell_type": "code",
   "execution_count": null,
   "id": "5",
   "metadata": {
    "editable": true,
    "slideshow": {
     "slide_type": ""
    },
    "tags": []
   },
   "outputs": [],
   "source": [
    "# Select ranges\n",
    "a = da[da.data > sc.scalar(0.05)]\n",
    "b = da[(da.data > sc.scalar(0.002)) & (da.data < sc.scalar(0.005))]\n",
    "\n",
    "# Display both on the same scatter plot\n",
    "p = pp.scatter3d({'a': a, 'b': b}, pos='position', logc=True, cbar=True)\n",
    "\n",
    "# Extract the point clouds from the final plot and set a lower opacity on the second point cloud\n",
    "clouds = list(p.artists.values())\n",
    "clouds[1].opacity = 0.1\n",
    "\n",
    "p"
   ]
  }
 ],
 "metadata": {
  "kernelspec": {
   "display_name": "Python 3 (ipykernel)",
   "language": "python",
   "name": "python3"
  },
  "language_info": {
   "codemirror_mode": {
    "name": "ipython",
    "version": 3
   },
   "file_extension": ".py",
   "mimetype": "text/x-python",
   "name": "python",
   "nbconvert_exporter": "python",
   "pygments_lexer": "ipython3"
  }
 },
 "nbformat": 4,
 "nbformat_minor": 5
}
