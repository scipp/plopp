{
 "cells": [
  {
   "cell_type": "markdown",
   "id": "0",
   "metadata": {},
   "source": [
    "# Scatter3d plot with slider\n",
    "\n",
    "In this example, we combine a three-dimensional scatter plot with a slider,\n",
    "which is used to navigate the time dimension of our data."
   ]
  },
  {
   "cell_type": "code",
   "execution_count": null,
   "id": "1",
   "metadata": {},
   "outputs": [],
   "source": [
    "import plopp as pp\n",
    "import plopp.widgets as pw\n",
    "import scipp as sc\n",
    "import numpy as np"
   ]
  },
  {
   "cell_type": "markdown",
   "id": "2",
   "metadata": {},
   "source": [
    "## Generate data on a curved panel\n",
    "\n",
    "We first generate some data that represents events detected on a cylindrical detector panel,\n",
    "as a function of time."
   ]
  },
  {
   "cell_type": "code",
   "execution_count": null,
   "id": "3",
   "metadata": {},
   "outputs": [],
   "source": [
    "nphi = 100\n",
    "nz = 20\n",
    "nt = 50\n",
    "\n",
    "r = sc.scalar(10.0, unit='m')\n",
    "phi = sc.linspace('phi', 0, np.pi, nphi, unit='rad')\n",
    "z = sc.linspace('z', -3.0, 3.0, nz, unit='m')\n",
    "t = sc.linspace('time', 0.0, 6.0, 50, unit='s')\n",
    "\n",
    "x = r * sc.cos(phi)\n",
    "y = r * sc.sin(phi)\n",
    "\n",
    "h, _ = np.histogramdd(np.random.standard_normal(size=[10_000, 3]), bins=(nt, nz, nphi))\n",
    "a = sc.array(dims=['time', 'z', 'phi'], values=h, unit='counts')\n",
    "sizes = a.sizes.copy()\n",
    "del sizes['time']\n",
    "\n",
    "da = sc.DataArray(\n",
    "    data=a.flatten(dims=['z', 'phi'], to='pixel'),\n",
    "    coords={\n",
    "        'x': sc.broadcast(x, sizes=sizes).flatten(to='pixel'),\n",
    "        'y': sc.broadcast(z, sizes=sizes).flatten(to='pixel'),\n",
    "        'z': sc.broadcast(y, sizes=sizes).flatten(to='pixel'),\n",
    "        'time': t,\n",
    "    },\n",
    ")\n",
    "da"
   ]
  },
  {
   "cell_type": "markdown",
   "id": "4",
   "metadata": {},
   "source": [
    "## A slider selecting a single data slice\n",
    "\n",
    "We then construct our interface with a slider,\n",
    "a node that slices our data at the index of the slider,\n",
    "and a `scatter3dfigure`."
   ]
  },
  {
   "cell_type": "code",
   "execution_count": null,
   "id": "5",
   "metadata": {},
   "outputs": [],
   "source": [
    "# Use Plopp's widget to slice dimensions\n",
    "slider = pw.SliceWidget(da, dims=['time'])\n",
    "slider_node = pp.widget_node(slider)\n",
    "\n",
    "slice_node = pw.slice_dims(data_array=da, slices=slider_node)\n",
    "\n",
    "fig = pp.scatter3dfigure(slice_node, size=0.3, cbar=True)\n",
    "\n",
    "pp.widgets.Box([fig, slider])"
   ]
  },
  {
   "cell_type": "markdown",
   "id": "6",
   "metadata": {},
   "source": [
    "## A slider slicing out a range\n",
    "\n",
    "It is also possible to use a `RangeSliceWidget` to create a slider with two handles that selects a data range instead of slicing using a single index:"
   ]
  },
  {
   "cell_type": "code",
   "execution_count": null,
   "id": "7",
   "metadata": {},
   "outputs": [],
   "source": [
    "# Use Plopp's widget to slice dimensions\n",
    "slider = pw.RangeSliceWidget(da, dims=['time'])\n",
    "slider_node = pp.widget_node(slider)\n",
    "\n",
    "slice_node = pw.slice_dims(data_array=da, slices=slider_node)\n",
    "\n",
    "# Sum over the selected range of time dimension\n",
    "sum_slices = pp.Node(sc.sum, slice_node, dim='time')\n",
    "\n",
    "fig = pp.scatter3dfigure(sum_slices, size=0.3, cbar=True)\n",
    "\n",
    "pp.widgets.Box([fig, slider])"
   ]
  },
  {
   "cell_type": "code",
   "execution_count": null,
   "id": "8",
   "metadata": {},
   "outputs": [],
   "source": [
    "pp.show_graph(fig)"
   ]
  }
 ],
 "metadata": {
  "kernelspec": {
   "display_name": "Python 3 (ipykernel)",
   "language": "python",
   "name": "python3"
  },
  "language_info": {
   "codemirror_mode": {
    "name": "ipython",
    "version": 3
   },
   "file_extension": ".py",
   "mimetype": "text/x-python",
   "name": "python",
   "nbconvert_exporter": "python",
   "pygments_lexer": "ipython3"
  }
 },
 "nbformat": 4,
 "nbformat_minor": 5
}
