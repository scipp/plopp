{
 "cells": [
  {
   "cell_type": "markdown",
   "id": "0",
   "metadata": {
    "editable": true,
    "slideshow": {
     "slide_type": ""
    },
    "tags": []
   },
   "source": [
    "# Polar plots\n",
    "\n",
    "We leverage the [polar axes](https://matplotlib.org/stable/gallery/pie_and_polar_charts/polar_demo.html) functionality in Matplotlib to construct polar plots.\n",
    "\n",
    "## A simple polar plot"
   ]
  },
  {
   "cell_type": "code",
   "execution_count": null,
   "id": "1",
   "metadata": {
    "editable": true,
    "slideshow": {
     "slide_type": ""
    },
    "tags": []
   },
   "outputs": [],
   "source": [
    "%matplotlib inline\n",
    "import numpy as np\n",
    "import scipp as sc\n",
    "import plopp as pp\n",
    "import matplotlib.pyplot as plt\n",
    "plt.ioff()"
   ]
  },
  {
   "cell_type": "code",
   "execution_count": null,
   "id": "2",
   "metadata": {
    "editable": true,
    "slideshow": {
     "slide_type": ""
    },
    "tags": []
   },
   "outputs": [],
   "source": [
    "# Make some spiral data\n",
    "N = 150\n",
    "r = sc.linspace('theta', 0, 10, N, unit='m')\n",
    "theta = sc.linspace('theta', 0, 12, N, unit='rad')\n",
    "da = sc.DataArray(data=r, coords={'theta': theta})\n",
    "\n",
    "# Construct figure axes with Matplotlib\n",
    "fig, ax = plt.subplots(subplot_kw={'projection': 'polar'})\n",
    "\n",
    "# Make the plot and tweak the axes\n",
    "polar1d = pp.plot(da, ax=ax, grid=True)\n",
    "polar1d"
   ]
  },
  {
   "cell_type": "markdown",
   "id": "3",
   "metadata": {},
   "source": [
    "## Plotting a sector\n",
    "\n",
    "Plotting data whose angular coordinate does not wrap around $2\\pi$ is also possible."
   ]
  },
  {
   "cell_type": "code",
   "execution_count": null,
   "id": "4",
   "metadata": {},
   "outputs": [],
   "source": [
    "# Make data\n",
    "N = 50\n",
    "r = np.random.normal(loc=50, scale=5, size=N)\n",
    "theta = np.radians(np.linspace(180, 200, N))\n",
    "da = sc.DataArray(\n",
    "    data=sc.array(dims=['theta'], values=r, unit='m'),\n",
    "    coords={'theta': sc.array(dims=['theta'], values=theta, unit='rad')},\n",
    ")\n",
    "\n",
    "# Make axes and plot\n",
    "fig, ax = plt.subplots(subplot_kw={'projection': 'polar'})\n",
    "ax.set_rorigin(0)\n",
    "pp.plot(da, ax=ax, grid=True)"
   ]
  },
  {
   "cell_type": "markdown",
   "id": "5",
   "metadata": {},
   "source": [
    "## Polar image plots\n",
    "\n",
    "It is also possible to plot 2d data on polar axes:"
   ]
  },
  {
   "cell_type": "code",
   "execution_count": null,
   "id": "6",
   "metadata": {},
   "outputs": [],
   "source": [
    "da = pp.data.data2d(binedges=True, unit='K')\n",
    "da.coords['x'] = sc.linspace('x', 0, 2 * np.pi, da.sizes['x'] + 1, unit='rad')\n",
    "\n",
    "fig, ax = plt.subplots(subplot_kw={'projection': 'polar'})\n",
    "pp.plot(da, ax=ax)"
   ]
  },
  {
   "cell_type": "markdown",
   "id": "7",
   "metadata": {},
   "source": [
    "## Interactive polar plot\n",
    "\n",
    "It is also possible to use Plopp's interactive visualizations with supplied axes:"
   ]
  },
  {
   "cell_type": "code",
   "execution_count": null,
   "id": "8",
   "metadata": {},
   "outputs": [],
   "source": [
    "%matplotlib widget\n",
    "plt.ioff()  # Prevent the figure from showing up twice"
   ]
  },
  {
   "cell_type": "code",
   "execution_count": null,
   "id": "9",
   "metadata": {},
   "outputs": [],
   "source": [
    "# Make data\n",
    "N = 50\n",
    "r = np.random.normal(loc=50, scale=5, size=(N, N))\n",
    "theta = np.radians(np.linspace(180, 200, N))\n",
    "phi = np.radians(np.linspace(0, 90, N))\n",
    "da = sc.DataArray(\n",
    "    data=sc.array(dims=['phi', 'theta'], values=r, unit='m'),\n",
    "    coords={\n",
    "        'theta': sc.array(dims=['theta'], values=theta, unit='rad'),\n",
    "        'phi': sc.array(dims=['phi'], values=phi, unit='rad'),\n",
    "    },\n",
    ")\n",
    "\n",
    "# Make axes\n",
    "fig, ax = plt.subplots(subplot_kw={'projection': 'polar'})\n",
    "ax.set_rorigin(0)\n",
    "\n",
    "# Use slicer plot\n",
    "pp.slicer(da, ax=ax, grid=True, autoscale=False)"
   ]
  },
  {
   "cell_type": "code",
   "execution_count": null,
   "id": "10",
   "metadata": {
    "editable": true,
    "nbsphinx": "hidden",
    "slideshow": {
     "slide_type": ""
    },
    "tags": []
   },
   "outputs": [],
   "source": [
    "# This cell is used to generate the thumbnail for the docs gallery.\n",
    "# It is hidden from the online documentation.\n",
    "polar1d.save('../_static/gallery/polar-plots-thumbnail.png')"
   ]
  }
 ],
 "metadata": {
  "kernelspec": {
   "display_name": "Python 3 (ipykernel)",
   "language": "python",
   "name": "python3"
  },
  "language_info": {
   "codemirror_mode": {
    "name": "ipython",
    "version": 3
   },
   "file_extension": ".py",
   "mimetype": "text/x-python",
   "name": "python",
   "nbconvert_exporter": "python",
   "pygments_lexer": "ipython3"
  }
 },
 "nbformat": 4,
 "nbformat_minor": 5
}
