{
 "cells": [
  {
   "cell_type": "markdown",
   "id": "0",
   "metadata": {},
   "source": [
    "# Updating scatter points\n",
    "\n",
    "This notebook will show examples on how to update positions and colors of scatter points using interactive widgets."
   ]
  },
  {
   "cell_type": "code",
   "execution_count": null,
   "id": "1",
   "metadata": {},
   "outputs": [],
   "source": [
    "import plopp as pp\n",
    "import scipp as sc\n",
    "import ipywidgets as ipw\n",
    "\n",
    "%matplotlib widget\n",
    "\n",
    "a = pp.Node(pp.data.scatter())\n",
    "b = pp.Node(pp.data.scatter(seed=2) * 10.0)\n",
    "\n",
    "slider = ipw.FloatSlider(\n",
    "    min=0,\n",
    "    max=60,\n",
    "    value=30,\n",
    "    description='Position of orange group',\n",
    "    style={'description_width': 'initial'},\n",
    "    layout={'width': '500px'},\n",
    ")\n",
    "slider_node = pp.widget_node(slider)\n",
    "\n",
    "\n",
    "@pp.node\n",
    "def move(da, x):\n",
    "    out = da.copy(deep=False)\n",
    "    out.coords['x'] = da.coords['x'] + sc.scalar(x, unit=da.coords['x'].unit)\n",
    "    return out\n",
    "\n",
    "\n",
    "move_node = move(da=b, x=slider_node)\n",
    "\n",
    "f = pp.scatterfigure(a, move_node, cbar=False)\n",
    "f.bottom_bar.add(slider)\n",
    "f.canvas.xrange = [-40, 100]\n",
    "f"
   ]
  },
  {
   "cell_type": "code",
   "execution_count": null,
   "id": "2",
   "metadata": {},
   "outputs": [],
   "source": [
    "pp.show_graph(f)"
   ]
  },
  {
   "cell_type": "code",
   "execution_count": null,
   "id": "3",
   "metadata": {
    "nbsphinx": "hidden"
   },
   "outputs": [],
   "source": [
    "# This cell is used to generate the thumbnail for the docs gallery.\n",
    "# It is hidden from the online documentation.\n",
    "f.save('../_static/gallery/updating-scatter-thumbnail.png')"
   ]
  }
 ],
 "metadata": {
  "kernelspec": {
   "display_name": "Python 3 (ipykernel)",
   "language": "python",
   "name": "python3"
  },
  "language_info": {
   "codemirror_mode": {
    "name": "ipython",
    "version": 3
   },
   "file_extension": ".py",
   "mimetype": "text/x-python",
   "name": "python",
   "nbconvert_exporter": "python",
   "pygments_lexer": "ipython3"
  }
 },
 "nbformat": 4,
 "nbformat_minor": 5
}
